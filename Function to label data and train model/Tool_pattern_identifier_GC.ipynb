{
  "nbformat": 4,
  "nbformat_minor": 0,
  "metadata": {
    "colab": {
      "provenance": []
    },
    "kernelspec": {
      "name": "python3",
      "display_name": "Python 3"
    },
    "language_info": {
      "name": "python"
    },
    "accelerator": "GPU"
  },
  "cells": [
    {
      "cell_type": "markdown",
      "source": [
        "#Pattern identification tool\n",
        "\n",
        "Below are two modules that are useful together as a tool for the identification of graphical patterns, given from a module trained in the recognition of the main patterns of the financial market. On the one hand, there is a module that counts the number of patterns of a market in a specific period of time, in order to know the presence of a certain type of graphical pattern in a market. On the other hand, there is a module capable of recognizing in real time the presence of the requested pattern, for the latter makes use of an API."
      ],
      "metadata": {
        "id": "rBWHZVEzU_oN"
      }
    },
    {
      "cell_type": "markdown",
      "source": [
        "---"
      ],
      "metadata": {
        "id": "0I-BqVoIU9dv"
      }
    },
    {
      "cell_type": "code",
      "source": [
        "#@title Dependencies\n",
        "%%capture\n",
        "\n",
        "import pandas as pd;\n",
        "from tensorflow import keras;\n",
        "import numpy as np;\n",
        "import matplotlib.pyplot as plt;\n",
        "from pprint import PrettyPrinter;\n",
        "\n",
        "#Library for visualization of data on candlestick charts\n",
        "!pip install mpl_finance;\n",
        "import mpl_finance as mpf;"
      ],
      "metadata": {
        "id": "c7rs4SjBU6dt",
        "cellView": "form"
      },
      "execution_count": null,
      "outputs": []
    },
    {
      "cell_type": "code",
      "source": [
        "#Connection where the data and the trained model are located.\n",
        "#@title Path of model\n",
        "\n",
        "from google.colab import drive\n",
        "drive.mount('/content/drive')\n",
        "model_path = '/content/drive/MyDrive/Tesis de grado/CNN_model_pattern.h5' #@param {type: \"string\"}\n",
        "model = keras.models.load_model(model_path)"
      ],
      "metadata": {
        "colab": {
          "base_uri": "https://localhost:8080/"
        },
        "id": "T5eZQ60TqNpM",
        "outputId": "b768635c-1c3c-4580-d315-d7146bbdd5fe",
        "cellView": "form"
      },
      "execution_count": null,
      "outputs": [
        {
          "output_type": "stream",
          "name": "stdout",
          "text": [
            "Mounted at /content/drive\n"
          ]
        }
      ]
    },
    {
      "cell_type": "code",
      "source": [
        "#@title Useful functions\n",
        "\n",
        "window = 28\n",
        "# GAF function, converts a time series to a Gramian matrix.\n",
        "def serie_tiempo_gaf(serie,valueMax,valueMin):\n",
        "  if valueMax == valueMin:\n",
        "      mGaf = np.zeros((len(serie), len(serie)))\n",
        "  else:\n",
        "      serieNorm = np.array((serie-valueMin) / (valueMax-valueMin))\n",
        "      serieNormArc = np.arccos(serieNorm)\n",
        "      mGaf = np.zeros((len(serieNorm), len(serieNorm)))\n",
        "      for f in range(len(serieNorm)):\n",
        "          for c in range(len(serieNorm)):\n",
        "              mGaf[f, c] = np.cos(serieNormArc[f] + serieNormArc[c])\n",
        "  return mGaf\n",
        "\n",
        "\n",
        "# Function that receives a set of patterns with a predefined structure and that are converted through the GAF method.\n",
        "def create_gaf(serie_pattern):\n",
        "  data = serie_pattern.copy()\n",
        "  gaf = np.zeros((data.shape[0], data.shape[1], data.shape[1], data.shape[2]))\n",
        "  for i in range(data.shape[0]):\n",
        "      for c in range(data.shape[2]):\n",
        "          oneCat = data[i, :, c]\n",
        "          maxV = np.amax(oneCat)\n",
        "          minV = np.amin(oneCat)\n",
        "          result = serie_tiempo_gaf(oneCat, maxV, minV)\n",
        "          gaf[i, :, :, c] = result\n",
        "  return gaf\n",
        "\n",
        "\n",
        "# Function that returns a structured data series with the candlestick data for each pattern.\n",
        "def create_serie(df_pattern, max='max', min='min', open='open', close='close'):\n",
        "  total = int(df_pattern.shape[0] - window )\n",
        "  if total == 0 and df_pattern.shape[0] == window:\n",
        "    total = 1\n",
        "  serie = np.zeros((total, window, 4))\n",
        "  for N in range(total):\n",
        "    df = df_pattern.loc[(df_pattern.index >= (N)) & (df_pattern.index < (N + window))]\n",
        "    serie[N, :, 0] = df[open]\n",
        "    serie[N, :, 1] = df[max]\n",
        "    serie[N, :, 2] = df[min]\n",
        "    serie[N, :, 3] = df[close]\n",
        "  return serie\n",
        "\n",
        "# function to view candlestick chart of labeled pattern\n",
        "def pattern_show_image(signal, target, max='max', min='min', open='open', close='close'):           \n",
        "  fontsize=12\n",
        "  plt.rcParams['xtick.labelsize'] = fontsize  \n",
        "  plt.rcParams['ytick.labelsize'] = fontsize \n",
        "  plt.rcParams['axes.titlesize'] = fontsize           \n",
        "  fig = plt.figure(figsize=(8, 8))\n",
        "  ax = plt.subplot2grid((1, 1), (0, 0))           \n",
        "  ax.set_xticks(range(10))\n",
        "  ax.set_xticklabels(target.index)                     \n",
        "  arr = np.c_[range(target.shape[0]), target[[open, max, min, close]].values]\n",
        "  mpf.candlestick_ohlc(ax, arr, width=0.5, alpha=1, colordown='#ff1717', colorup='#53c156')          \n",
        "  locs, labels = plt.xticks() \n",
        "  plt.setp(labels , rotation = 45)\n",
        "  plt.grid()\n",
        "  ax.legend(loc = 'best', prop = {'size': fontsize})\n",
        "  title_name = signal\n",
        "  ax.set_title(title_name)\n",
        "  fig.subplots_adjust(bottom = 0.25)       \n",
        "  name = signal\n",
        "  plt.axis('off')\n",
        "  plt.show()\n",
        "\n"
      ],
      "metadata": {
        "id": "lis9197ZjmJA",
        "cellView": "form"
      },
      "execution_count": null,
      "outputs": []
    },
    {
      "cell_type": "markdown",
      "source": [
        "---"
      ],
      "metadata": {
        "id": "_aFWCDJvUxrN"
      }
    },
    {
      "cell_type": "markdown",
      "source": [
        "# Search by market\n",
        "Module to run the model trained on a data set of a specific market, in order to count the number of certain patterns that have more presence in a specific market."
      ],
      "metadata": {
        "id": "rPjKLFFqUrJn"
      }
    },
    {
      "cell_type": "code",
      "execution_count": null,
      "metadata": {
        "id": "m8MAiUzzTu3E",
        "colab": {
          "base_uri": "https://localhost:8080/",
          "height": 369
        },
        "outputId": "0a0f2776-0833-4fed-966e-0ecfa2e8abf6",
        "cellView": "form"
      },
      "outputs": [
        {
          "output_type": "stream",
          "name": "stdout",
          "text": [
            "Number of records:  210892\n",
            "Analyzing data...\n",
            "5550/5550 [==============================] - 19s 2ms/step\n",
            "Number of head and shoulder patterns identified:  3044\n",
            "Number of double-top patterns identified:  4420\n",
            "Elapsed time: 1110.9003853798 seconds.\n"
          ]
        },
        {
          "output_type": "display_data",
          "data": {
            "text/plain": [
              "<Figure size 432x288 with 1 Axes>"
            ],
            "image/png": "[encoded data removed]"
          },
          "metadata": {
            "needs_background": "light"
          }
        }
      ],
      "source": [
        "#@title Get information of data\n",
        "from time import time\n",
        "start_time = time()\n",
        "\n",
        "path_data = '/content/drive/MyDrive/Tesis de grado/datos/Datos sin procesar/QuantDataManager/last year/otros mercados/indices/LastYear-EUSIDXEUR-M1.csv' #@param {type: \"string\"}\n",
        "\n",
        "# Test data\n",
        "h = pd.read_csv(path_data,\n",
        "                header=0, names=[\"Date\",\"Time\",\"Open\",\"High\",\"Low\",\"Close\",\"Volume\"])\n",
        "\n",
        "copy = h.iloc[0:177600].copy() \n",
        "print(\"Number of records: \",h.index.stop)\n",
        "\n",
        "print(\"Analyzing data...\")\n",
        "copy = copy.reset_index()\n",
        "r= None\n",
        "prediction = None\n",
        "r = create_gaf(create_serie(copy, 'High', 'Low', 'Open','Close'))\n",
        "\n",
        "\n",
        "# Use of the trained model to evaluate the data\n",
        "prediction = model.predict(r)\n",
        "\n",
        "# Detection accuracy \n",
        "accuracy_data = 0.995\n",
        "\n",
        "# Configuration of the pattern to be identified\n",
        "cant_sh = 0\n",
        "cant_dt = 0\n",
        "pattern_to_detect = 's&h'\n",
        "types_pattern = {\n",
        "    's&h': 0,\n",
        "    'dt': 1\n",
        "}\n",
        "position_serie = types_pattern[pattern_to_detect]\n",
        "\n",
        "aux = 0\n",
        "for item in prediction:\n",
        "  if item[0] > accuracy_data:\n",
        "      cant_sh = cant_sh + 1\n",
        "  if item[1] > accuracy_data:\n",
        "      cant_dt = cant_dt + 1\n",
        "  #if item[position_serie] > accuracy_data:\n",
        "    #aux = aux + 1 \n",
        "\n",
        "# Number of patterns found in the data set\n",
        "print(\"Number of head and shoulder patterns identified: \",cant_sh)\n",
        "print(\"Number of double-top patterns identified: \",cant_dt)\n",
        "\n",
        "elapsed_time = time() - start_time\n",
        "print(\"Elapsed time: %0.10f seconds.\" % elapsed_time)\n",
        "\n",
        "x = ['head&shoulder', 'double-top']\n",
        "y = [cant_sh, cant_dt]\n",
        "\n",
        "plt.bar(x, y)\n",
        "plt.show()\n"
      ]
    },
    {
      "cell_type": "markdown",
      "source": [
        "---"
      ],
      "metadata": {
        "id": "7c5s3U31UiJL"
      }
    },
    {
      "cell_type": "markdown",
      "source": [
        "#Real-time pattern identification\n",
        "Module to identify a certain pattern chosen within a market. For this it communicates through an API with the data of a particular market and every minute with the new information about the formation of a new Japanese candlestick is analyzed for the possible presence of a pattern.\n",
        "Here we make use of the marketdata.trademade website, in order to obtain minute by minute the values of the new Japanese candle that has been formed in the market, for this is registered on the web to obtain an API key access and from this begins to make calls to continuously obtain the current state of the market from the current date indicated.\n",
        "In case of having an alternative data source it is only necessary to change the url associated with the new platform and configure the new api key of this one.\n",
        "In its specific use you can observe how minute by minute the possible identification of graphic patterns is analyzed. In case of being identified, the related information is printed. \n"
      ],
      "metadata": {
        "id": "VrWGw0GgUkzy"
      }
    },
    {
      "cell_type": "code",
      "source": [
        "#@title Connection with exchange 'marketdata.tradermade'\n",
        "from tensorflow.python.ops.array_ops import batch_matrix_set_diag_eager_fallback\n",
        "from time import time, sleep\n",
        "from datetime import datetime\n",
        "from datetime import timedelta\n",
        "import requests\n",
        "\n",
        "\n",
        "# Configuration variables on the API \n",
        "currency = 'EURUSD' #@param {type:string};\n",
        "api_key = \"******************\" #@param {type:string};\n",
        "time_str = '20-02-2023 11:23' #@param {type:string};\n",
        "date_format_str = '%d-%m-%Y %H:%M'\n",
        "\n",
        "given_time = datetime.strptime(time_str, date_format_str)\n",
        "accuracy_pattern = 0.95\n",
        "pattern_size = 28\n",
        "aux_windows_pattern = []\n",
        "\n",
        "# Type of pattern to be identified\n",
        "pattern_to_detect = 's&h'\n",
        "types_pattern = {\n",
        "    's&h': 0,\n",
        "    'dt': 1\n",
        "}\n",
        "position_serie = types_pattern[pattern_to_detect]\n",
        "\n",
        "cant_sh = 0\n",
        "cant_dt = 0\n",
        "\n",
        "# Market data are processed in this function, provided that there is a previous buffer of data to contain a pattern.\n",
        "# When the information is processed, the market data is transformed by GAF, then it goes through the trained model.\n",
        "# If a pattern is identified above the agreed upon presicion, it is reported and displayed on the screen.\n",
        "def build_data_predict(data):\n",
        "  if len(aux_windows_pattern) == pattern_size:\n",
        "    df = pd.DataFrame(aux_windows_pattern)\n",
        "    prediction = model.predict(create_gaf(create_serie(df,'high','low','open','close')))\n",
        "    if prediction[0][0] > accuracy_pattern or prediction[0][1] > accuracy_pattern:\n",
        "      print('Prediction of ',prediction[0][position_serie])\n",
        "      pattern_show_image('signal', df, 'high','low','open','close')\n",
        "      global cant_sh\n",
        "      global cant_dt\n",
        "      if prediction[0][0] > accuracy_pattern:\n",
        "        cant_sh = cant_sh + 1\n",
        "        print(\"New 'head and shoulders' chart pattern detected\")\n",
        "      else:\n",
        "        cant_dt = cant_dt + 1\n",
        "        print(\"New 'double-top' chart pattern detected\")\n",
        "    else:\n",
        "      print('Pattern not detect')\n",
        "    aux_windows_pattern.append(data)\n",
        "    aux_windows_pattern.pop(0)\n",
        "  else:\n",
        "    aux_windows_pattern.append(data)\n",
        "\n",
        "\n",
        "#seconds_array = []\n",
        "print(\"Starting to analyze data ...\")\n",
        "# Time loop, advancing one minute at a time and calling the API and entering the obtained data to a function.\n",
        "while True:\n",
        "    #test time start\n",
        "    start_time = time()\n",
        "\n",
        "    given_time = given_time + timedelta(minutes=1)\n",
        "    aux_date = str(given_time).replace(\" \", \"-\")\n",
        "    url = \"https://marketdata.tradermade.com/api/v1/minute_historical?currency=\"+str(currency)+\"&date_time=\"+str(aux_date[0:16])+\"&api_key=\"+str(api_key)\n",
        "    response = requests.get(url)\n",
        "    res = response.json()\n",
        "    #res = {'close': 0.98142, 'currency': 'EURUSD', 'date_time': '2022-10-20-11:24', 'endpoint': 'minute_historical', 'high': 0.98164, 'low': 0.98138, 'open': 0.98157, 'request_time': 'Sun, 23 Oct 2022 14:27:11 GMT'}\n",
        "    build_data_predict(res)\n",
        "\n",
        "    #test time finish\n",
        "    elapsed_time = time() - start_time\n",
        "    #print(\"Elapsed time: %0.10f seconds.\" % elapsed_time)\n",
        "    sleep(60)\n",
        "\n",
        "\n",
        "\n",
        "\n"
      ],
      "metadata": {
        "colab": {
          "base_uri": "https://localhost:8080/",
          "height": 269
        },
        "id": "8YMNF2KV_uml",
        "outputId": "e482a983-82b2-4006-c504-31ab3d2fd47d"
      },
      "execution_count": null,
      "outputs": [
        {
          "output_type": "stream",
          "name": "stdout",
          "text": [
            "Elapsed time: 0.4771835804 seconds.\n",
            "Elapsed time: 0.4651243687 seconds.\n"
          ]
        },
        {
          "output_type": "error",
          "ename": "KeyboardInterrupt",
          "evalue": "ignored",
          "traceback": [
            "\u001b[0;31m---------------------------------------------------------------------------\u001b[0m",
            "\u001b[0;31mKeyboardInterrupt\u001b[0m                         Traceback (most recent call last)",
            "\u001b[0;32m<ipython-input-4-64835adae5c0>\u001b[0m in \u001b[0;36m<module>\u001b[0;34m\u001b[0m\n\u001b[1;32m     79\u001b[0m \u001b[0;34m\u001b[0m\u001b[0m\n\u001b[1;32m     80\u001b[0m     \u001b[0;31m#if array have 60 , print, break\u001b[0m\u001b[0;34m\u001b[0m\u001b[0;34m\u001b[0m\u001b[0;34m\u001b[0m\u001b[0m\n\u001b[0;32m---> 81\u001b[0;31m     \u001b[0msleep\u001b[0m\u001b[0;34m(\u001b[0m\u001b[0;36m60\u001b[0m\u001b[0;34m)\u001b[0m\u001b[0;34m\u001b[0m\u001b[0;34m\u001b[0m\u001b[0m\n\u001b[0m\u001b[1;32m     82\u001b[0m \u001b[0;34m\u001b[0m\u001b[0m\n\u001b[1;32m     83\u001b[0m \u001b[0;34m\u001b[0m\u001b[0m\n",
            "\u001b[0;31mKeyboardInterrupt\u001b[0m: "
          ]
        }
      ]
    }
  ]
}