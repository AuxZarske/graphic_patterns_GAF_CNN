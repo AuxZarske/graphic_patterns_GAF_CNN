{
  "cells": [
    {
      "cell_type": "markdown",
      "metadata": {
        "id": "U-KVxZQR6vkH"
      },
      "source": [
        "# Import libraries and data\n",
        "\n",
        "First, it is connected to the repository where the data is stored, on the one hand the raw market data, from which the patterns are labeled. On the other hand, also to store the labeled patterns that will later be used to train a neural network.\n",
        "\n",
        "Next, the necessary libraries for data processing and visualization are imported."
      ]
    },
    {
      "cell_type": "code",
      "execution_count": null,
      "metadata": {
        "colab": {
          "base_uri": "https://localhost:8080/"
        },
        "id": "KTzWB0PF61mj",
        "outputId": "fe488d16-9c9a-4b3f-8431-4c7e695a074c"
      },
      "outputs": [
        {
          "output_type": "stream",
          "name": "stdout",
          "text": [
            "Mounted at /content/drive\n"
          ]
        }
      ],
      "source": [
        "# It connects to the repository to obtain the necessary data to be used throughout the execution of this google colab document.\n",
        "from google.colab import drive\n",
        "drive.mount('/content/drive')"
      ]
    },
    {
      "cell_type": "code",
      "execution_count": null,
      "metadata": {
        "id": "bXL0y2Y9tY99"
      },
      "outputs": [],
      "source": [
        "#Utils\n",
        "import pandas as pd\n",
        "import numpy as np\n",
        "import matplotlib.pyplot as plt\n",
        "import random\n",
        "from scipy import stats\n",
        "from sklearn.linear_model import LinearRegression"
      ]
    },
    {
      "cell_type": "code",
      "execution_count": null,
      "metadata": {
        "colab": {
          "base_uri": "https://localhost:8080/"
        },
        "id": "Tva4oB4cypd1",
        "outputId": "c726cd89-f5fc-4971-f9d1-cecf34e9dcfa"
      },
      "outputs": [
        {
          "output_type": "stream",
          "name": "stdout",
          "text": [
            "Looking in indexes: https://pypi.org/simple, https://us-python.pkg.dev/colab-wheels/public/simple/\n",
            "Collecting mpl_finance\n",
            "  Downloading mpl_finance-0.10.1-py3-none-any.whl (8.4 kB)\n",
            "Requirement already satisfied: matplotlib in /usr/local/lib/python3.7/dist-packages (from mpl_finance) (3.2.2)\n",
            "Requirement already satisfied: cycler>=0.10 in /usr/local/lib/python3.7/dist-packages (from matplotlib->mpl_finance) (0.11.0)\n",
            "Requirement already satisfied: python-dateutil>=2.1 in /usr/local/lib/python3.7/dist-packages (from matplotlib->mpl_finance) (2.8.2)\n",
            "Requirement already satisfied: numpy>=1.11 in /usr/local/lib/python3.7/dist-packages (from matplotlib->mpl_finance) (1.21.6)\n",
            "Requirement already satisfied: kiwisolver>=1.0.1 in /usr/local/lib/python3.7/dist-packages (from matplotlib->mpl_finance) (1.4.4)\n",
            "Requirement already satisfied: pyparsing!=2.0.4,!=2.1.2,!=2.1.6,>=2.0.1 in /usr/local/lib/python3.7/dist-packages (from matplotlib->mpl_finance) (3.0.9)\n",
            "Requirement already satisfied: typing-extensions in /usr/local/lib/python3.7/dist-packages (from kiwisolver>=1.0.1->matplotlib->mpl_finance) (4.1.1)\n",
            "Requirement already satisfied: six>=1.5 in /usr/local/lib/python3.7/dist-packages (from python-dateutil>=2.1->matplotlib->mpl_finance) (1.15.0)\n",
            "Installing collected packages: mpl-finance\n",
            "Successfully installed mpl-finance-0.10.1\n"
          ]
        }
      ],
      "source": [
        "#Library for visualization of data on candlestick charts\n",
        "!pip install mpl_finance\n",
        "import mpl_finance as mpf"
      ]
    },
    {
      "cell_type": "markdown",
      "source": [
        "\n",
        "\n",
        "---\n",
        "\n"
      ],
      "metadata": {
        "id": "9rno7dv95YJS"
      }
    },
    {
      "cell_type": "markdown",
      "metadata": {
        "id": "YwWz7W0b7Am1"
      },
      "source": [
        "# Extra functions\n",
        "\n",
        "Necessary functions are defined for the process of labeling the patterns and transforming them. On the one hand, the function \"pattern_show_image\" is used to observe the pattern identified from trend rules and to confirm visually by the user if it is correct or not. \n",
        "\n",
        "Then we present the function \"image_gaf\", which function is used to visualize the image obtained from a time series, using the Gramian Angular Field method.\n"
      ]
    },
    {
      "cell_type": "code",
      "execution_count": null,
      "metadata": {
        "id": "Eff5mktvqi7v",
        "colab": {
          "base_uri": "https://localhost:8080/",
          "height": 303
        },
        "outputId": "8d737319-10d1-407c-c678-25b1d36af3c9"
      },
      "outputs": [
        {
          "output_type": "stream",
          "name": "stderr",
          "text": [
            "/usr/local/lib/python3.7/dist-packages/ipykernel_launcher.py:36: DeprecationWarning: `np.float` is a deprecated alias for the builtin `float`. To silence this warning, use `float` by itself. Doing this will not modify any behavior and is safe. If you specifically wanted the numpy scalar type, use `np.float64` here.\n",
            "Deprecated in NumPy 1.20; for more details and guidance: https://numpy.org/devdocs/release/1.20.0-notes.html#deprecations\n"
          ]
        },
        {
          "output_type": "display_data",
          "data": {
            "text/plain": [
              "<Figure size 432x288 with 1 Axes>"
            ],
            "image/png": "[encoded data removed]"
          },
          "metadata": {
            "needs_background": "light"
          }
        }
      ],
      "source": [
        "# function to view candlestick chart of labeled pattern\n",
        "def pattern_show_image(signal, target):           \n",
        "  fontsize=12\n",
        "  plt.rcParams['xtick.labelsize'] = fontsize  \n",
        "  plt.rcParams['ytick.labelsize'] = fontsize \n",
        "  plt.rcParams['axes.titlesize'] = fontsize           \n",
        "  fig = plt.figure(figsize=(10, 10))\n",
        "  ax = plt.subplot2grid((1, 1), (0, 0))           \n",
        "  ax.set_xticks(range(10))\n",
        "  ax.set_xticklabels(target.index)                     \n",
        "  arr = np.c_[range(target.shape[0]), target[['open', 'max', 'min', 'close']].values]\n",
        "  mpf.candlestick_ohlc(ax, arr, width=0.5, alpha=1, colordown='#ff1717', colorup='#53c156')          \n",
        "  locs, labels = plt.xticks() \n",
        "  plt.setp(labels , rotation = 45)\n",
        "  plt.grid()\n",
        "  ax.legend(loc = 'best', prop = {'size': fontsize})\n",
        "  title_name = signal\n",
        "  ax.set_title(title_name)\n",
        "  fig.subplots_adjust(bottom = 0.25)       \n",
        "  name = signal\n",
        "  plt.axis('off')\n",
        "  plt.show()\n",
        "\n",
        "\n",
        "# method that prints one image on the screen using GAF\n",
        "def image_gaf(serie):\n",
        "    max = np.amax(serie)\n",
        "    min = np.amin(serie)\n",
        "    result = serie_tiempo_gaf(serie,max,min)\n",
        "    plt.imshow(result, cmap='hot', interpolation='nearest')\n",
        "    plt.axis('off')\n",
        "    plt.show()\n",
        "\n",
        "\n",
        "# test, see image of gaf - opening values of japanese candlesticks in a double top pattern\n",
        "serie = np.array(['1.44697','1.44678','1.4471','1.44761','1.44802','1.44803','1.4479','1.44752','1.44742','1.44721','1.4478','1.44741','1.44722','1.4471','1.44677']).astype(np.float)\n",
        "\n",
        "image_gaf(serie)\n"
      ]
    },
    {
      "cell_type": "markdown",
      "metadata": {
        "id": "P_jeaAkiLypq"
      },
      "source": [
        "# Obtain Japanese candlestick information and convert them to images using GAF\n",
        "\n",
        "In this cell are defined three functions necessary to transform the time series of the Japanese candlesticks to images. For this, the time series structure of each pattern is processed to a multidimensional array with the characteristics of the Japanese candlesticks (open, min, max, close). \n",
        "Then they are processed by applying the GAF method and adding them to a structured array for further handling.\n"
      ]
    },
    {
      "cell_type": "code",
      "execution_count": null,
      "metadata": {
        "id": "NddFjMuALrPZ"
      },
      "outputs": [],
      "source": [
        "# GAF function, converts a time series to a Gramian matrix.\n",
        "def serie_tiempo_gaf(serie,valueMax,valueMin):\n",
        "  if valueMax == valueMin:\n",
        "      mGaf = np.zeros((len(serie), len(serie)))\n",
        "  else:\n",
        "      serieNorm = np.array((serie-valueMin) / (valueMax-valueMin))\n",
        "      serieNormArc = np.arccos(serieNorm)\n",
        "      mGaf = np.zeros((len(serieNorm), len(serieNorm)))\n",
        "      for f in range(len(serieNorm)):\n",
        "          for c in range(len(serieNorm)):\n",
        "              mGaf[f, c] = np.cos(serieNormArc[f] + serieNormArc[c])\n",
        "  return mGaf\n",
        "\n",
        "\n",
        "# Function that receives a set of patterns with a predefined structure and that are converted through the GAF method.\n",
        "def create_gaf(serie_pattern):\n",
        "  data = serie_pattern.copy()\n",
        "  gaf = np.zeros((data.shape[0], data.shape[1], data.shape[1], data.shape[2]))\n",
        "  for i in range(data.shape[0]):\n",
        "      for c in range(data.shape[2]):\n",
        "          oneCat = data[i, :, c]\n",
        "          maxV = np.amax(oneCat)\n",
        "          minV = np.amin(oneCat)\n",
        "          result = serie_tiempo_gaf(oneCat, maxV, minV)\n",
        "          gaf[i, :, :, c] = result\n",
        "  return gaf\n",
        "\n",
        "\n",
        "# Function that returns a structured data series with the candlestick data for each pattern.\n",
        "# Given from the data of all the patterns recorded.\n",
        "def create_serie(df_pattern):\n",
        "  total = int(df_pattern.shape[0] / window )\n",
        "  serie = np.zeros((total, window, 4)) \n",
        "  for N in range(total):\n",
        "    df = df_pattern.loc[(df_pattern.index >= (N*window)) & (df_pattern.index < (N*window + window))]\n",
        "    serie[N, :, 0] = df['open']\n",
        "    serie[N, :, 1] = df['max']\n",
        "    serie[N, :, 2] = df['min']\n",
        "    serie[N, :, 3] = df['close']\n",
        "  return serie\n",
        " \n",
        "\n"
      ]
    },
    {
      "cell_type": "markdown",
      "source": [
        "\n",
        "\n",
        "---\n",
        "\n"
      ],
      "metadata": {
        "id": "ChoymKVr5gDa"
      }
    },
    {
      "cell_type": "markdown",
      "metadata": {
        "id": "Db8fjLt-KDkz"
      },
      "source": [
        "# Red CNN\n",
        "\n",
        "The class of a convolutional neural network model is defined, in order to create an instance of it on which to work, establishing its characteristics and then training the model with the labeled data to identify the categorized patterns."
      ]
    },
    {
      "cell_type": "code",
      "execution_count": null,
      "metadata": {
        "id": "mKVzFL33TUXs"
      },
      "outputs": [],
      "source": [
        "from sklearn.model_selection import train_test_split\n",
        "from keras.utils import np_utils\n",
        "from keras.models import Sequential\n",
        "from keras.layers import Dense, Dropout, Flatten, Conv2D, MaxPooling2D\n",
        "\n",
        "# Class to instantiate a CNN model\n",
        "class modelCNN(object):\n",
        "\n",
        "    # Sets the instance variables\n",
        "    def __init__(self, data_x, data_y):     \n",
        "        self.model = None\n",
        "        self.input_shape = None\n",
        "        self.label_shape = None\n",
        "        self.train_history = None\n",
        "        self.data_x, self.data_y = data_x, data_y \n",
        "        self.X_train, self.y_train, self.X_test, self.y_test = None, None, None, None\n",
        "        self. y_categoricalTrain, self.y_categoricalTest = None, None \n",
        "\n",
        "    # Divides the data into a test set and a test set     \n",
        "    def process(self):\n",
        "        self.X_train, self.X_test, self.y_train, self.y_test = train_test_split (self.data_x, self.data_y, test_size= 0.3, random_state = 42)\n",
        "        self. y_categoricalTrain, self.y_categoricalTest = np_utils.to_categorical(self.y_train), np_utils.to_categorical(self.y_test)\n",
        "        self.input_shape = self.X_train[0].shape\n",
        "        self.label_shape = self. y_categoricalTrain.shape[1]\n",
        "    \n",
        "    # Set the layers and their characteristics that make up the CNN model\n",
        "    def build(self):\n",
        "        self.model = Sequential()\n",
        "        self.model.add(Conv2D(filters=32, kernel_size=(2, 2), padding='same', input_shape = self.input_shape, activation='relu')) \n",
        "        self.model.add(MaxPooling2D(pool_size=(2, 2)))               \n",
        "        self.model.add(Conv2D(filters=32, kernel_size=(2, 2), padding='same', activation='relu'))\n",
        "        self.model.add(MaxPooling2D(pool_size=(2, 2)))   \n",
        "        self.model.add(Dropout(0.25))                                                                                \n",
        "        self.model.add(Flatten())\n",
        "        self.model.add(Dense(128, activation='relu'))                                               \n",
        "        self.model.add(Dropout(0.5))\n",
        "        self.model.add(Dense(self.label_shape, activation='softmax'))                                            \n",
        "        print(self.model.summary())                                                                               \n",
        "\n",
        "    # Training of the model created with the processed data\n",
        "    def train(self, split):\n",
        "        self.model.compile(loss='categorical_crossentropy', optimizer='adam', metrics=['accuracy']) \n",
        "        self.train_history = self.model.fit(x = self.X_train, y = self.y_categoricalTrain, validation_split = split, shuffle=True, epochs = 50, batch_size = 150, verbose = 2)      \n",
        "  \n",
        "    # Prediction for a specific value with the trained model\n",
        "    def predictTest(self,dataX):\n",
        "        prediction = self.model.predict(dataX)\n",
        "        print(prediction)\n",
        "        #print(pd.crosstab(self.y_test, prediction, rownames=['label'], colnames=['predict']))\n",
        "               \n",
        "    # Save the created/trained model\n",
        "    def save(self, filename):\n",
        "        self.model.save(filename)\n",
        "\n",
        "    # Displays training history\n",
        "    def show_train_history(self, train_history, train, validation):\n",
        "        plt.figure()\n",
        "        plt.plot(train_history.history[train])\n",
        "        plt.plot(train_history.history[validation])\n",
        "        plt.title('Train History')\n",
        "        plt.ylabel(train)\n",
        "        plt.xlabel('Epoch')\n",
        "        plt.legend(['train', 'validation'], loc='upper left')\n",
        "        plt.show()\n",
        "        \n",
        "    # Prints out the accuracy values after the delivery it has had\n",
        "    def show(self):\n",
        "        self.show_train_history(self.train_history, 'loss', 'val_loss')\n",
        "        self.show_train_history(self.train_history, 'accuracy', 'val_accuracy')\n",
        "        score = self.model.evaluate(self.X_test, self.y_categoricalTest)\n",
        "        print('Score of the Testing Data: {}'.format(score))\n",
        "        \n",
        "\n",
        "\n",
        "\n",
        "\n"
      ]
    },
    {
      "cell_type": "markdown",
      "source": [
        "# Processing of the data using GAF and training of a CNN pattern identification model\n",
        "\n",
        "For the creation of the model capable of identifying the labeled patterns, we proceed in this cell to occupy the previous class and the GAF functions, together with the generated data. In this way, we start loading the data of the categorized patterns from the repository to be processed with the functions of the previous cells. In this way, the data are transformed to images by the GAF method, which pass through a function that prepares them with the necessary format to enter the CNN. \n",
        "After processing the data, an instance of the CNN model is created by passing the categorized values of the patterns to be identified, they are processed in the instance and the layers that the model will have to be trained are built. Finally, the network is trained and the model is downloaded for later use. It is also worth mentioning that during the training and at the end of it, the information of how much the network learns is shown."
      ],
      "metadata": {
        "id": "ftJ2Uf6ry5SU"
      }
    },
    {
      "cell_type": "code",
      "execution_count": null,
      "metadata": {
        "colab": {
          "base_uri": "https://localhost:8080/",
          "height": 1000
        },
        "id": "eqVr3dQVKIUn",
        "outputId": "0a235a37-a7f6-4ad9-a702-acdba4855dc6"
      },
      "outputs": [
        {
          "output_type": "stream",
          "name": "stdout",
          "text": [
            "Model: \"sequential_1\"\n",
            "_________________________________________________________________\n",
            " Layer (type)                Output Shape              Param #   \n",
            "=================================================================\n",
            " conv2d_2 (Conv2D)           (None, 28, 28, 32)        544       \n",
            "                                                                 \n",
            " max_pooling2d_2 (MaxPooling  (None, 14, 14, 32)       0         \n",
            " 2D)                                                             \n",
            "                                                                 \n",
            " conv2d_3 (Conv2D)           (None, 14, 14, 32)        4128      \n",
            "                                                                 \n",
            " max_pooling2d_3 (MaxPooling  (None, 7, 7, 32)         0         \n",
            " 2D)                                                             \n",
            "                                                                 \n",
            " dropout_2 (Dropout)         (None, 7, 7, 32)          0         \n",
            "                                                                 \n",
            " flatten_1 (Flatten)         (None, 1568)              0         \n",
            "                                                                 \n",
            " dense_2 (Dense)             (None, 128)               200832    \n",
            "                                                                 \n",
            " dropout_3 (Dropout)         (None, 128)               0         \n",
            "                                                                 \n",
            " dense_3 (Dense)             (None, 3)                 387       \n",
            "                                                                 \n",
            "=================================================================\n",
            "Total params: 205,891\n",
            "Trainable params: 205,891\n",
            "Non-trainable params: 0\n",
            "_________________________________________________________________\n",
            "None\n",
            "Epoch 1/50\n",
            "1/1 - 1s - loss: 1.0756 - accuracy: 0.3803 - val_loss: 0.9310 - val_accuracy: 0.6667 - 724ms/epoch - 724ms/step\n",
            "Epoch 2/50\n",
            "1/1 - 0s - loss: 0.9417 - accuracy: 0.5915 - val_loss: 0.7630 - val_accuracy: 0.7500 - 27ms/epoch - 27ms/step\n",
            "Epoch 3/50\n",
            "1/1 - 0s - loss: 0.7702 - accuracy: 0.7817 - val_loss: 0.6425 - val_accuracy: 0.7778 - 32ms/epoch - 32ms/step\n",
            "Epoch 4/50\n",
            "1/1 - 0s - loss: 0.6077 - accuracy: 0.8169 - val_loss: 0.5447 - val_accuracy: 0.8056 - 27ms/epoch - 27ms/step\n",
            "Epoch 5/50\n",
            "1/1 - 0s - loss: 0.5494 - accuracy: 0.8239 - val_loss: 0.4726 - val_accuracy: 0.8333 - 27ms/epoch - 27ms/step\n",
            "Epoch 6/50\n",
            "1/1 - 0s - loss: 0.4420 - accuracy: 0.8803 - val_loss: 0.4360 - val_accuracy: 0.8056 - 26ms/epoch - 26ms/step\n",
            "Epoch 7/50\n",
            "1/1 - 0s - loss: 0.4109 - accuracy: 0.8873 - val_loss: 0.4077 - val_accuracy: 0.8333 - 27ms/epoch - 27ms/step\n",
            "Epoch 8/50\n",
            "1/1 - 0s - loss: 0.3143 - accuracy: 0.9225 - val_loss: 0.3638 - val_accuracy: 0.8611 - 27ms/epoch - 27ms/step\n",
            "Epoch 9/50\n",
            "1/1 - 0s - loss: 0.2704 - accuracy: 0.9225 - val_loss: 0.3125 - val_accuracy: 0.8611 - 27ms/epoch - 27ms/step\n",
            "Epoch 10/50\n",
            "1/1 - 0s - loss: 0.2209 - accuracy: 0.9085 - val_loss: 0.2771 - val_accuracy: 0.8611 - 30ms/epoch - 30ms/step\n",
            "Epoch 11/50\n",
            "1/1 - 0s - loss: 0.2196 - accuracy: 0.9225 - val_loss: 0.2506 - val_accuracy: 0.9167 - 26ms/epoch - 26ms/step\n",
            "Epoch 12/50\n",
            "1/1 - 0s - loss: 0.1764 - accuracy: 0.9507 - val_loss: 0.2331 - val_accuracy: 0.9167 - 27ms/epoch - 27ms/step\n",
            "Epoch 13/50\n",
            "1/1 - 0s - loss: 0.1933 - accuracy: 0.9366 - val_loss: 0.2172 - val_accuracy: 0.9167 - 26ms/epoch - 26ms/step\n",
            "Epoch 14/50\n",
            "1/1 - 0s - loss: 0.1353 - accuracy: 0.9577 - val_loss: 0.2161 - val_accuracy: 0.8889 - 28ms/epoch - 28ms/step\n",
            "Epoch 15/50\n",
            "1/1 - 0s - loss: 0.1404 - accuracy: 0.9437 - val_loss: 0.2087 - val_accuracy: 0.9167 - 26ms/epoch - 26ms/step\n",
            "Epoch 16/50\n",
            "1/1 - 0s - loss: 0.1557 - accuracy: 0.9437 - val_loss: 0.1850 - val_accuracy: 0.9167 - 27ms/epoch - 27ms/step\n",
            "Epoch 17/50\n",
            "1/1 - 0s - loss: 0.1220 - accuracy: 0.9507 - val_loss: 0.1635 - val_accuracy: 0.9167 - 32ms/epoch - 32ms/step\n",
            "Epoch 18/50\n",
            "1/1 - 0s - loss: 0.0827 - accuracy: 0.9577 - val_loss: 0.1508 - val_accuracy: 0.9444 - 28ms/epoch - 28ms/step\n",
            "Epoch 19/50\n",
            "1/1 - 0s - loss: 0.0864 - accuracy: 0.9718 - val_loss: 0.1416 - val_accuracy: 0.9444 - 27ms/epoch - 27ms/step\n",
            "Epoch 20/50\n",
            "1/1 - 0s - loss: 0.0640 - accuracy: 0.9718 - val_loss: 0.1339 - val_accuracy: 0.9444 - 27ms/epoch - 27ms/step\n",
            "Epoch 21/50\n",
            "1/1 - 0s - loss: 0.0906 - accuracy: 0.9789 - val_loss: 0.1283 - val_accuracy: 0.9444 - 25ms/epoch - 25ms/step\n",
            "Epoch 22/50\n",
            "1/1 - 0s - loss: 0.0846 - accuracy: 0.9648 - val_loss: 0.1252 - val_accuracy: 0.9444 - 26ms/epoch - 26ms/step\n",
            "Epoch 23/50\n",
            "1/1 - 0s - loss: 0.0949 - accuracy: 0.9648 - val_loss: 0.1214 - val_accuracy: 0.9722 - 27ms/epoch - 27ms/step\n",
            "Epoch 24/50\n",
            "1/1 - 0s - loss: 0.0656 - accuracy: 0.9718 - val_loss: 0.1167 - val_accuracy: 0.9722 - 31ms/epoch - 31ms/step\n",
            "Epoch 25/50\n",
            "1/1 - 0s - loss: 0.0705 - accuracy: 0.9718 - val_loss: 0.1142 - val_accuracy: 0.9722 - 25ms/epoch - 25ms/step\n",
            "Epoch 26/50\n",
            "1/1 - 0s - loss: 0.0417 - accuracy: 0.9789 - val_loss: 0.1126 - val_accuracy: 0.9722 - 46ms/epoch - 46ms/step\n",
            "Epoch 27/50\n",
            "1/1 - 0s - loss: 0.0546 - accuracy: 0.9789 - val_loss: 0.1124 - val_accuracy: 0.9722 - 28ms/epoch - 28ms/step\n",
            "Epoch 28/50\n",
            "1/1 - 0s - loss: 0.0524 - accuracy: 0.9859 - val_loss: 0.1144 - val_accuracy: 0.9722 - 35ms/epoch - 35ms/step\n",
            "Epoch 29/50\n",
            "1/1 - 0s - loss: 0.0667 - accuracy: 0.9789 - val_loss: 0.1164 - val_accuracy: 0.9722 - 30ms/epoch - 30ms/step\n",
            "Epoch 30/50\n",
            "1/1 - 0s - loss: 0.0668 - accuracy: 0.9789 - val_loss: 0.1143 - val_accuracy: 0.9722 - 28ms/epoch - 28ms/step\n",
            "Epoch 31/50\n",
            "1/1 - 0s - loss: 0.0316 - accuracy: 0.9930 - val_loss: 0.1130 - val_accuracy: 0.9722 - 27ms/epoch - 27ms/step\n",
            "Epoch 32/50\n",
            "1/1 - 0s - loss: 0.0355 - accuracy: 0.9859 - val_loss: 0.1120 - val_accuracy: 0.9722 - 26ms/epoch - 26ms/step\n",
            "Epoch 33/50\n",
            "1/1 - 0s - loss: 0.0288 - accuracy: 0.9930 - val_loss: 0.1087 - val_accuracy: 0.9722 - 27ms/epoch - 27ms/step\n",
            "Epoch 34/50\n",
            "1/1 - 0s - loss: 0.0346 - accuracy: 0.9859 - val_loss: 0.1054 - val_accuracy: 0.9722 - 30ms/epoch - 30ms/step\n",
            "Epoch 35/50\n",
            "1/1 - 0s - loss: 0.0225 - accuracy: 0.9930 - val_loss: 0.1030 - val_accuracy: 0.9722 - 27ms/epoch - 27ms/step\n",
            "Epoch 36/50\n",
            "1/1 - 0s - loss: 0.0238 - accuracy: 0.9930 - val_loss: 0.1013 - val_accuracy: 0.9722 - 26ms/epoch - 26ms/step\n",
            "Epoch 37/50\n",
            "1/1 - 0s - loss: 0.0425 - accuracy: 0.9789 - val_loss: 0.1007 - val_accuracy: 0.9722 - 25ms/epoch - 25ms/step\n",
            "Epoch 38/50\n",
            "1/1 - 0s - loss: 0.0458 - accuracy: 0.9789 - val_loss: 0.1009 - val_accuracy: 0.9722 - 28ms/epoch - 28ms/step\n",
            "Epoch 39/50\n",
            "1/1 - 0s - loss: 0.0510 - accuracy: 0.9718 - val_loss: 0.1030 - val_accuracy: 0.9722 - 26ms/epoch - 26ms/step\n",
            "Epoch 40/50\n",
            "1/1 - 0s - loss: 0.0272 - accuracy: 0.9930 - val_loss: 0.1052 - val_accuracy: 0.9722 - 27ms/epoch - 27ms/step\n",
            "Epoch 41/50\n",
            "1/1 - 0s - loss: 0.0335 - accuracy: 0.9789 - val_loss: 0.1078 - val_accuracy: 0.9722 - 29ms/epoch - 29ms/step\n",
            "Epoch 42/50\n",
            "1/1 - 0s - loss: 0.0275 - accuracy: 0.9859 - val_loss: 0.1115 - val_accuracy: 0.9444 - 26ms/epoch - 26ms/step\n",
            "Epoch 43/50\n",
            "1/1 - 0s - loss: 0.0190 - accuracy: 0.9930 - val_loss: 0.1149 - val_accuracy: 0.9444 - 27ms/epoch - 27ms/step\n",
            "Epoch 44/50\n",
            "1/1 - 0s - loss: 0.0174 - accuracy: 0.9930 - val_loss: 0.1183 - val_accuracy: 0.9444 - 25ms/epoch - 25ms/step\n",
            "Epoch 45/50\n",
            "1/1 - 0s - loss: 0.0240 - accuracy: 0.9930 - val_loss: 0.1200 - val_accuracy: 0.9444 - 26ms/epoch - 26ms/step\n",
            "Epoch 46/50\n",
            "1/1 - 0s - loss: 0.0365 - accuracy: 0.9789 - val_loss: 0.1190 - val_accuracy: 0.9444 - 28ms/epoch - 28ms/step\n",
            "Epoch 47/50\n",
            "1/1 - 0s - loss: 0.0141 - accuracy: 0.9930 - val_loss: 0.1191 - val_accuracy: 0.9722 - 27ms/epoch - 27ms/step\n",
            "Epoch 48/50\n",
            "1/1 - 0s - loss: 0.0275 - accuracy: 0.9859 - val_loss: 0.1166 - val_accuracy: 0.9722 - 31ms/epoch - 31ms/step\n",
            "Epoch 49/50\n",
            "1/1 - 0s - loss: 0.0153 - accuracy: 0.9930 - val_loss: 0.1149 - val_accuracy: 0.9722 - 27ms/epoch - 27ms/step\n",
            "Epoch 50/50\n",
            "1/1 - 0s - loss: 0.0170 - accuracy: 0.9930 - val_loss: 0.1129 - val_accuracy: 0.9722 - 25ms/epoch - 25ms/step\n"
          ]
        },
        {
          "output_type": "display_data",
          "data": {
            "text/plain": [
              "<Figure size 432x288 with 1 Axes>"
            ],
            "image/png": "[encoded data removed]"
          },
          "metadata": {
            "needs_background": "light"
          }
        },
        {
          "output_type": "display_data",
          "data": {
            "text/plain": [
              "<Figure size 432x288 with 1 Axes>"
            ],
            "image/png": "[encoded data removed]"
          },
          "metadata": {
            "needs_background": "light"
          }
        },
        {
          "output_type": "stream",
          "name": "stdout",
          "text": [
            "3/3 [==============================] - 0s 5ms/step - loss: 0.1578 - accuracy: 0.9610\n",
            "Score of the Testing Data: [0.157833531498909, 0.9610389471054077]\n"
          ]
        }
      ],
      "source": [
        "# Function that creates a CNN model and trains it with the labeled data, at the end it displays the training results.\n",
        "def cnn(dataDic):\n",
        "  x_data = dataDic['data']\n",
        "  y_target = dataDic['target']\n",
        "  model = modelCNN(x_data, y_target) \n",
        "  model.process()\n",
        "  model.build()\n",
        "  model.train(0.2)\n",
        "  model.show()\n",
        "\n",
        "  # Save model\n",
        "  name = 'model_pattern'\n",
        "  load_model = 'CNN_' + name + '.h5'\n",
        "  model.save(load_model)\n",
        "\n",
        "# Function that structures the data sets for use in the neural network.\n",
        "# For each set, it is labeled differently from another one\n",
        "def process_data(d1,d2,d3):\n",
        "  total = d1.shape[0] + d2.shape[0] + d3.shape[0]\n",
        "  xSerie = np.zeros((total, window, window, 4))\n",
        "  xSerie[0:d1.shape[0] - 1, :, :, :] = d1[0:d1.shape[0] - 1, :, :, :] \n",
        "  xSerie[d1.shape[0]: d1.shape[0] + d2.shape[0] - 1, :, :, :] = d2[0:d2.shape[0] - 1, :, :, :] \n",
        "  xSerie[d1.shape[0] + d2.shape[0]:total -1 , :, :, :] = d3[0:d3.shape[0] - 1, :, :, :] \n",
        "  yData = []\n",
        "  ls = [0] * d1.shape[0] \n",
        "  yData.extend(ls)\n",
        "  ls = [1] * d2.shape[0]\n",
        "  yData.extend(ls)\n",
        "  ls = [2] * d3.shape[0]\n",
        "  yData.extend(ls)\n",
        "  ySerie = np.array(yData)\n",
        "  dataDic = {'data': xSerie, 'target': ySerie}\n",
        "  return dataDic\n",
        "\n",
        "\n",
        "\n",
        "# Size of window in which it is predisposed to identify market patterns\n",
        "window = 28\n",
        "\n",
        "# Loads labeled pattern data\n",
        "# Each set of patterns is structured into a time series that can be processed, to be transformed by the GAF method.\n",
        "c_h_eurusd = create_gaf(create_serie(pd.read_csv('/content/drive/MyDrive/Tesis de grado/datos/Procesados/Obtenidos/S&H/patron_cabezaHombros_23_23_EURUSD.csv')))\n",
        "c_h_gbpusd = create_gaf(create_serie(pd.read_csv('/content/drive/MyDrive/Tesis de grado/datos/Procesados/Obtenidos/S&H/patron_cabezaHombros_26_26_GBPUSD.csv')))\n",
        "c_h_usdjpy = create_gaf(create_serie(pd.read_csv('/content/drive/MyDrive/Tesis de grado/datos/Procesados/Obtenidos/S&H/patron_cabezaHombros_31_31_USDJPY.csv')))\n",
        "c_h_eurchf = create_gaf(create_serie(pd.read_csv('/content/drive/MyDrive/Tesis de grado/datos/Procesados/Obtenidos/S&H/patron_cabezaHombros_8_8_USDCHF.csv')))\n",
        "tt_eurusd = create_gaf(create_serie(pd.read_csv('/content/drive/MyDrive/Tesis de grado/datos/Procesados/Obtenidos/dobleTop/patron_dobleT_21_21_GBPUSD.csv')))\n",
        "tt_gbpusd = create_gaf(create_serie(pd.read_csv('/content/drive/MyDrive/Tesis de grado/datos/Procesados/Obtenidos/dobleTop/patron_dobleT_21_21_USDCHF.csv')))\n",
        "tt_usdjpy = create_gaf(create_serie(pd.read_csv('/content/drive/MyDrive/Tesis de grado/datos/Procesados/Obtenidos/dobleTop/patron_dobleT_22_22_USDJPY.csv')))\n",
        "tt_eurchf = create_gaf(create_serie(pd.read_csv('/content/drive/MyDrive/Tesis de grado/datos/Procesados/Obtenidos/dobleTop/patron_dobleT_23_23_EURUSD.csv')))\n",
        "rd_eurusd = create_gaf(create_serie(pd.read_csv('/content/drive/MyDrive/Tesis de grado/datos/Procesados/Obtenidos/patron_random_80_80_EURUSD.csv')))\n",
        "\n",
        "# Data from patterns that were tagged in parts are joined into a single set per tag\n",
        "pattern_c_h_all = np.concatenate((c_h_eurusd, c_h_gbpusd, c_h_usdjpy, c_h_eurchf))\n",
        "pattern_tt_all = np.concatenate((tt_eurusd, tt_gbpusd, tt_usdjpy, tt_eurchf))\n",
        "\n",
        "# Call to the function that creates and trains the network, passing the processed data from the labeled dataset\n",
        "cnn(process_data(pattern_c_h_all,pattern_tt_all, rd_eurusd))\n",
        "\n"
      ]
    },
    {
      "cell_type": "markdown",
      "source": [
        "\n",
        "\n",
        "---\n",
        "\n"
      ],
      "metadata": {
        "id": "0fLkKcB15pKl"
      }
    },
    {
      "cell_type": "markdown",
      "source": [
        "\n",
        "\n",
        "---\n",
        "\n"
      ],
      "metadata": {
        "id": "YdCbYWQ65nQj"
      }
    },
    {
      "cell_type": "markdown",
      "metadata": {
        "id": "7h4Fp_0a8DUk"
      },
      "source": [
        "# Functions for labeling \n",
        "\n",
        "In this cell the parameters and functions used for the processing of the financial market time series over a period of ten years are configured. To process this data and obtain the patterns to be used to train the network, the first step was to establish the window for identifying the patterns, as well as the time span to be taken into account, set in eighteen, and the number of candlesticks to be processed.\n",
        "\n",
        "Then we defined the characteristics of the proportions of the trends that each pattern would have in order to define it according to its characteristics in the functions below. In the functions are defined both the functions to find according to the characteristics that define each pattern and to indicate the possible occurrence of one of them. Necessary functions are used for this, such as identifying the trend and defining it as a downtrend or an uptrend."
      ]
    },
    {
      "cell_type": "code",
      "execution_count": null,
      "metadata": {
        "id": "wtDAZ-f-Ns3W"
      },
      "outputs": [],
      "source": [
        "#var\n",
        "window_range = 28 \n",
        "\n",
        "end_first_stretch_dt = 5\n",
        "end_second_stretch_dt = 8\n",
        "end_third_stretch_dt = 11\n",
        "end_length_dt = 5\n",
        "length_valle_dt = 3\n",
        "\n",
        "end_first_stretch_sh = 7\n",
        "end_second_stretch_sh = 11\n",
        "end_third_stretch_sh = 15\n",
        "end_fourth_stretch_sh = 19\n",
        "end_fifth_stretch_sh = 23\n",
        "end_length_sh = 7\n",
        "length_valle_sh = 4\n",
        "\n",
        "# Set the values necessary to define the characteristics of the searched pattern in a specific window range\n",
        "def set_values_dt(window):\n",
        "  if window % 2 == 1 or window < 16:\n",
        "    return 1\n",
        "\n",
        "  global end_first_stretch_dt\n",
        "  global end_second_stretch_dt\n",
        "  global end_third_stretch_dt\n",
        "  global end_length_dt\n",
        "  global length_valle_dt\n",
        "  global window_range\n",
        "\n",
        "  reservation = 2 \n",
        "  aux = int(((window/2)-reservation)/2)\n",
        "  auxr = int((window - aux * 4) /2)\n",
        "  end_first_stretch_dt = aux + auxr\n",
        "  end_second_stretch_dt = end_first_stretch_dt + aux\n",
        "  end_third_stretch_dt = end_second_stretch_dt + aux\n",
        "  end_length_dt = int(end_first_stretch_dt)\n",
        "  length_valle_dt = int(aux)\n",
        "  window_range = window\n",
        "  return 0  \n",
        "\n",
        "\n",
        "# Set the values necessary to define the characteristics of the searched pattern in a specific window range\n",
        "def set_values_sh(window):\n",
        "  if window % 2 == 1 or window < 16:\n",
        "    return 1\n",
        "\n",
        "  global end_first_stretch_sh\n",
        "  global end_second_stretch_sh\n",
        "  global end_third_stretch_sh\n",
        "  global end_fourth_stretch_sh\n",
        "  global end_fifth_stretch_sh\n",
        "  global end_length_sh\n",
        "  global length_valle_sh\n",
        "  global window_range\n",
        "  \n",
        "  reservation = 2 \n",
        "  length_valle_sh = int((window-reservation)/6)  \n",
        "  end_length_sh = int(  (window - length_valle_sh*6)/2   ) \n",
        "  \n",
        "  end_first_stretch_sh = end_length_sh + length_valle_sh\n",
        "  end_second_stretch_sh = end_first_stretch_sh + length_valle_sh \n",
        "  end_third_stretch_sh = end_second_stretch_sh + length_valle_sh \n",
        "  end_fourth_stretch_sh = end_third_stretch_sh + length_valle_sh\n",
        "  end_fifth_stretch_sh = end_fourth_stretch_sh + length_valle_sh\n",
        "  window_range = window\n",
        "  return 0 \n",
        "\n",
        "# Determines whether the existence of a pattern is possible according to the definition of its formation, given from a series of data, according to the length of the window.\n",
        "def head_shoulders(series):\n",
        "        y = series.values.reshape(-1,1)\n",
        "        x = np.array(range(1, series.shape[0] + 1)).reshape(-1,1)\n",
        "        if max(y[:end_second_stretch_sh]) > min(y[end_first_stretch_sh:end_third_stretch_sh]) and max(y[:end_second_stretch_sh]) < max(y[end_second_stretch_sh:end_fourth_stretch_sh]) and max(y[end_fourth_stretch_sh:window_range]) > min(y[end_third_stretch_sh:end_fifth_stretch_sh]) and max(y[end_fourth_stretch_sh:window_range]) < max(y[end_second_stretch_sh:end_fourth_stretch_sh]) and uptrend(y[:end_first_stretch_sh], x[:end_first_stretch_sh]) and downtrend(y[end_first_stretch_sh:end_second_stretch_sh], x[:length_valle_sh]) and uptrend(y[end_second_stretch_sh:end_third_stretch_sh], x[:length_valle_sh]) and downtrend(y[end_third_stretch_sh:end_fourth_stretch_sh], x[:length_valle_sh]) and uptrend(y[end_fourth_stretch_sh:end_fifth_stretch_sh], x[:length_valle_sh]) and downtrend(y[end_fifth_stretch_sh:window_range], x[:end_first_stretch_sh]):\n",
        "          return True\n",
        "        else:\n",
        "          return False\n",
        "\n",
        "# Determines whether the existence of a pattern is possible according to the definition of its formation, given from a series of data, according to the length of the window.\n",
        "def double_top(series):\n",
        "        y = series.values.reshape(-1,1)\n",
        "        x = np.array(range(1, series.shape[0] + 1)).reshape(-1,1)\n",
        "        if uptrend(y[:end_first_stretch_dt], x[:end_length_dt])  and downtrend(y[end_first_stretch_dt:end_second_stretch_dt], x[:length_valle_dt]) and uptrend(y[end_second_stretch_dt:end_third_stretch_dt], x[:length_valle_dt]) and downtrend(y[end_third_stretch_dt:window_range], x[:end_length_dt]) and (min(y[:end_first_stretch_dt]) < min(y[end_first_stretch_dt:end_third_stretch_dt])) and (min(y[end_first_stretch_dt:end_third_stretch_dt]) > min(y[end_third_stretch_dt:window_range])) and (max(y[:end_second_stretch_dt]) > max(y[end_second_stretch_dt:window_range])):\n",
        "          return True\n",
        "        else:\n",
        "          return False\n",
        "\n",
        "# Extracts randoms movements from the market\n",
        "def randomPtt(series):\n",
        "  n = random.randint(0,100)\n",
        "  if n == 1:\n",
        "    return True\n",
        "  else:\n",
        "    return False\n",
        "\n",
        "# Determines the existence of a trend, according to a series of data\n",
        "def is_tide(y,x):\n",
        "  model = LinearRegression()\n",
        "  model.fit(x, y)\n",
        "  slope = model.coef_\n",
        "  if slope > 0.0001:\n",
        "    return True\n",
        "  else:\n",
        "    return False\n",
        "\n",
        "def downtrend(y,x):\n",
        "  newY = y[::-1]\n",
        "  return is_tide(newY,x)\n",
        "  \n",
        "def uptrend(y,x):\n",
        "  return is_tide(y,x)"
      ]
    },
    {
      "cell_type": "markdown",
      "source": [
        "# Get and label data\n",
        "\n",
        "Once you have loaded the above cell functions you can proceed to execute this cell if you need to label the patterns of a particular market. \n",
        "\n",
        "First connect to the data source and create a variable in this data which is \"body\", as the difference between the maximum and minimum value of the jaonesian candle to determine its body, which will be used to determine the trends. Then we proceed to pass this data using the functions of the previous cell to identify the possible appearance of a pattern, but without confirmation. With the data obtained, we proceed to go through all these possible patterns and visualize them one by one. In this way we proceed to manually label each pattern to confirm its characteristics as correct, attaching them at the end to a file that is used in the training of the neural network."
      ],
      "metadata": {
        "id": "xQPIUej3S8o8"
      }
    },
    {
      "cell_type": "code",
      "execution_count": null,
      "metadata": {
        "colab": {
          "base_uri": "https://localhost:8080/",
          "height": 931
        },
        "id": "y_wTD_XEG8Tr",
        "outputId": "3d1d99e1-aa1d-4e46-f1f7-9bd027d166cb"
      },
      "outputs": [
        {
          "name": "stdout",
          "output_type": "stream",
          "text": [
            "0.0    99957\n",
            "1.0       16\n",
            "Name: double_top, dtype: int64\n",
            "Continue...\n",
            "j\n"
          ]
        },
        {
          "output_type": "stream",
          "name": "stderr",
          "text": [
            "WARNING:matplotlib.legend:No handles with labels found to put in legend.\n"
          ]
        },
        {
          "output_type": "stream",
          "name": "stdout",
          "text": [
            "Count: 1/16\n"
          ]
        },
        {
          "output_type": "display_data",
          "data": {
            "text/plain": [
              "<Figure size 576x576 with 1 Axes>"
            ],
            "image/png": "[encoded data removed]"
          },
          "metadata": {
            "needs_background": "light"
          }
        },
        {
          "output_type": "stream",
          "name": "stdout",
          "text": [
            "Add, Y o N ? or save to create .csv\n"
          ]
        },
        {
          "output_type": "error",
          "ename": "KeyboardInterrupt",
          "evalue": "ignored",
          "traceback": [
            "\u001b[0;31m---------------------------------------------------------------------------\u001b[0m",
            "\u001b[0;31mKeyboardInterrupt\u001b[0m                         Traceback (most recent call last)",
            "\u001b[0;32m<ipython-input-16-da75bb6a28a2>\u001b[0m in \u001b[0;36m<module>\u001b[0;34m\u001b[0m\n\u001b[1;32m     47\u001b[0m   \u001b[0;31m# Ask for confirmation to add it to a tagged data set\u001b[0m\u001b[0;34m\u001b[0m\u001b[0;34m\u001b[0m\u001b[0;34m\u001b[0m\u001b[0m\n\u001b[1;32m     48\u001b[0m   \u001b[0mprint\u001b[0m\u001b[0;34m(\u001b[0m\u001b[0;34m\"Add, Y o N ? or save to create .csv\"\u001b[0m\u001b[0;34m)\u001b[0m\u001b[0;34m\u001b[0m\u001b[0;34m\u001b[0m\u001b[0m\n\u001b[0;32m---> 49\u001b[0;31m   \u001b[0mresp\u001b[0m \u001b[0;34m=\u001b[0m \u001b[0minput\u001b[0m\u001b[0;34m(\u001b[0m\u001b[0;34m)\u001b[0m\u001b[0;34m\u001b[0m\u001b[0;34m\u001b[0m\u001b[0m\n\u001b[0m\u001b[1;32m     50\u001b[0m   \u001b[0;32mif\u001b[0m \u001b[0mresp\u001b[0m \u001b[0;34m==\u001b[0m \u001b[0;34m'y'\u001b[0m \u001b[0;32mor\u001b[0m \u001b[0mresp\u001b[0m \u001b[0;34m==\u001b[0m \u001b[0;34m'Y'\u001b[0m\u001b[0;34m:\u001b[0m\u001b[0;34m\u001b[0m\u001b[0;34m\u001b[0m\u001b[0m\n\u001b[1;32m     51\u001b[0m     \u001b[0mdf_marks\u001b[0m \u001b[0;34m=\u001b[0m \u001b[0mdf_marks\u001b[0m\u001b[0;34m.\u001b[0m\u001b[0mappend\u001b[0m\u001b[0;34m(\u001b[0m\u001b[0mdf_copy\u001b[0m\u001b[0;34m.\u001b[0m\u001b[0mloc\u001b[0m\u001b[0;34m[\u001b[0m\u001b[0mindex\u001b[0m\u001b[0;34m-\u001b[0m\u001b[0;34m(\u001b[0m\u001b[0mwindow_size\u001b[0m\u001b[0;34m-\u001b[0m\u001b[0;36m1\u001b[0m\u001b[0;34m)\u001b[0m\u001b[0;34m:\u001b[0m\u001b[0mindex\u001b[0m\u001b[0;34m,\u001b[0m\u001b[0;34m'open'\u001b[0m\u001b[0;34m:\u001b[0m\u001b[0;34m'close'\u001b[0m\u001b[0;34m]\u001b[0m\u001b[0;34m,\u001b[0m \u001b[0mignore_index\u001b[0m\u001b[0;34m=\u001b[0m\u001b[0;32mTrue\u001b[0m\u001b[0;34m)\u001b[0m\u001b[0;34m\u001b[0m\u001b[0;34m\u001b[0m\u001b[0m\n",
            "\u001b[0;32m/usr/local/lib/python3.7/dist-packages/ipykernel/kernelbase.py\u001b[0m in \u001b[0;36mraw_input\u001b[0;34m(self, prompt)\u001b[0m\n\u001b[1;32m    861\u001b[0m             \u001b[0mself\u001b[0m\u001b[0;34m.\u001b[0m\u001b[0m_parent_ident\u001b[0m\u001b[0;34m,\u001b[0m\u001b[0;34m\u001b[0m\u001b[0;34m\u001b[0m\u001b[0m\n\u001b[1;32m    862\u001b[0m             \u001b[0mself\u001b[0m\u001b[0;34m.\u001b[0m\u001b[0m_parent_header\u001b[0m\u001b[0;34m,\u001b[0m\u001b[0;34m\u001b[0m\u001b[0;34m\u001b[0m\u001b[0m\n\u001b[0;32m--> 863\u001b[0;31m             \u001b[0mpassword\u001b[0m\u001b[0;34m=\u001b[0m\u001b[0;32mFalse\u001b[0m\u001b[0;34m,\u001b[0m\u001b[0;34m\u001b[0m\u001b[0;34m\u001b[0m\u001b[0m\n\u001b[0m\u001b[1;32m    864\u001b[0m         )\n\u001b[1;32m    865\u001b[0m \u001b[0;34m\u001b[0m\u001b[0m\n",
            "\u001b[0;32m/usr/local/lib/python3.7/dist-packages/ipykernel/kernelbase.py\u001b[0m in \u001b[0;36m_input_request\u001b[0;34m(self, prompt, ident, parent, password)\u001b[0m\n\u001b[1;32m    902\u001b[0m             \u001b[0;32mexcept\u001b[0m \u001b[0mKeyboardInterrupt\u001b[0m\u001b[0;34m:\u001b[0m\u001b[0;34m\u001b[0m\u001b[0;34m\u001b[0m\u001b[0m\n\u001b[1;32m    903\u001b[0m                 \u001b[0;31m# re-raise KeyboardInterrupt, to truncate traceback\u001b[0m\u001b[0;34m\u001b[0m\u001b[0;34m\u001b[0m\u001b[0;34m\u001b[0m\u001b[0m\n\u001b[0;32m--> 904\u001b[0;31m                 \u001b[0;32mraise\u001b[0m \u001b[0mKeyboardInterrupt\u001b[0m\u001b[0;34m(\u001b[0m\u001b[0;34m\"Interrupted by user\"\u001b[0m\u001b[0;34m)\u001b[0m \u001b[0;32mfrom\u001b[0m \u001b[0;32mNone\u001b[0m\u001b[0;34m\u001b[0m\u001b[0;34m\u001b[0m\u001b[0m\n\u001b[0m\u001b[1;32m    905\u001b[0m             \u001b[0;32mexcept\u001b[0m \u001b[0mException\u001b[0m \u001b[0;32mas\u001b[0m \u001b[0me\u001b[0m\u001b[0;34m:\u001b[0m\u001b[0;34m\u001b[0m\u001b[0;34m\u001b[0m\u001b[0m\n\u001b[1;32m    906\u001b[0m                 \u001b[0mself\u001b[0m\u001b[0;34m.\u001b[0m\u001b[0mlog\u001b[0m\u001b[0;34m.\u001b[0m\u001b[0mwarning\u001b[0m\u001b[0;34m(\u001b[0m\u001b[0;34m\"Invalid Message:\"\u001b[0m\u001b[0;34m,\u001b[0m \u001b[0mexc_info\u001b[0m\u001b[0;34m=\u001b[0m\u001b[0;32mTrue\u001b[0m\u001b[0;34m)\u001b[0m\u001b[0;34m\u001b[0m\u001b[0;34m\u001b[0m\u001b[0m\n",
            "\u001b[0;31mKeyboardInterrupt\u001b[0m: Interrupted by user"
          ]
        }
      ],
      "source": [
        "# Open file of one of the markets to be analyzed\n",
        "df = pd.read_csv('/content/drive/MyDrive/Tesis de grado/datos/Datos sin procesar/QuantDataManager/EURUSD_M1_UTCMinus03-M1.csv', \n",
        "                 header=0, names=[\"date\",\"time\",\"open\",\"max\",\"min\",\"close\",\"volumen\"])\n",
        "\n",
        "# Name of the market\n",
        "currency = 'EURUSD'\n",
        "\n",
        "# Add \"body\" field, being the difference between the closing and opening of the Japanese candlesticks.\n",
        "df['body'] = np.where(df['close'] >= df['open'],\n",
        "                               abs(df.close - df.open)/2 + df.open,\n",
        "                               abs(df.close - df.open)/2 + df.close)\n",
        "\n",
        "# Take the set of candles that appear in the imported dataset\n",
        "df_copy = df.iloc[0:3900000].copy() \n",
        "\n",
        "# Size of the window in which the pattern is observed \n",
        "window_size = 28 \n",
        "set_values_dt(window_size)  \n",
        "set_values_sh(window_size) \n",
        "\n",
        "# Name of pattern to be labeled\n",
        "patternTag = 'double_top'\n",
        "\n",
        "# Look for the possible occurrence of the previously defined pattern based on market movements\n",
        "df_copy[patternTag] = df_copy['body'].rolling(window_size).apply(double_top)\n",
        "\n",
        "# Print the number of possible patterns detected\n",
        "allPatternCount = df_copy[patternTag].value_counts()\n",
        "print(str(allPatternCount))\n",
        "print(\"Continue...\")\n",
        "resp = input()\n",
        "\n",
        "\n",
        "# Run through the detected patterns, one by one, to visually check if they add up to the labeled dataset\n",
        "new_df = df_copy.loc[df_copy[patternTag] == True]\n",
        "df_marks = pd.DataFrame()\n",
        "counter = 0\n",
        "aux = 1\n",
        "for index in new_df.index:\n",
        "\n",
        "  print('Count: '+str(aux)+'/'+str(allPatternCount[1]))\n",
        "\n",
        "  # Visualize the image of the found pattern\n",
        "  pattern_show_image(patternTag, df_copy.loc[index-(window_size-1):index,'open':'close'])\n",
        "  aux += 1\n",
        "\n",
        "  # Ask for confirmation to add it to a tagged data set\n",
        "  print(\"Add, Y o N ? or save to create .csv\")\n",
        "  resp = input()\n",
        "  if resp == 'y' or resp == 'Y':\n",
        "    df_marks = df_marks.append(df_copy.loc[index-(window_size-1):index,'open':'close'], ignore_index=True)\n",
        "    counter += 1\n",
        "    print('Counter: ' + str(counter) )\n",
        "  if resp == 'save':\n",
        "    # Save file .csv\n",
        "    df_marks.to_csv('patterns_'+str(patternTag)+'_'+str(counter)+'_'+str(counter)+ '_' + str(currency)+'.csv', index=False)   \n",
        "    print('pattens_'+str(patternTag)+'_'+str(counter)+ '_' + str(currency)+'.csv')\n",
        "  \n"
      ]
    }
  ],
  "metadata": {
    "colab": {
      "provenance": []
    },
    "kernelspec": {
      "display_name": "Python 3",
      "name": "python3"
    },
    "language_info": {
      "name": "python"
    },
    "accelerator": "GPU"
  },
  "nbformat": 4,
  "nbformat_minor": 0
}