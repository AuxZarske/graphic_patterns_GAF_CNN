{
  "cells": [
    {
      "cell_type": "markdown",
      "metadata": {
        "id": "U-KVxZQR6vkH"
      },
      "source": [
        "Import libraries and data\n"
      ]
    },
    {
      "cell_type": "code",
      "execution_count": 1,
      "metadata": {
        "colab": {
          "base_uri": "https://localhost:8080/"
        },
        "id": "KTzWB0PF61mj",
        "outputId": "534743b1-10dc-46cb-89e7-e65d5e968149"
      },
      "outputs": [
        {
          "output_type": "stream",
          "name": "stdout",
          "text": [
            "Mounted at /content/drive\n"
          ]
        }
      ],
      "source": [
        "# It connects to the repository to obtain the necessary data to be used throughout the execution of this google colab document.\n",
        "from google.colab import drive\n",
        "drive.mount('/content/drive')"
      ]
    },
    {
      "cell_type": "code",
      "execution_count": 2,
      "metadata": {
        "id": "bXL0y2Y9tY99"
      },
      "outputs": [],
      "source": [
        "#Utils\n",
        "import pandas as pd\n",
        "import numpy as np\n",
        "import matplotlib.pyplot as plt\n",
        "import random\n",
        "from scipy import stats\n",
        "from sklearn.linear_model import LinearRegression"
      ]
    },
    {
      "cell_type": "code",
      "execution_count": 3,
      "metadata": {
        "colab": {
          "base_uri": "https://localhost:8080/"
        },
        "id": "Tva4oB4cypd1",
        "outputId": "2a176d50-c34c-4136-91ba-819008850362"
      },
      "outputs": [
        {
          "output_type": "stream",
          "name": "stdout",
          "text": [
            "Looking in indexes: https://pypi.org/simple, https://us-python.pkg.dev/colab-wheels/public/simple/\n",
            "Collecting mpl_finance\n",
            "  Downloading mpl_finance-0.10.1-py3-none-any.whl (8.4 kB)\n",
            "Requirement already satisfied: matplotlib in /usr/local/lib/python3.7/dist-packages (from mpl_finance) (3.2.2)\n",
            "Requirement already satisfied: python-dateutil>=2.1 in /usr/local/lib/python3.7/dist-packages (from matplotlib->mpl_finance) (2.8.2)\n",
            "Requirement already satisfied: kiwisolver>=1.0.1 in /usr/local/lib/python3.7/dist-packages (from matplotlib->mpl_finance) (1.4.4)\n",
            "Requirement already satisfied: cycler>=0.10 in /usr/local/lib/python3.7/dist-packages (from matplotlib->mpl_finance) (0.11.0)\n",
            "Requirement already satisfied: numpy>=1.11 in /usr/local/lib/python3.7/dist-packages (from matplotlib->mpl_finance) (1.21.6)\n",
            "Requirement already satisfied: pyparsing!=2.0.4,!=2.1.2,!=2.1.6,>=2.0.1 in /usr/local/lib/python3.7/dist-packages (from matplotlib->mpl_finance) (3.0.9)\n",
            "Requirement already satisfied: typing-extensions in /usr/local/lib/python3.7/dist-packages (from kiwisolver>=1.0.1->matplotlib->mpl_finance) (4.1.1)\n",
            "Requirement already satisfied: six>=1.5 in /usr/local/lib/python3.7/dist-packages (from python-dateutil>=2.1->matplotlib->mpl_finance) (1.15.0)\n",
            "Installing collected packages: mpl-finance\n",
            "Successfully installed mpl-finance-0.10.1\n"
          ]
        }
      ],
      "source": [
        "#Library for visualization of data on candlestick charts\n",
        "!pip install mpl_finance\n",
        "import mpl_finance as mpf"
      ]
    },
    {
      "cell_type": "markdown",
      "metadata": {
        "id": "YwWz7W0b7Am1"
      },
      "source": [
        "Extra functions"
      ]
    },
    {
      "cell_type": "code",
      "execution_count": 6,
      "metadata": {
        "id": "Eff5mktvqi7v",
        "colab": {
          "base_uri": "https://localhost:8080/",
          "height": 303
        },
        "outputId": "042255c9-5507-495a-ce52-5c52131a3966"
      },
      "outputs": [
        {
          "output_type": "stream",
          "name": "stderr",
          "text": [
            "/usr/local/lib/python3.7/dist-packages/ipykernel_launcher.py:38: DeprecationWarning: `np.float` is a deprecated alias for the builtin `float`. To silence this warning, use `float` by itself. Doing this will not modify any behavior and is safe. If you specifically wanted the numpy scalar type, use `np.float64` here.\n",
            "Deprecated in NumPy 1.20; for more details and guidance: https://numpy.org/devdocs/release/1.20.0-notes.html#deprecations\n"
          ]
        },
        {
          "output_type": "display_data",
          "data": {
            "text/plain": [
              "<Figure size 432x288 with 1 Axes>"
            ],
            "image/png": "[encoded data removed]"
          },
          "metadata": {
            "needs_background": "light"
          }
        }
      ],
      "source": [
        "# function to view candlestick chart of labeled pattern\n",
        "def pattern_show_image(signal, target):           \n",
        "  fontsize=12\n",
        "  plt.rcParams['xtick.labelsize'] = fontsize  \n",
        "  plt.rcParams['ytick.labelsize'] = fontsize \n",
        "  plt.rcParams['axes.titlesize'] = fontsize           \n",
        "  fig = plt.figure(figsize=(8, 8))\n",
        "  ax = plt.subplot2grid((1, 1), (0, 0))           \n",
        "  ax.set_xticks(range(10))\n",
        "  ax.set_xticklabels(target.index)                     \n",
        "  arr = np.c_[range(target.shape[0]), target[['open', 'max', 'min', 'close']].values]\n",
        "  mpf.candlestick_ohlc(ax, arr, width=0.5, alpha=1, colordown='#ff1717', colorup='#53c156')          \n",
        "  locs, labels = plt.xticks() \n",
        "  plt.setp(labels , rotation = 45)\n",
        "  plt.grid()\n",
        "  ax.legend(loc = 'best', prop = {'size': fontsize})\n",
        "  title_name = signal\n",
        "  ax.set_title(title_name)\n",
        "  fig.subplots_adjust(bottom = 0.25)       \n",
        "  name = signal\n",
        "  plt.axis('off')\n",
        "  plt.show()\n",
        "\n",
        "\n",
        "\n",
        "\n",
        "# method that prints one image on the screen using GAF\n",
        "def image_gaf(serie):\n",
        "    max = np.amax(serie)\n",
        "    min = np.amin(serie)\n",
        "    result = serie_tiempo_gaf(serie,max,min)\n",
        "    plt.imshow(result, cmap='hot', interpolation='nearest')\n",
        "    plt.axis('off')\n",
        "    plt.show()\n",
        "\n",
        "\n",
        "# test, see image of gaf - opening values of japanese candlesticks in a double top pattern\n",
        "#serie = np.array(['1.44697','1.44678','1.4471','1.44761','1.44802','1.44803','1.4479','1.44752','1.44742','1.44721','1.4478','1.44741','1.44722','1.4471','1.44677']).astype(np.float)\n",
        "\n",
        "#image_gaf(serie)\n"
      ]
    },
    {
      "cell_type": "markdown",
      "metadata": {
        "id": "P_jeaAkiLypq"
      },
      "source": [
        "Obtain Japanese candlestick information, convert them to images using GAF\n"
      ]
    },
    {
      "cell_type": "code",
      "execution_count": 5,
      "metadata": {
        "id": "NddFjMuALrPZ"
      },
      "outputs": [],
      "source": [
        "# GAF function, converts a time series to a Gramian matrix.\n",
        "def serie_tiempo_gaf(serie,valueMax,valueMin):\n",
        "  if valueMax == valueMin:\n",
        "      mGaf = np.zeros((len(serie), len(serie)))\n",
        "  else:\n",
        "      serieNorm = np.array((serie-valueMin) / (valueMax-valueMin))\n",
        "      serieNormArc = np.arccos(serieNorm)\n",
        "      mGaf = np.zeros((len(serieNorm), len(serieNorm)))\n",
        "      for f in range(len(serieNorm)):\n",
        "          for c in range(len(serieNorm)):\n",
        "              mGaf[f, c] = np.cos(serieNormArc[f] + serieNormArc[c])\n",
        "  return mGaf\n",
        "\n",
        "\n",
        "# Function that receives a set of patterns with a predefined structure and that are converted through the GAF method.\n",
        "def create_gaf(serie_pattern):\n",
        "  data = serie_pattern.copy()\n",
        "  gaf = np.zeros((data.shape[0], data.shape[1], data.shape[1], data.shape[2]))\n",
        "  for i in range(data.shape[0]):\n",
        "      for c in range(data.shape[2]):\n",
        "          oneCat = data[i, :, c]\n",
        "          maxV = np.amax(oneCat)\n",
        "          minV = np.amin(oneCat)\n",
        "          result = serie_tiempo_gaf(oneCat, maxV, minV)\n",
        "          gaf[i, :, :, c] = result\n",
        "  return gaf\n",
        "\n",
        "\n",
        "# Function that returns a structured data series with the candlestick data for each pattern.\n",
        "# Given from the data of all the patterns recorded.\n",
        "def create_serie(df_pattern):\n",
        "  total = int(df_pattern.shape[0] / window )\n",
        "  serie = np.zeros((total, window, 4)) \n",
        "  for N in range(total):\n",
        "    df = df_pattern.loc[(df_pattern.index >= (N*window)) & (df_pattern.index < (N*window + window))]\n",
        "    serie[N, :, 0] = df['open']\n",
        "    serie[N, :, 1] = df['max']\n",
        "    serie[N, :, 2] = df['min']\n",
        "    serie[N, :, 3] = df['close']\n",
        "  return serie\n",
        " \n",
        "\n"
      ]
    },
    {
      "cell_type": "markdown",
      "metadata": {
        "id": "Db8fjLt-KDkz"
      },
      "source": [
        "Red CNN\n"
      ]
    },
    {
      "cell_type": "code",
      "execution_count": 7,
      "metadata": {
        "id": "mKVzFL33TUXs"
      },
      "outputs": [],
      "source": [
        "from sklearn.model_selection import train_test_split\n",
        "from keras.utils import np_utils\n",
        "from keras.models import Sequential\n",
        "from keras.layers import Dense, Dropout, Flatten, Conv2D, MaxPooling2D\n",
        "\n",
        "# Class to instantiate a CNN model\n",
        "class modelCNN(object):\n",
        "\n",
        "    # Sets the instance variables\n",
        "    def __init__(self, data_x, data_y):     \n",
        "        self.model = None\n",
        "        self.input_shape = None\n",
        "        self.label_shape = None\n",
        "        self.train_history = None\n",
        "        self.data_x, self.data_y = data_x, data_y \n",
        "        self.X_train, self.y_train, self.X_test, self.y_test = None, None, None, None\n",
        "        self. y_categoricalTrain, self.y_categoricalTest = None, None \n",
        "\n",
        "    # Divides the data into a test set and a test set     \n",
        "    def process(self):\n",
        "        self.X_train, self.X_test, self.y_train, self.y_test = train_test_split (self.data_x, self.data_y, test_size= 0.3, random_state = 42)\n",
        "        self. y_categoricalTrain, self.y_categoricalTest = np_utils.to_categorical(self.y_train), np_utils.to_categorical(self.y_test)\n",
        "        self.input_shape = self.X_train[0].shape\n",
        "        self.label_shape = self. y_categoricalTrain.shape[1]\n",
        "    \n",
        "    # Set the layers and their characteristics that make up the CNN model\n",
        "    def build(self):\n",
        "        self.model = Sequential()\n",
        "        self.model.add(Conv2D(filters=32, kernel_size=(2, 2), padding='same', input_shape = self.input_shape, activation='relu')) \n",
        "        self.model.add(MaxPooling2D(pool_size=(2, 2)))               \n",
        "        self.model.add(Conv2D(filters=32, kernel_size=(2, 2), padding='same', activation='relu'))\n",
        "        self.model.add(MaxPooling2D(pool_size=(2, 2)))   \n",
        "        self.model.add(Dropout(0.25))                                                                                \n",
        "        self.model.add(Flatten())\n",
        "        self.model.add(Dense(128, activation='relu'))                                               \n",
        "        self.model.add(Dropout(0.5))\n",
        "        self.model.add(Dense(self.label_shape, activation='softmax'))                                            \n",
        "        print(self.model.summary())                                                                               \n",
        "\n",
        "    # Training of the model created with the processed data\n",
        "    def train(self, split):\n",
        "        self.model.compile(loss='categorical_crossentropy', optimizer='adam', metrics=['accuracy']) \n",
        "        self.train_history = self.model.fit(x = self.X_train, y = self.y_categoricalTrain, validation_split = split, shuffle=True, epochs = 50, batch_size = 50, verbose = 2)      \n",
        "  \n",
        "    # Prediction for a specific value with the trained model\n",
        "    def predictTest(self,dataX):\n",
        "        prediction = self.model.predict(dataX)\n",
        "        print(prediction)\n",
        "        #print(pd.crosstab(self.y_test, prediction, rownames=['label'], colnames=['predict']))\n",
        "               \n",
        "    # Save the created/trained model\n",
        "    def save(self, filename):\n",
        "        self.model.save(filename)\n",
        "\n",
        "    # Displays training history\n",
        "    def show_train_history(self, train_history, train, validation):\n",
        "        plt.figure()\n",
        "        plt.plot(train_history.history[train])\n",
        "        plt.plot(train_history.history[validation])\n",
        "        plt.title('Train History')\n",
        "        plt.ylabel(train)\n",
        "        plt.xlabel('Epoch')\n",
        "        plt.legend(['train', 'validation'], loc='upper left')\n",
        "        plt.show()\n",
        "        \n",
        "    # Prints out the accuracy values after the delivery it has had\n",
        "    def show(self):\n",
        "        self.show_train_history(self.train_history, 'loss', 'val_loss')\n",
        "        self.show_train_history(self.train_history, 'accuracy', 'val_accuracy')\n",
        "        score = self.model.evaluate(self.X_test, self.y_categoricalTest)\n",
        "        print('Score of the Testing Data: {}'.format(score))\n",
        "        \n",
        "\n",
        "\n",
        "\n",
        "\n"
      ]
    },
    {
      "cell_type": "markdown",
      "source": [
        "Processing of the data using GAF and training of a CNN pattern identification model"
      ],
      "metadata": {
        "id": "ftJ2Uf6ry5SU"
      }
    },
    {
      "cell_type": "code",
      "execution_count": 10,
      "metadata": {
        "colab": {
          "base_uri": "https://localhost:8080/",
          "height": 1000
        },
        "id": "eqVr3dQVKIUn",
        "outputId": "59e1b64c-5b92-4a3b-e50d-d14ed65c6aa2"
      },
      "outputs": [
        {
          "output_type": "stream",
          "name": "stdout",
          "text": [
            "Model: \"sequential_2\"\n",
            "_________________________________________________________________\n",
            " Layer (type)                Output Shape              Param #   \n",
            "=================================================================\n",
            " conv2d_4 (Conv2D)           (None, 28, 28, 32)        544       \n",
            "                                                                 \n",
            " max_pooling2d_4 (MaxPooling  (None, 14, 14, 32)       0         \n",
            " 2D)                                                             \n",
            "                                                                 \n",
            " conv2d_5 (Conv2D)           (None, 14, 14, 32)        4128      \n",
            "                                                                 \n",
            " max_pooling2d_5 (MaxPooling  (None, 7, 7, 32)         0         \n",
            " 2D)                                                             \n",
            "                                                                 \n",
            " dropout_4 (Dropout)         (None, 7, 7, 32)          0         \n",
            "                                                                 \n",
            " flatten_2 (Flatten)         (None, 1568)              0         \n",
            "                                                                 \n",
            " dense_4 (Dense)             (None, 128)               200832    \n",
            "                                                                 \n",
            " dropout_5 (Dropout)         (None, 128)               0         \n",
            "                                                                 \n",
            " dense_5 (Dense)             (None, 3)                 387       \n",
            "                                                                 \n",
            "=================================================================\n",
            "Total params: 205,891\n",
            "Trainable params: 205,891\n",
            "Non-trainable params: 0\n",
            "_________________________________________________________________\n",
            "None\n",
            "Epoch 1/50\n",
            "3/3 - 1s - loss: 1.1225 - accuracy: 0.4296 - val_loss: 1.0114 - val_accuracy: 0.3333 - 822ms/epoch - 274ms/step\n",
            "Epoch 2/50\n",
            "3/3 - 0s - loss: 0.8714 - accuracy: 0.5986 - val_loss: 0.7865 - val_accuracy: 0.8056 - 127ms/epoch - 42ms/step\n",
            "Epoch 3/50\n",
            "3/3 - 0s - loss: 0.6075 - accuracy: 0.8592 - val_loss: 0.6560 - val_accuracy: 0.7222 - 122ms/epoch - 41ms/step\n",
            "Epoch 4/50\n",
            "3/3 - 0s - loss: 0.4967 - accuracy: 0.8592 - val_loss: 0.5020 - val_accuracy: 0.8333 - 121ms/epoch - 40ms/step\n",
            "Epoch 5/50\n",
            "3/3 - 0s - loss: 0.3343 - accuracy: 0.8662 - val_loss: 0.3977 - val_accuracy: 0.8611 - 131ms/epoch - 44ms/step\n",
            "Epoch 6/50\n",
            "3/3 - 0s - loss: 0.2731 - accuracy: 0.9085 - val_loss: 0.3176 - val_accuracy: 0.8889 - 136ms/epoch - 45ms/step\n",
            "Epoch 7/50\n",
            "3/3 - 0s - loss: 0.2580 - accuracy: 0.8944 - val_loss: 0.2993 - val_accuracy: 0.8611 - 119ms/epoch - 40ms/step\n",
            "Epoch 8/50\n",
            "3/3 - 0s - loss: 0.1828 - accuracy: 0.9577 - val_loss: 0.2619 - val_accuracy: 0.8611 - 126ms/epoch - 42ms/step\n",
            "Epoch 9/50\n",
            "3/3 - 0s - loss: 0.1373 - accuracy: 0.9507 - val_loss: 0.1980 - val_accuracy: 0.9444 - 121ms/epoch - 40ms/step\n",
            "Epoch 10/50\n",
            "3/3 - 0s - loss: 0.0899 - accuracy: 0.9859 - val_loss: 0.1801 - val_accuracy: 0.9167 - 147ms/epoch - 49ms/step\n",
            "Epoch 11/50\n",
            "3/3 - 0s - loss: 0.1238 - accuracy: 0.9437 - val_loss: 0.1818 - val_accuracy: 0.9167 - 130ms/epoch - 43ms/step\n",
            "Epoch 12/50\n",
            "3/3 - 0s - loss: 0.0883 - accuracy: 0.9718 - val_loss: 0.2130 - val_accuracy: 0.8611 - 126ms/epoch - 42ms/step\n",
            "Epoch 13/50\n",
            "3/3 - 0s - loss: 0.1106 - accuracy: 0.9507 - val_loss: 0.1912 - val_accuracy: 0.9167 - 127ms/epoch - 42ms/step\n",
            "Epoch 14/50\n",
            "3/3 - 0s - loss: 0.0555 - accuracy: 0.9859 - val_loss: 0.1603 - val_accuracy: 0.9444 - 136ms/epoch - 45ms/step\n",
            "Epoch 15/50\n",
            "3/3 - 0s - loss: 0.0677 - accuracy: 0.9789 - val_loss: 0.1596 - val_accuracy: 0.9444 - 125ms/epoch - 42ms/step\n",
            "Epoch 16/50\n",
            "3/3 - 0s - loss: 0.0439 - accuracy: 0.9859 - val_loss: 0.1782 - val_accuracy: 0.9167 - 123ms/epoch - 41ms/step\n",
            "Epoch 17/50\n",
            "3/3 - 0s - loss: 0.0484 - accuracy: 0.9859 - val_loss: 0.2081 - val_accuracy: 0.8889 - 120ms/epoch - 40ms/step\n",
            "Epoch 18/50\n",
            "3/3 - 0s - loss: 0.0369 - accuracy: 0.9930 - val_loss: 0.2150 - val_accuracy: 0.8889 - 126ms/epoch - 42ms/step\n",
            "Epoch 19/50\n",
            "3/3 - 0s - loss: 0.0269 - accuracy: 0.9859 - val_loss: 0.2227 - val_accuracy: 0.8611 - 121ms/epoch - 40ms/step\n",
            "Epoch 20/50\n",
            "3/3 - 0s - loss: 0.0473 - accuracy: 0.9859 - val_loss: 0.2303 - val_accuracy: 0.8611 - 125ms/epoch - 42ms/step\n",
            "Epoch 21/50\n",
            "3/3 - 0s - loss: 0.0302 - accuracy: 0.9930 - val_loss: 0.2201 - val_accuracy: 0.8611 - 123ms/epoch - 41ms/step\n",
            "Epoch 22/50\n",
            "3/3 - 0s - loss: 0.0304 - accuracy: 1.0000 - val_loss: 0.2294 - val_accuracy: 0.8611 - 132ms/epoch - 44ms/step\n",
            "Epoch 23/50\n",
            "3/3 - 0s - loss: 0.0300 - accuracy: 0.9930 - val_loss: 0.2478 - val_accuracy: 0.8611 - 141ms/epoch - 47ms/step\n",
            "Epoch 24/50\n",
            "3/3 - 0s - loss: 0.0325 - accuracy: 0.9930 - val_loss: 0.2512 - val_accuracy: 0.8611 - 121ms/epoch - 40ms/step\n",
            "Epoch 25/50\n",
            "3/3 - 0s - loss: 0.0281 - accuracy: 0.9930 - val_loss: 0.2080 - val_accuracy: 0.8611 - 123ms/epoch - 41ms/step\n",
            "Epoch 26/50\n",
            "3/3 - 0s - loss: 0.0285 - accuracy: 0.9930 - val_loss: 0.1906 - val_accuracy: 0.8889 - 126ms/epoch - 42ms/step\n",
            "Epoch 27/50\n",
            "3/3 - 0s - loss: 0.0310 - accuracy: 0.9859 - val_loss: 0.1950 - val_accuracy: 0.8889 - 124ms/epoch - 41ms/step\n",
            "Epoch 28/50\n",
            "3/3 - 0s - loss: 0.0253 - accuracy: 0.9930 - val_loss: 0.2027 - val_accuracy: 0.8889 - 120ms/epoch - 40ms/step\n",
            "Epoch 29/50\n",
            "3/3 - 0s - loss: 0.0146 - accuracy: 1.0000 - val_loss: 0.2106 - val_accuracy: 0.9167 - 130ms/epoch - 43ms/step\n",
            "Epoch 30/50\n",
            "3/3 - 0s - loss: 0.0137 - accuracy: 1.0000 - val_loss: 0.2200 - val_accuracy: 0.9167 - 134ms/epoch - 45ms/step\n",
            "Epoch 31/50\n",
            "3/3 - 0s - loss: 0.0267 - accuracy: 0.9930 - val_loss: 0.2295 - val_accuracy: 0.9167 - 132ms/epoch - 44ms/step\n",
            "Epoch 32/50\n",
            "3/3 - 0s - loss: 0.0101 - accuracy: 1.0000 - val_loss: 0.2394 - val_accuracy: 0.8889 - 126ms/epoch - 42ms/step\n",
            "Epoch 33/50\n",
            "3/3 - 0s - loss: 0.0131 - accuracy: 1.0000 - val_loss: 0.2468 - val_accuracy: 0.8889 - 121ms/epoch - 40ms/step\n",
            "Epoch 34/50\n",
            "3/3 - 0s - loss: 0.0189 - accuracy: 0.9930 - val_loss: 0.2698 - val_accuracy: 0.8611 - 120ms/epoch - 40ms/step\n",
            "Epoch 35/50\n",
            "3/3 - 0s - loss: 0.0160 - accuracy: 0.9930 - val_loss: 0.2824 - val_accuracy: 0.8611 - 132ms/epoch - 44ms/step\n",
            "Epoch 36/50\n",
            "3/3 - 0s - loss: 0.0107 - accuracy: 1.0000 - val_loss: 0.2801 - val_accuracy: 0.8889 - 122ms/epoch - 41ms/step\n",
            "Epoch 37/50\n",
            "3/3 - 0s - loss: 0.0176 - accuracy: 0.9930 - val_loss: 0.2673 - val_accuracy: 0.8889 - 135ms/epoch - 45ms/step\n",
            "Epoch 38/50\n",
            "3/3 - 0s - loss: 0.0083 - accuracy: 1.0000 - val_loss: 0.2650 - val_accuracy: 0.8889 - 121ms/epoch - 40ms/step\n",
            "Epoch 39/50\n",
            "3/3 - 0s - loss: 0.0083 - accuracy: 1.0000 - val_loss: 0.2694 - val_accuracy: 0.8889 - 123ms/epoch - 41ms/step\n",
            "Epoch 40/50\n",
            "3/3 - 0s - loss: 0.0067 - accuracy: 1.0000 - val_loss: 0.2782 - val_accuracy: 0.8889 - 138ms/epoch - 46ms/step\n",
            "Epoch 41/50\n",
            "3/3 - 0s - loss: 0.0060 - accuracy: 1.0000 - val_loss: 0.2887 - val_accuracy: 0.8889 - 123ms/epoch - 41ms/step\n",
            "Epoch 42/50\n",
            "3/3 - 0s - loss: 0.0045 - accuracy: 1.0000 - val_loss: 0.3093 - val_accuracy: 0.8889 - 125ms/epoch - 42ms/step\n",
            "Epoch 43/50\n",
            "3/3 - 0s - loss: 0.0217 - accuracy: 0.9859 - val_loss: 0.2948 - val_accuracy: 0.8889 - 123ms/epoch - 41ms/step\n",
            "Epoch 44/50\n",
            "3/3 - 0s - loss: 0.0190 - accuracy: 0.9930 - val_loss: 0.2920 - val_accuracy: 0.8889 - 125ms/epoch - 42ms/step\n",
            "Epoch 45/50\n",
            "3/3 - 0s - loss: 0.0057 - accuracy: 1.0000 - val_loss: 0.2954 - val_accuracy: 0.8611 - 136ms/epoch - 45ms/step\n",
            "Epoch 46/50\n",
            "3/3 - 0s - loss: 0.0253 - accuracy: 0.9930 - val_loss: 0.2800 - val_accuracy: 0.8611 - 124ms/epoch - 41ms/step\n",
            "Epoch 47/50\n",
            "3/3 - 0s - loss: 0.0069 - accuracy: 1.0000 - val_loss: 0.3399 - val_accuracy: 0.8056 - 122ms/epoch - 41ms/step\n",
            "Epoch 48/50\n",
            "3/3 - 0s - loss: 0.0064 - accuracy: 1.0000 - val_loss: 0.4110 - val_accuracy: 0.8333 - 124ms/epoch - 41ms/step\n",
            "Epoch 49/50\n",
            "3/3 - 0s - loss: 0.0212 - accuracy: 0.9859 - val_loss: 0.3691 - val_accuracy: 0.8333 - 127ms/epoch - 42ms/step\n",
            "Epoch 50/50\n",
            "3/3 - 0s - loss: 0.0073 - accuracy: 1.0000 - val_loss: 0.3001 - val_accuracy: 0.8333 - 129ms/epoch - 43ms/step\n"
          ]
        },
        {
          "output_type": "display_data",
          "data": {
            "text/plain": [
              "<Figure size 432x288 with 1 Axes>"
            ],
            "image/png": "[encoded data removed]"
          },
          "metadata": {
            "needs_background": "light"
          }
        },
        {
          "output_type": "display_data",
          "data": {
            "text/plain": [
              "<Figure size 432x288 with 1 Axes>"
            ],
            "image/png": "[encoded data removed]"
          },
          "metadata": {
            "needs_background": "light"
          }
        },
        {
          "output_type": "stream",
          "name": "stdout",
          "text": [
            "3/3 [==============================] - 0s 8ms/step - loss: 0.2919 - accuracy: 0.9610\n",
            "Score of the Testing Data: [0.29187196493148804, 0.9610389471054077]\n"
          ]
        }
      ],
      "source": [
        "# Function that creates a CNN model and trains it with the labeled data, at the end it displays the training results.\n",
        "def cnn(dataDic):\n",
        "  x_data = dataDic['data']\n",
        "  y_target = dataDic['target']\n",
        "  model = modelCNN(x_data, y_target) \n",
        "  model.process()\n",
        "  model.build()\n",
        "  model.train(0.2)\n",
        "  model.show()\n",
        "\n",
        "  # Save model\n",
        "  name = 'model_pattern'\n",
        "  load_model = 'CNN_' + name + '.h5'\n",
        "  model.save(load_model)\n",
        "\n",
        "# Function that structures the data sets for use in the neural network.\n",
        "# For each set, it is labeled differently from another one\n",
        "def process_data(d1,d2,d3):\n",
        "  total = d1.shape[0] + d2.shape[0] + d3.shape[0]\n",
        "  xSerie = np.zeros((total, window, window, 4))\n",
        "  xSerie[0:d1.shape[0] - 1, :, :, :] = d1[0:d1.shape[0] - 1, :, :, :] \n",
        "  xSerie[d1.shape[0]: d1.shape[0] + d2.shape[0] - 1, :, :, :] = d2[0:d2.shape[0] - 1, :, :, :] \n",
        "  xSerie[d1.shape[0] + d2.shape[0]:total -1 , :, :, :] = d3[0:d3.shape[0] - 1, :, :, :] \n",
        "  yData = []\n",
        "  ls = [0] * d1.shape[0] \n",
        "  yData.extend(ls)\n",
        "  ls = [1] * d2.shape[0]\n",
        "  yData.extend(ls)\n",
        "  ls = [2] * d3.shape[0]\n",
        "  yData.extend(ls)\n",
        "  ySerie = np.array(yData)\n",
        "  dataDic = {'data': xSerie, 'target': ySerie}\n",
        "  return dataDic\n",
        "\n",
        "\n",
        "\n",
        "# Size of window in which it is predisposed to identify market patterns\n",
        "window = 28\n",
        "\n",
        "# Loads labeled pattern data\n",
        "# Each set of patterns is structured into a time series that can be processed, to be transformed by the GAF method.\n",
        "c_h_eurusd = create_gaf(create_serie(pd.read_csv('/content/drive/MyDrive/Tesis de grado/datos/Procesados/Obtenidos/S&H/patron_cabezaHombros_23_23_EURUSD.csv')))\n",
        "c_h_gbpusd = create_gaf(create_serie(pd.read_csv('/content/drive/MyDrive/Tesis de grado/datos/Procesados/Obtenidos/S&H/patron_cabezaHombros_26_26_GBPUSD.csv')))\n",
        "c_h_usdjpy = create_gaf(create_serie(pd.read_csv('/content/drive/MyDrive/Tesis de grado/datos/Procesados/Obtenidos/S&H/patron_cabezaHombros_31_31_USDJPY.csv')))\n",
        "c_h_eurchf = create_gaf(create_serie(pd.read_csv('/content/drive/MyDrive/Tesis de grado/datos/Procesados/Obtenidos/S&H/patron_cabezaHombros_8_8_USDCHF.csv')))\n",
        "tt_eurusd = create_gaf(create_serie(pd.read_csv('/content/drive/MyDrive/Tesis de grado/datos/Procesados/Obtenidos/dobleTop/patron_dobleT_21_21_GBPUSD.csv')))\n",
        "tt_gbpusd = create_gaf(create_serie(pd.read_csv('/content/drive/MyDrive/Tesis de grado/datos/Procesados/Obtenidos/dobleTop/patron_dobleT_21_21_USDCHF.csv')))\n",
        "tt_usdjpy = create_gaf(create_serie(pd.read_csv('/content/drive/MyDrive/Tesis de grado/datos/Procesados/Obtenidos/dobleTop/patron_dobleT_22_22_USDJPY.csv')))\n",
        "tt_eurchf = create_gaf(create_serie(pd.read_csv('/content/drive/MyDrive/Tesis de grado/datos/Procesados/Obtenidos/dobleTop/patron_dobleT_23_23_EURUSD.csv')))\n",
        "rd_eurusd = create_gaf(create_serie(pd.read_csv('/content/drive/MyDrive/Tesis de grado/datos/Procesados/Obtenidos/patron_random_80_80_EURUSD.csv')))\n",
        "\n",
        "# Data from patterns that were tagged in parts are joined into a single set per tag\n",
        "pattern_c_h_all = np.concatenate((c_h_eurusd, c_h_gbpusd, c_h_usdjpy, c_h_eurchf))\n",
        "pattern_tt_all = np.concatenate((tt_eurusd, tt_gbpusd, tt_usdjpy, tt_eurchf))\n",
        "\n",
        "# Call to the function that creates and trains the network, passing the processed data from the labeled dataset\n",
        "cnn(process_data(pattern_c_h_all,pattern_tt_all, rd_eurusd))\n",
        "\n"
      ]
    },
    {
      "cell_type": "markdown",
      "metadata": {
        "id": "7h4Fp_0a8DUk"
      },
      "source": [
        "Functions for labeling patterns"
      ]
    },
    {
      "cell_type": "code",
      "execution_count": null,
      "metadata": {
        "id": "wtDAZ-f-Ns3W"
      },
      "outputs": [],
      "source": [
        "#var\n",
        "window_range = 28 \n",
        "\n",
        "end_first_stretch_dt = 5\n",
        "end_second_stretch_dt = 8\n",
        "end_third_stretch_dt = 11\n",
        "end_length_dt = 5\n",
        "length_valle_dt = 3\n",
        "\n",
        "end_first_stretch_sh = 7\n",
        "end_second_stretch_sh = 11\n",
        "end_third_stretch_sh = 15\n",
        "end_fourth_stretch_sh = 19\n",
        "end_fifth_stretch_sh = 23\n",
        "end_length_sh = 7\n",
        "length_valle_sh = 4\n",
        "\n",
        "# Set the values necessary to define the characteristics of the searched pattern in a specific window range\n",
        "def set_values_dt(window):\n",
        "  if window % 2 == 1 or window < 16:\n",
        "    return 1\n",
        "\n",
        "  global end_first_stretch_dt\n",
        "  global end_second_stretch_dt\n",
        "  global end_third_stretch_dt\n",
        "  global end_length_dt\n",
        "  global length_valle_dt\n",
        "  global window_range\n",
        "\n",
        "  reservation = 2 \n",
        "  aux = int(((window/2)-reservation)/2)\n",
        "  auxr = int((window - aux * 4) /2)\n",
        "  end_first_stretch_dt = aux + auxr\n",
        "  end_second_stretch_dt = end_first_stretch_dt + aux\n",
        "  end_third_stretch_dt = end_second_stretch_dt + aux\n",
        "  end_length_dt = int(end_first_stretch_dt)\n",
        "  length_valle_dt = int(aux)\n",
        "  window_range = window\n",
        "  return 0  \n",
        "\n",
        "\n",
        "# Set the values necessary to define the characteristics of the searched pattern in a specific window range\n",
        "def set_values_sh(window):\n",
        "  if window % 2 == 1 or window < 16:\n",
        "    return 1\n",
        "\n",
        "  global end_first_stretch_sh\n",
        "  global end_second_stretch_sh\n",
        "  global end_third_stretch_sh\n",
        "  global end_fourth_stretch_sh\n",
        "  global end_fifth_stretch_sh\n",
        "  global end_length_sh\n",
        "  global length_valle_sh\n",
        "  global window_range\n",
        "  \n",
        "  reservation = 2 \n",
        "  length_valle_sh = int((window-reservation)/6)  \n",
        "  end_length_sh = int(  (window - length_valle_sh*6)/2   ) \n",
        "  \n",
        "  end_first_stretch_sh = end_length_sh + length_valle_sh\n",
        "  end_second_stretch_sh = end_first_stretch_sh + length_valle_sh \n",
        "  end_third_stretch_sh = end_second_stretch_sh + length_valle_sh \n",
        "  end_fourth_stretch_sh = end_third_stretch_sh + length_valle_sh\n",
        "  end_fifth_stretch_sh = end_fourth_stretch_sh + length_valle_sh\n",
        "  window_range = window\n",
        "  return 0 \n",
        "\n",
        "# Determines whether the existence of a pattern is possible according to the definition of its formation, given from a series of data, according to the length of the window.\n",
        "def head_shoulders(series):\n",
        "        y = series.values.reshape(-1,1)\n",
        "        x = np.array(range(1, series.shape[0] + 1)).reshape(-1,1)\n",
        "        if max(y[:end_second_stretch_sh]) > min(y[end_first_stretch_sh:end_third_stretch_sh]) and max(y[:end_second_stretch_sh]) < max(y[end_second_stretch_sh:end_fourth_stretch_sh]) and max(y[end_fourth_stretch_sh:window_range]) > min(y[end_third_stretch_sh:end_fifth_stretch_sh]) and max(y[end_fourth_stretch_sh:window_range]) < max(y[end_second_stretch_sh:end_fourth_stretch_sh]) and uptrend(y[:end_first_stretch_sh], x[:end_first_stretch_sh]) and downtrend(y[end_first_stretch_sh:end_second_stretch_sh], x[:length_valle_sh]) and uptrend(y[end_second_stretch_sh:end_third_stretch_sh], x[:length_valle_sh]) and downtrend(y[end_third_stretch_sh:end_fourth_stretch_sh], x[:length_valle_sh]) and uptrend(y[end_fourth_stretch_sh:end_fifth_stretch_sh], x[:length_valle_sh]) and downtrend(y[end_fifth_stretch_sh:window_range], x[:end_first_stretch_sh]):\n",
        "          return True\n",
        "        else:\n",
        "          return False\n",
        "\n",
        "# Determines whether the existence of a pattern is possible according to the definition of its formation, given from a series of data, according to the length of the window.\n",
        "def double_top(series):\n",
        "        y = series.values.reshape(-1,1)\n",
        "        x = np.array(range(1, series.shape[0] + 1)).reshape(-1,1)\n",
        "        if uptrend(y[:end_first_stretch_dt], x[:end_length_dt])  and downtrend(y[end_first_stretch_dt:end_second_stretch_dt], x[:length_valle_dt]) and uptrend(y[end_second_stretch_dt:end_third_stretch_dt], x[:length_valle_dt]) and downtrend(y[end_third_stretch_dt:window_range], x[:end_length_dt]) and (min(y[:end_first_stretch_dt]) < min(y[end_first_stretch_dt:end_third_stretch_dt])) and (min(y[end_first_stretch_dt:end_third_stretch_dt]) > min(y[end_third_stretch_dt:window_range])) and (max(y[:end_second_stretch_dt]) > max(y[end_second_stretch_dt:window_range])):\n",
        "          return True\n",
        "        else:\n",
        "          return False\n",
        "\n",
        "# Extracts randoms movements from the market\n",
        "def randomPtt(series):\n",
        "  n = random.randint(0,100)\n",
        "  if n == 1:\n",
        "    return True\n",
        "  else:\n",
        "    return False\n",
        "\n",
        "# Determines the existence of a trend, according to a series of data\n",
        "def is_tide(y,x):\n",
        "  model = LinearRegression()\n",
        "  model.fit(x, y)\n",
        "  slope = model.coef_\n",
        "  if slope > 0.0001:\n",
        "    return True\n",
        "  else:\n",
        "    return False\n",
        "\n",
        "def downtrend(y,x):\n",
        "  newY = y[::-1]\n",
        "  return is_tide(newY,x)\n",
        "  \n",
        "def uptrend(y,x):\n",
        "  return is_tide(y,x)"
      ]
    },
    {
      "cell_type": "markdown",
      "source": [
        "**Get and label data**"
      ],
      "metadata": {
        "id": "xQPIUej3S8o8"
      }
    },
    {
      "cell_type": "code",
      "execution_count": null,
      "metadata": {
        "colab": {
          "base_uri": "https://localhost:8080/",
          "height": 1000
        },
        "id": "y_wTD_XEG8Tr",
        "outputId": "97160f67-0e03-406f-e770-a16c8ffd90dc"
      },
      "outputs": [
        {
          "name": "stdout",
          "output_type": "stream",
          "text": [
            "0.0    3861527\n",
            "1.0      38446\n",
            "Name: random, dtype: int64\n",
            "Conyinuar...\n",
            "y\n"
          ]
        },
        {
          "output_type": "stream",
          "name": "stderr",
          "text": [
            "No handles with labels found to put in legend.\n"
          ]
        },
        {
          "output_type": "stream",
          "name": "stdout",
          "text": [
            "Count: 1/38446\n"
          ]
        },
        {
          "output_type": "display_data",
          "data": {
            "text/plain": [
              "<Figure size 576x576 with 1 Axes>"
            ],
            "image/png": "[encoded data removed]"
          },
          "metadata": {
            "needs_background": "light"
          }
        },
        {
          "name": "stdout",
          "output_type": "stream",
          "text": [
            "Agregar, Y o N ? or save to create .csv\n",
            "y\n"
          ]
        },
        {
          "output_type": "stream",
          "name": "stderr",
          "text": [
            "No handles with labels found to put in legend.\n"
          ]
        },
        {
          "output_type": "stream",
          "name": "stdout",
          "text": [
            "Contador: 1\n",
            "Count: 2/38446\n"
          ]
        },
        {
          "output_type": "display_data",
          "data": {
            "text/plain": [
              "<Figure size 576x576 with 1 Axes>"
            ],
            "image/png": "[encoded data removed]"
          },
          "metadata": {
            "needs_background": "light"
          }
        },
        {
          "name": "stdout",
          "output_type": "stream",
          "text": [
            "Agregar, Y o N ? or save to create .csv\n",
            "y\n"
          ]
        },
        {
          "output_type": "stream",
          "name": "stderr",
          "text": [
            "No handles with labels found to put in legend.\n"
          ]
        },
        {
          "output_type": "stream",
          "name": "stdout",
          "text": [
            "Contador: 2\n",
            "Count: 3/38446\n"
          ]
        },
        {
          "output_type": "display_data",
          "data": {
            "text/plain": [
              "<Figure size 576x576 with 1 Axes>"
            ],
            "image/png": "[encoded data removed]"
          },
          "metadata": {
            "needs_background": "light"
          }
        },
        {
          "name": "stdout",
          "output_type": "stream",
          "text": [
            "Agregar, Y o N ? or save to create .csv\n",
            "y\n"
          ]
        },
        {
          "output_type": "stream",
          "name": "stderr",
          "text": [
            "No handles with labels found to put in legend.\n"
          ]
        },
        {
          "output_type": "stream",
          "name": "stdout",
          "text": [
            "Contador: 3\n",
            "Count: 4/38446\n"
          ]
        },
        {
          "output_type": "display_data",
          "data": {
            "text/plain": [
              "<Figure size 576x576 with 1 Axes>"
            ],
            "image/png": "[encoded data removed]"
          },
          "metadata": {
            "needs_background": "light"
          }
        },
        {
          "name": "stdout",
          "output_type": "stream",
          "text": [
            "Agregar, Y o N ? or save to create .csv\n",
            "y\n"
          ]
        },
        {
          "output_type": "stream",
          "name": "stderr",
          "text": [
            "No handles with labels found to put in legend.\n"
          ]
        },
        {
          "output_type": "stream",
          "name": "stdout",
          "text": [
            "Contador: 4\n",
            "Count: 5/38446\n"
          ]
        },
        {
          "output_type": "display_data",
          "data": {
            "text/plain": [
              "<Figure size 576x576 with 1 Axes>"
            ],
            "image/png": "[encoded data removed]"
          },
          "metadata": {
            "needs_background": "light"
          }
        },
        {
          "name": "stdout",
          "output_type": "stream",
          "text": [
            "Agregar, Y o N ? or save to create .csv\n",
            "y\n"
          ]
        },
        {
          "output_type": "stream",
          "name": "stderr",
          "text": [
            "No handles with labels found to put in legend.\n"
          ]
        },
        {
          "output_type": "stream",
          "name": "stdout",
          "text": [
            "Contador: 5\n",
            "Count: 6/38446\n"
          ]
        },
        {
          "output_type": "display_data",
          "data": {
            "text/plain": [
              "<Figure size 576x576 with 1 Axes>"
            ],
            "image/png": "[encoded data removed]"
          },
          "metadata": {
            "needs_background": "light"
          }
        },
        {
          "name": "stdout",
          "output_type": "stream",
          "text": [
            "Agregar, Y o N ? or save to create .csv\n",
            "y\n"
          ]
        },
        {
          "output_type": "stream",
          "name": "stderr",
          "text": [
            "No handles with labels found to put in legend.\n"
          ]
        },
        {
          "output_type": "stream",
          "name": "stdout",
          "text": [
            "Contador: 6\n",
            "Count: 7/38446\n"
          ]
        },
        {
          "output_type": "display_data",
          "data": {
            "text/plain": [
              "<Figure size 576x576 with 1 Axes>"
            ],
            "image/png": "[encoded data removed]"
          },
          "metadata": {
            "needs_background": "light"
          }
        },
        {
          "name": "stdout",
          "output_type": "stream",
          "text": [
            "Agregar, Y o N ? or save to create .csv\n",
            "y\n"
          ]
        },
        {
          "output_type": "stream",
          "name": "stderr",
          "text": [
            "No handles with labels found to put in legend.\n"
          ]
        },
        {
          "output_type": "stream",
          "name": "stdout",
          "text": [
            "Contador: 7\n",
            "Count: 8/38446\n"
          ]
        },
        {
          "output_type": "display_data",
          "data": {
            "text/plain": [
              "<Figure size 576x576 with 1 Axes>"
            ],
            "image/png": "[encoded data removed]"
          },
          "metadata": {
            "needs_background": "light"
          }
        },
        {
          "name": "stdout",
          "output_type": "stream",
          "text": [
            "Agregar, Y o N ? or save to create .csv\n",
            "y\n"
          ]
        },
        {
          "output_type": "stream",
          "name": "stderr",
          "text": [
            "No handles with labels found to put in legend.\n"
          ]
        },
        {
          "output_type": "stream",
          "name": "stdout",
          "text": [
            "Contador: 8\n",
            "Count: 9/38446\n"
          ]
        },
        {
          "output_type": "display_data",
          "data": {
            "text/plain": [
              "<Figure size 576x576 with 1 Axes>"
            ],
            "image/png": "[encoded data removed]"
          },
          "metadata": {
            "needs_background": "light"
          }
        },
        {
          "output_type": "stream",
          "name": "stdout",
          "text": [
            "Agregar, Y o N ? or save to create .csv\n",
            "y\n",
            "Contador: 9\n",
            "Count: 10/38446\n"
          ]
        },
        {
          "output_type": "stream",
          "name": "stderr",
          "text": [
            "No handles with labels found to put in legend.\n"
          ]
        },
        {
          "output_type": "display_data",
          "data": {
            "text/plain": [
              "<Figure size 576x576 with 1 Axes>"
            ],
            "image/png": "[encoded data removed]"
          },
          "metadata": {
            "needs_background": "light"
          }
        },
        {
          "name": "stdout",
          "output_type": "stream",
          "text": [
            "Agregar, Y o N ? or save to create .csv\n",
            "y\n"
          ]
        },
        {
          "output_type": "stream",
          "name": "stderr",
          "text": [
            "No handles with labels found to put in legend.\n"
          ]
        },
        {
          "output_type": "stream",
          "name": "stdout",
          "text": [
            "Contador: 10\n",
            "Count: 11/38446\n"
          ]
        },
        {
          "output_type": "display_data",
          "data": {
            "text/plain": [
              "<Figure size 576x576 with 1 Axes>"
            ],
            "image/png": "[encoded data removed]"
          },
          "metadata": {
            "needs_background": "light"
          }
        },
        {
          "name": "stdout",
          "output_type": "stream",
          "text": [
            "Agregar, Y o N ? or save to create .csv\n",
            "y\n"
          ]
        },
        {
          "output_type": "stream",
          "name": "stderr",
          "text": [
            "No handles with labels found to put in legend.\n"
          ]
        },
        {
          "output_type": "stream",
          "name": "stdout",
          "text": [
            "Contador: 11\n",
            "Count: 12/38446\n"
          ]
        },
        {
          "output_type": "display_data",
          "data": {
            "text/plain": [
              "<Figure size 576x576 with 1 Axes>"
            ],
            "image/png": "[encoded data removed]"
          },
          "metadata": {
            "needs_background": "light"
          }
        },
        {
          "name": "stdout",
          "output_type": "stream",
          "text": [
            "Agregar, Y o N ? or save to create .csv\n",
            "y\n"
          ]
        },
        {
          "output_type": "stream",
          "name": "stderr",
          "text": [
            "No handles with labels found to put in legend.\n"
          ]
        },
        {
          "output_type": "stream",
          "name": "stdout",
          "text": [
            "Contador: 12\n",
            "Count: 13/38446\n"
          ]
        },
        {
          "output_type": "display_data",
          "data": {
            "text/plain": [
              "<Figure size 576x576 with 1 Axes>"
            ],
            "image/png": "[encoded data removed]"
          },
          "metadata": {
            "needs_background": "light"
          }
        },
        {
          "name": "stdout",
          "output_type": "stream",
          "text": [
            "Agregar, Y o N ? or save to create .csv\n",
            "y\n"
          ]
        },
        {
          "output_type": "stream",
          "name": "stderr",
          "text": [
            "No handles with labels found to put in legend.\n"
          ]
        },
        {
          "output_type": "stream",
          "name": "stdout",
          "text": [
            "Contador: 13\n",
            "Count: 14/38446\n"
          ]
        },
        {
          "output_type": "display_data",
          "data": {
            "text/plain": [
              "<Figure size 576x576 with 1 Axes>"
            ],
            "image/png": "[encoded data removed]"
          },
          "metadata": {
            "needs_background": "light"
          }
        },
        {
          "name": "stdout",
          "output_type": "stream",
          "text": [
            "Agregar, Y o N ? or save to create .csv\n",
            "y\n"
          ]
        },
        {
          "output_type": "stream",
          "name": "stderr",
          "text": [
            "No handles with labels found to put in legend.\n"
          ]
        },
        {
          "output_type": "stream",
          "name": "stdout",
          "text": [
            "Contador: 14\n",
            "Count: 15/38446\n"
          ]
        },
        {
          "output_type": "display_data",
          "data": {
            "text/plain": [
              "<Figure size 576x576 with 1 Axes>"
            ],
            "image/png": "[encoded data removed]"
          },
          "metadata": {
            "needs_background": "light"
          }
        },
        {
          "name": "stdout",
          "output_type": "stream",
          "text": [
            "Agregar, Y o N ? or save to create .csv\n",
            "y\n"
          ]
        },
        {
          "output_type": "stream",
          "name": "stderr",
          "text": [
            "No handles with labels found to put in legend.\n"
          ]
        },
        {
          "output_type": "stream",
          "name": "stdout",
          "text": [
            "Contador: 15\n",
            "Count: 16/38446\n"
          ]
        },
        {
          "output_type": "display_data",
          "data": {
            "text/plain": [
              "<Figure size 576x576 with 1 Axes>"
            ],
            "image/png": "[encoded data removed]"
          },
          "metadata": {
            "needs_background": "light"
          }
        },
        {
          "name": "stdout",
          "output_type": "stream",
          "text": [
            "Agregar, Y o N ? or save to create .csv\n",
            "y\n"
          ]
        },
        {
          "output_type": "stream",
          "name": "stderr",
          "text": [
            "No handles with labels found to put in legend.\n"
          ]
        },
        {
          "output_type": "stream",
          "name": "stdout",
          "text": [
            "Contador: 16\n",
            "Count: 17/38446\n"
          ]
        },
        {
          "output_type": "display_data",
          "data": {
            "text/plain": [
              "<Figure size 576x576 with 1 Axes>"
            ],
            "image/png": "[encoded data removed]"
          },
          "metadata": {
            "needs_background": "light"
          }
        },
        {
          "name": "stdout",
          "output_type": "stream",
          "text": [
            "Agregar, Y o N ? or save to create .csv\n",
            "y\n"
          ]
        },
        {
          "output_type": "stream",
          "name": "stderr",
          "text": [
            "No handles with labels found to put in legend.\n"
          ]
        },
        {
          "output_type": "stream",
          "name": "stdout",
          "text": [
            "Contador: 17\n",
            "Count: 18/38446\n"
          ]
        },
        {
          "output_type": "display_data",
          "data": {
            "text/plain": [
              "<Figure size 576x576 with 1 Axes>"
            ],
            "image/png": "[encoded data removed]"
          },
          "metadata": {
            "needs_background": "light"
          }
        },
        {
          "name": "stdout",
          "output_type": "stream",
          "text": [
            "Agregar, Y o N ? or save to create .csv\n",
            "\n"
          ]
        },
        {
          "output_type": "stream",
          "name": "stderr",
          "text": [
            "No handles with labels found to put in legend.\n"
          ]
        },
        {
          "output_type": "stream",
          "name": "stdout",
          "text": [
            "Count: 19/38446\n"
          ]
        },
        {
          "output_type": "display_data",
          "data": {
            "text/plain": [
              "<Figure size 576x576 with 1 Axes>"
            ],
            "image/png": "[encoded data removed]"
          },
          "metadata": {
            "needs_background": "light"
          }
        },
        {
          "name": "stdout",
          "output_type": "stream",
          "text": [
            "Agregar, Y o N ? or save to create .csv\n",
            "\n"
          ]
        },
        {
          "output_type": "stream",
          "name": "stderr",
          "text": [
            "No handles with labels found to put in legend.\n"
          ]
        },
        {
          "output_type": "stream",
          "name": "stdout",
          "text": [
            "Count: 20/38446\n"
          ]
        },
        {
          "output_type": "display_data",
          "data": {
            "text/plain": [
              "<Figure size 576x576 with 1 Axes>"
            ],
            "image/png": "[encoded data removed]"
          },
          "metadata": {
            "needs_background": "light"
          }
        },
        {
          "name": "stdout",
          "output_type": "stream",
          "text": [
            "Agregar, Y o N ? or save to create .csv\n",
            "\n"
          ]
        },
        {
          "output_type": "stream",
          "name": "stderr",
          "text": [
            "No handles with labels found to put in legend.\n"
          ]
        },
        {
          "output_type": "stream",
          "name": "stdout",
          "text": [
            "Count: 21/38446\n"
          ]
        },
        {
          "output_type": "display_data",
          "data": {
            "text/plain": [
              "<Figure size 576x576 with 1 Axes>"
            ],
            "image/png": "[encoded data removed]"
          },
          "metadata": {
            "needs_background": "light"
          }
        },
        {
          "name": "stdout",
          "output_type": "stream",
          "text": [
            "Agregar, Y o N ? or save to create .csv\n",
            "\n"
          ]
        },
        {
          "output_type": "stream",
          "name": "stderr",
          "text": [
            "No handles with labels found to put in legend.\n"
          ]
        },
        {
          "output_type": "stream",
          "name": "stdout",
          "text": [
            "Count: 22/38446\n"
          ]
        },
        {
          "output_type": "display_data",
          "data": {
            "text/plain": [
              "<Figure size 576x576 with 1 Axes>"
            ],
            "image/png": "[encoded data removed]"
          },
          "metadata": {
            "needs_background": "light"
          }
        },
        {
          "name": "stdout",
          "output_type": "stream",
          "text": [
            "Agregar, Y o N ? or save to create .csv\n",
            "y\n"
          ]
        },
        {
          "output_type": "stream",
          "name": "stderr",
          "text": [
            "No handles with labels found to put in legend.\n"
          ]
        },
        {
          "output_type": "stream",
          "name": "stdout",
          "text": [
            "Contador: 18\n",
            "Count: 23/38446\n"
          ]
        },
        {
          "output_type": "display_data",
          "data": {
            "text/plain": [
              "<Figure size 576x576 with 1 Axes>"
            ],
            "image/png": "[encoded data removed]"
          },
          "metadata": {
            "needs_background": "light"
          }
        },
        {
          "name": "stdout",
          "output_type": "stream",
          "text": [
            "Agregar, Y o N ? or save to create .csv\n",
            "y\n"
          ]
        },
        {
          "output_type": "stream",
          "name": "stderr",
          "text": [
            "No handles with labels found to put in legend.\n"
          ]
        },
        {
          "output_type": "stream",
          "name": "stdout",
          "text": [
            "Contador: 19\n",
            "Count: 24/38446\n"
          ]
        },
        {
          "output_type": "display_data",
          "data": {
            "text/plain": [
              "<Figure size 576x576 with 1 Axes>"
            ],
            "image/png": "[encoded data removed]"
          },
          "metadata": {
            "needs_background": "light"
          }
        },
        {
          "name": "stdout",
          "output_type": "stream",
          "text": [
            "Agregar, Y o N ? or save to create .csv\n",
            "y\n"
          ]
        },
        {
          "output_type": "stream",
          "name": "stderr",
          "text": [
            "No handles with labels found to put in legend.\n"
          ]
        },
        {
          "output_type": "stream",
          "name": "stdout",
          "text": [
            "Contador: 20\n",
            "Count: 25/38446\n"
          ]
        },
        {
          "output_type": "display_data",
          "data": {
            "text/plain": [
              "<Figure size 576x576 with 1 Axes>"
            ],
            "image/png": "[encoded data removed]"
          },
          "metadata": {
            "needs_background": "light"
          }
        },
        {
          "name": "stdout",
          "output_type": "stream",
          "text": [
            "Agregar, Y o N ? or save to create .csv\n",
            "y\n"
          ]
        },
        {
          "output_type": "stream",
          "name": "stderr",
          "text": [
            "No handles with labels found to put in legend.\n"
          ]
        },
        {
          "output_type": "stream",
          "name": "stdout",
          "text": [
            "Contador: 21\n",
            "Count: 26/38446\n"
          ]
        },
        {
          "output_type": "display_data",
          "data": {
            "text/plain": [
              "<Figure size 576x576 with 1 Axes>"
            ],
            "image/png": "[encoded data removed]"
          },
          "metadata": {
            "needs_background": "light"
          }
        },
        {
          "name": "stdout",
          "output_type": "stream",
          "text": [
            "Agregar, Y o N ? or save to create .csv\n",
            "y\n"
          ]
        },
        {
          "output_type": "stream",
          "name": "stderr",
          "text": [
            "No handles with labels found to put in legend.\n"
          ]
        },
        {
          "output_type": "stream",
          "name": "stdout",
          "text": [
            "Contador: 22\n",
            "Count: 27/38446\n"
          ]
        },
        {
          "output_type": "display_data",
          "data": {
            "text/plain": [
              "<Figure size 576x576 with 1 Axes>"
            ],
            "image/png": "[encoded data removed]"
          },
          "metadata": {
            "needs_background": "light"
          }
        },
        {
          "name": "stdout",
          "output_type": "stream",
          "text": [
            "Agregar, Y o N ? or save to create .csv\n",
            "\n"
          ]
        },
        {
          "output_type": "stream",
          "name": "stderr",
          "text": [
            "No handles with labels found to put in legend.\n"
          ]
        },
        {
          "output_type": "stream",
          "name": "stdout",
          "text": [
            "Count: 28/38446\n"
          ]
        },
        {
          "output_type": "display_data",
          "data": {
            "text/plain": [
              "<Figure size 576x576 with 1 Axes>"
            ],
            "image/png": "[encoded data removed]"
          },
          "metadata": {
            "needs_background": "light"
          }
        },
        {
          "name": "stdout",
          "output_type": "stream",
          "text": [
            "Agregar, Y o N ? or save to create .csv\n",
            "y\n"
          ]
        },
        {
          "output_type": "stream",
          "name": "stderr",
          "text": [
            "No handles with labels found to put in legend.\n"
          ]
        },
        {
          "output_type": "stream",
          "name": "stdout",
          "text": [
            "Contador: 23\n",
            "Count: 29/38446\n"
          ]
        },
        {
          "output_type": "display_data",
          "data": {
            "text/plain": [
              "<Figure size 576x576 with 1 Axes>"
            ],
            "image/png": "[encoded data removed]"
          },
          "metadata": {
            "needs_background": "light"
          }
        },
        {
          "name": "stdout",
          "output_type": "stream",
          "text": [
            "Agregar, Y o N ? or save to create .csv\n",
            "\n"
          ]
        },
        {
          "output_type": "stream",
          "name": "stderr",
          "text": [
            "No handles with labels found to put in legend.\n"
          ]
        },
        {
          "output_type": "stream",
          "name": "stdout",
          "text": [
            "Count: 30/38446\n"
          ]
        },
        {
          "output_type": "display_data",
          "data": {
            "text/plain": [
              "<Figure size 576x576 with 1 Axes>"
            ],
            "image/png": "[encoded data removed]"
          },
          "metadata": {
            "needs_background": "light"
          }
        },
        {
          "name": "stdout",
          "output_type": "stream",
          "text": [
            "Agregar, Y o N ? or save to create .csv\n",
            "y\n"
          ]
        },
        {
          "output_type": "stream",
          "name": "stderr",
          "text": [
            "No handles with labels found to put in legend.\n"
          ]
        },
        {
          "output_type": "stream",
          "name": "stdout",
          "text": [
            "Contador: 24\n",
            "Count: 31/38446\n"
          ]
        },
        {
          "output_type": "display_data",
          "data": {
            "text/plain": [
              "<Figure size 576x576 with 1 Axes>"
            ],
            "image/png": "[encoded data removed]"
          },
          "metadata": {
            "needs_background": "light"
          }
        },
        {
          "name": "stdout",
          "output_type": "stream",
          "text": [
            "Agregar, Y o N ? or save to create .csv\n",
            "y\n"
          ]
        },
        {
          "output_type": "stream",
          "name": "stderr",
          "text": [
            "No handles with labels found to put in legend.\n"
          ]
        },
        {
          "output_type": "stream",
          "name": "stdout",
          "text": [
            "Contador: 25\n",
            "Count: 32/38446\n"
          ]
        },
        {
          "output_type": "display_data",
          "data": {
            "text/plain": [
              "<Figure size 576x576 with 1 Axes>"
            ],
            "image/png": "[encoded data removed]"
          },
          "metadata": {
            "needs_background": "light"
          }
        },
        {
          "name": "stdout",
          "output_type": "stream",
          "text": [
            "Agregar, Y o N ? or save to create .csv\n",
            "y\n"
          ]
        },
        {
          "output_type": "stream",
          "name": "stderr",
          "text": [
            "No handles with labels found to put in legend.\n"
          ]
        },
        {
          "output_type": "stream",
          "name": "stdout",
          "text": [
            "Contador: 26\n",
            "Count: 33/38446\n"
          ]
        },
        {
          "output_type": "display_data",
          "data": {
            "text/plain": [
              "<Figure size 576x576 with 1 Axes>"
            ],
            "image/png": "[encoded data removed]"
          },
          "metadata": {
            "needs_background": "light"
          }
        },
        {
          "name": "stdout",
          "output_type": "stream",
          "text": [
            "Agregar, Y o N ? or save to create .csv\n",
            "\n"
          ]
        },
        {
          "output_type": "stream",
          "name": "stderr",
          "text": [
            "No handles with labels found to put in legend.\n"
          ]
        },
        {
          "output_type": "stream",
          "name": "stdout",
          "text": [
            "Count: 34/38446\n"
          ]
        },
        {
          "output_type": "display_data",
          "data": {
            "text/plain": [
              "<Figure size 576x576 with 1 Axes>"
            ],
            "image/png": "[encoded data removed]"
          },
          "metadata": {
            "needs_background": "light"
          }
        },
        {
          "name": "stdout",
          "output_type": "stream",
          "text": [
            "Agregar, Y o N ? or save to create .csv\n",
            "\n"
          ]
        },
        {
          "output_type": "stream",
          "name": "stderr",
          "text": [
            "No handles with labels found to put in legend.\n"
          ]
        },
        {
          "output_type": "stream",
          "name": "stdout",
          "text": [
            "Count: 35/38446\n"
          ]
        },
        {
          "output_type": "display_data",
          "data": {
            "text/plain": [
              "<Figure size 576x576 with 1 Axes>"
            ],
            "image/png": "[encoded data removed]"
          },
          "metadata": {
            "needs_background": "light"
          }
        },
        {
          "name": "stdout",
          "output_type": "stream",
          "text": [
            "Agregar, Y o N ? or save to create .csv\n",
            "y\n"
          ]
        },
        {
          "output_type": "stream",
          "name": "stderr",
          "text": [
            "No handles with labels found to put in legend.\n"
          ]
        },
        {
          "output_type": "stream",
          "name": "stdout",
          "text": [
            "Contador: 27\n",
            "Count: 36/38446\n"
          ]
        },
        {
          "output_type": "display_data",
          "data": {
            "text/plain": [
              "<Figure size 576x576 with 1 Axes>"
            ],
            "image/png": "[encoded data removed]"
          },
          "metadata": {
            "needs_background": "light"
          }
        },
        {
          "name": "stdout",
          "output_type": "stream",
          "text": [
            "Agregar, Y o N ? or save to create .csv\n",
            "y\n"
          ]
        },
        {
          "output_type": "stream",
          "name": "stderr",
          "text": [
            "No handles with labels found to put in legend.\n"
          ]
        },
        {
          "output_type": "stream",
          "name": "stdout",
          "text": [
            "Contador: 28\n",
            "Count: 37/38446\n"
          ]
        },
        {
          "output_type": "display_data",
          "data": {
            "text/plain": [
              "<Figure size 576x576 with 1 Axes>"
            ],
            "image/png": "[encoded data removed]"
          },
          "metadata": {
            "needs_background": "light"
          }
        },
        {
          "name": "stdout",
          "output_type": "stream",
          "text": [
            "Agregar, Y o N ? or save to create .csv\n",
            "y\n"
          ]
        },
        {
          "output_type": "stream",
          "name": "stderr",
          "text": [
            "No handles with labels found to put in legend.\n"
          ]
        },
        {
          "output_type": "stream",
          "name": "stdout",
          "text": [
            "Contador: 29\n",
            "Count: 38/38446\n"
          ]
        },
        {
          "output_type": "display_data",
          "data": {
            "text/plain": [
              "<Figure size 576x576 with 1 Axes>"
            ],
            "image/png": "[encoded data removed]"
          },
          "metadata": {
            "needs_background": "light"
          }
        },
        {
          "name": "stdout",
          "output_type": "stream",
          "text": [
            "Agregar, Y o N ? or save to create .csv\n",
            "\n"
          ]
        },
        {
          "output_type": "stream",
          "name": "stderr",
          "text": [
            "No handles with labels found to put in legend.\n"
          ]
        },
        {
          "output_type": "stream",
          "name": "stdout",
          "text": [
            "Count: 39/38446\n"
          ]
        },
        {
          "output_type": "display_data",
          "data": {
            "text/plain": [
              "<Figure size 576x576 with 1 Axes>"
            ],
            "image/png": "[encoded data removed]"
          },
          "metadata": {
            "needs_background": "light"
          }
        },
        {
          "name": "stdout",
          "output_type": "stream",
          "text": [
            "Agregar, Y o N ? or save to create .csv\n",
            "\n"
          ]
        },
        {
          "output_type": "stream",
          "name": "stderr",
          "text": [
            "No handles with labels found to put in legend.\n"
          ]
        },
        {
          "output_type": "stream",
          "name": "stdout",
          "text": [
            "Count: 40/38446\n"
          ]
        },
        {
          "output_type": "display_data",
          "data": {
            "text/plain": [
              "<Figure size 576x576 with 1 Axes>"
            ],
            "image/png": "[encoded data removed]"
          },
          "metadata": {
            "needs_background": "light"
          }
        },
        {
          "name": "stdout",
          "output_type": "stream",
          "text": [
            "Agregar, Y o N ? or save to create .csv\n",
            "\n"
          ]
        },
        {
          "output_type": "stream",
          "name": "stderr",
          "text": [
            "No handles with labels found to put in legend.\n"
          ]
        },
        {
          "output_type": "stream",
          "name": "stdout",
          "text": [
            "Count: 41/38446\n"
          ]
        },
        {
          "output_type": "display_data",
          "data": {
            "text/plain": [
              "<Figure size 576x576 with 1 Axes>"
            ],
            "image/png": "[encoded data removed]"
          },
          "metadata": {
            "needs_background": "light"
          }
        },
        {
          "name": "stdout",
          "output_type": "stream",
          "text": [
            "Agregar, Y o N ? or save to create .csv\n",
            "y\n"
          ]
        },
        {
          "output_type": "stream",
          "name": "stderr",
          "text": [
            "No handles with labels found to put in legend.\n"
          ]
        },
        {
          "output_type": "stream",
          "name": "stdout",
          "text": [
            "Contador: 30\n",
            "Count: 42/38446\n"
          ]
        },
        {
          "output_type": "display_data",
          "data": {
            "text/plain": [
              "<Figure size 576x576 with 1 Axes>"
            ],
            "image/png": "[encoded data removed]"
          },
          "metadata": {
            "needs_background": "light"
          }
        },
        {
          "name": "stdout",
          "output_type": "stream",
          "text": [
            "Agregar, Y o N ? or save to create .csv\n",
            "y\n"
          ]
        },
        {
          "output_type": "stream",
          "name": "stderr",
          "text": [
            "No handles with labels found to put in legend.\n"
          ]
        },
        {
          "output_type": "stream",
          "name": "stdout",
          "text": [
            "Contador: 31\n",
            "Count: 43/38446\n"
          ]
        },
        {
          "output_type": "display_data",
          "data": {
            "text/plain": [
              "<Figure size 576x576 with 1 Axes>"
            ],
            "image/png": "[encoded data removed]"
          },
          "metadata": {
            "needs_background": "light"
          }
        },
        {
          "name": "stdout",
          "output_type": "stream",
          "text": [
            "Agregar, Y o N ? or save to create .csv\n",
            "\n"
          ]
        },
        {
          "output_type": "stream",
          "name": "stderr",
          "text": [
            "No handles with labels found to put in legend.\n"
          ]
        },
        {
          "output_type": "stream",
          "name": "stdout",
          "text": [
            "Count: 44/38446\n"
          ]
        },
        {
          "output_type": "display_data",
          "data": {
            "text/plain": [
              "<Figure size 576x576 with 1 Axes>"
            ],
            "image/png": "[encoded data removed]"
          },
          "metadata": {
            "needs_background": "light"
          }
        },
        {
          "name": "stdout",
          "output_type": "stream",
          "text": [
            "Agregar, Y o N ? or save to create .csv\n",
            "y\n"
          ]
        },
        {
          "output_type": "stream",
          "name": "stderr",
          "text": [
            "No handles with labels found to put in legend.\n"
          ]
        },
        {
          "output_type": "stream",
          "name": "stdout",
          "text": [
            "Contador: 32\n",
            "Count: 45/38446\n"
          ]
        },
        {
          "output_type": "display_data",
          "data": {
            "text/plain": [
              "<Figure size 576x576 with 1 Axes>"
            ],
            "image/png": "[encoded data removed]"
          },
          "metadata": {
            "needs_background": "light"
          }
        },
        {
          "name": "stdout",
          "output_type": "stream",
          "text": [
            "Agregar, Y o N ? or save to create .csv\n",
            "y\n"
          ]
        },
        {
          "output_type": "stream",
          "name": "stderr",
          "text": [
            "No handles with labels found to put in legend.\n"
          ]
        },
        {
          "output_type": "stream",
          "name": "stdout",
          "text": [
            "Contador: 33\n",
            "Count: 46/38446\n"
          ]
        },
        {
          "output_type": "display_data",
          "data": {
            "text/plain": [
              "<Figure size 576x576 with 1 Axes>"
            ],
            "image/png": "[encoded data removed]"
          },
          "metadata": {
            "needs_background": "light"
          }
        },
        {
          "name": "stdout",
          "output_type": "stream",
          "text": [
            "Agregar, Y o N ? or save to create .csv\n",
            "\n"
          ]
        },
        {
          "output_type": "stream",
          "name": "stderr",
          "text": [
            "No handles with labels found to put in legend.\n"
          ]
        },
        {
          "output_type": "stream",
          "name": "stdout",
          "text": [
            "Count: 47/38446\n"
          ]
        },
        {
          "output_type": "display_data",
          "data": {
            "text/plain": [
              "<Figure size 576x576 with 1 Axes>"
            ],
            "image/png": "[encoded data removed]"
          },
          "metadata": {
            "needs_background": "light"
          }
        },
        {
          "name": "stdout",
          "output_type": "stream",
          "text": [
            "Agregar, Y o N ? or save to create .csv\n",
            "y\n"
          ]
        },
        {
          "output_type": "stream",
          "name": "stderr",
          "text": [
            "No handles with labels found to put in legend.\n"
          ]
        },
        {
          "output_type": "stream",
          "name": "stdout",
          "text": [
            "Contador: 34\n",
            "Count: 48/38446\n"
          ]
        },
        {
          "output_type": "display_data",
          "data": {
            "text/plain": [
              "<Figure size 576x576 with 1 Axes>"
            ],
            "image/png": "[encoded data removed]"
          },
          "metadata": {
            "needs_background": "light"
          }
        },
        {
          "name": "stdout",
          "output_type": "stream",
          "text": [
            "Agregar, Y o N ? or save to create .csv\n",
            "y\n"
          ]
        },
        {
          "output_type": "stream",
          "name": "stderr",
          "text": [
            "No handles with labels found to put in legend.\n"
          ]
        },
        {
          "output_type": "stream",
          "name": "stdout",
          "text": [
            "Contador: 35\n",
            "Count: 49/38446\n"
          ]
        },
        {
          "output_type": "display_data",
          "data": {
            "text/plain": [
              "<Figure size 576x576 with 1 Axes>"
            ],
            "image/png": "[encoded data removed]"
          },
          "metadata": {
            "needs_background": "light"
          }
        },
        {
          "name": "stdout",
          "output_type": "stream",
          "text": [
            "Agregar, Y o N ? or save to create .csv\n",
            "\n"
          ]
        },
        {
          "output_type": "stream",
          "name": "stderr",
          "text": [
            "No handles with labels found to put in legend.\n"
          ]
        },
        {
          "output_type": "stream",
          "name": "stdout",
          "text": [
            "Count: 50/38446\n"
          ]
        },
        {
          "output_type": "display_data",
          "data": {
            "text/plain": [
              "<Figure size 576x576 with 1 Axes>"
            ],
            "image/png": "[encoded data removed]"
          },
          "metadata": {
            "needs_background": "light"
          }
        },
        {
          "name": "stdout",
          "output_type": "stream",
          "text": [
            "Agregar, Y o N ? or save to create .csv\n",
            "\n"
          ]
        },
        {
          "output_type": "stream",
          "name": "stderr",
          "text": [
            "No handles with labels found to put in legend.\n"
          ]
        },
        {
          "output_type": "stream",
          "name": "stdout",
          "text": [
            "Count: 51/38446\n"
          ]
        },
        {
          "output_type": "display_data",
          "data": {
            "text/plain": [
              "<Figure size 576x576 with 1 Axes>"
            ],
            "image/png": "[encoded data removed]"
          },
          "metadata": {
            "needs_background": "light"
          }
        },
        {
          "name": "stdout",
          "output_type": "stream",
          "text": [
            "Agregar, Y o N ? or save to create .csv\n",
            "y\n"
          ]
        },
        {
          "output_type": "stream",
          "name": "stderr",
          "text": [
            "No handles with labels found to put in legend.\n"
          ]
        },
        {
          "output_type": "stream",
          "name": "stdout",
          "text": [
            "Contador: 36\n",
            "Count: 52/38446\n"
          ]
        },
        {
          "output_type": "display_data",
          "data": {
            "text/plain": [
              "<Figure size 576x576 with 1 Axes>"
            ],
            "image/png": "[encoded data removed]"
          },
          "metadata": {
            "needs_background": "light"
          }
        },
        {
          "name": "stdout",
          "output_type": "stream",
          "text": [
            "Agregar, Y o N ? or save to create .csv\n",
            "y\n"
          ]
        },
        {
          "output_type": "stream",
          "name": "stderr",
          "text": [
            "No handles with labels found to put in legend.\n"
          ]
        },
        {
          "output_type": "stream",
          "name": "stdout",
          "text": [
            "Contador: 37\n",
            "Count: 53/38446\n"
          ]
        },
        {
          "output_type": "display_data",
          "data": {
            "text/plain": [
              "<Figure size 576x576 with 1 Axes>"
            ],
            "image/png": "[encoded data removed]"
          },
          "metadata": {
            "needs_background": "light"
          }
        },
        {
          "name": "stdout",
          "output_type": "stream",
          "text": [
            "Agregar, Y o N ? or save to create .csv\n",
            "\n"
          ]
        },
        {
          "output_type": "stream",
          "name": "stderr",
          "text": [
            "No handles with labels found to put in legend.\n"
          ]
        },
        {
          "output_type": "stream",
          "name": "stdout",
          "text": [
            "Count: 54/38446\n"
          ]
        },
        {
          "output_type": "display_data",
          "data": {
            "text/plain": [
              "<Figure size 576x576 with 1 Axes>"
            ],
            "image/png": "[encoded data removed]"
          },
          "metadata": {
            "needs_background": "light"
          }
        },
        {
          "name": "stdout",
          "output_type": "stream",
          "text": [
            "Agregar, Y o N ? or save to create .csv\n",
            "y\n"
          ]
        },
        {
          "output_type": "stream",
          "name": "stderr",
          "text": [
            "No handles with labels found to put in legend.\n"
          ]
        },
        {
          "output_type": "stream",
          "name": "stdout",
          "text": [
            "Contador: 38\n",
            "Count: 55/38446\n"
          ]
        },
        {
          "output_type": "display_data",
          "data": {
            "text/plain": [
              "<Figure size 576x576 with 1 Axes>"
            ],
            "image/png": "[encoded data removed]"
          },
          "metadata": {
            "needs_background": "light"
          }
        },
        {
          "name": "stdout",
          "output_type": "stream",
          "text": [
            "Agregar, Y o N ? or save to create .csv\n",
            "\n"
          ]
        },
        {
          "output_type": "stream",
          "name": "stderr",
          "text": [
            "No handles with labels found to put in legend.\n"
          ]
        },
        {
          "output_type": "stream",
          "name": "stdout",
          "text": [
            "Count: 56/38446\n"
          ]
        },
        {
          "output_type": "display_data",
          "data": {
            "text/plain": [
              "<Figure size 576x576 with 1 Axes>"
            ],
            "image/png": "[encoded data removed]"
          },
          "metadata": {
            "needs_background": "light"
          }
        },
        {
          "name": "stdout",
          "output_type": "stream",
          "text": [
            "Agregar, Y o N ? or save to create .csv\n",
            "\n"
          ]
        },
        {
          "output_type": "stream",
          "name": "stderr",
          "text": [
            "No handles with labels found to put in legend.\n"
          ]
        },
        {
          "output_type": "stream",
          "name": "stdout",
          "text": [
            "Count: 57/38446\n"
          ]
        },
        {
          "output_type": "display_data",
          "data": {
            "text/plain": [
              "<Figure size 576x576 with 1 Axes>"
            ],
            "image/png": "[encoded data removed]"
          },
          "metadata": {
            "needs_background": "light"
          }
        },
        {
          "name": "stdout",
          "output_type": "stream",
          "text": [
            "Agregar, Y o N ? or save to create .csv\n",
            "y\n"
          ]
        },
        {
          "output_type": "stream",
          "name": "stderr",
          "text": [
            "No handles with labels found to put in legend.\n"
          ]
        },
        {
          "output_type": "stream",
          "name": "stdout",
          "text": [
            "Contador: 39\n",
            "Count: 58/38446\n"
          ]
        },
        {
          "output_type": "display_data",
          "data": {
            "text/plain": [
              "<Figure size 576x576 with 1 Axes>"
            ],
            "image/png": "[encoded data removed]"
          },
          "metadata": {
            "needs_background": "light"
          }
        },
        {
          "name": "stdout",
          "output_type": "stream",
          "text": [
            "Agregar, Y o N ? or save to create .csv\n",
            "y\n"
          ]
        },
        {
          "output_type": "stream",
          "name": "stderr",
          "text": [
            "No handles with labels found to put in legend.\n"
          ]
        },
        {
          "output_type": "stream",
          "name": "stdout",
          "text": [
            "Contador: 40\n",
            "Count: 59/38446\n"
          ]
        },
        {
          "output_type": "display_data",
          "data": {
            "text/plain": [
              "<Figure size 576x576 with 1 Axes>"
            ],
            "image/png": "[encoded data removed]"
          },
          "metadata": {
            "needs_background": "light"
          }
        },
        {
          "name": "stdout",
          "output_type": "stream",
          "text": [
            "Agregar, Y o N ? or save to create .csv\n",
            "y\n"
          ]
        },
        {
          "output_type": "stream",
          "name": "stderr",
          "text": [
            "No handles with labels found to put in legend.\n"
          ]
        },
        {
          "output_type": "stream",
          "name": "stdout",
          "text": [
            "Contador: 41\n",
            "Count: 60/38446\n"
          ]
        },
        {
          "output_type": "display_data",
          "data": {
            "text/plain": [
              "<Figure size 576x576 with 1 Axes>"
            ],
            "image/png": "[encoded data removed]"
          },
          "metadata": {
            "needs_background": "light"
          }
        },
        {
          "name": "stdout",
          "output_type": "stream",
          "text": [
            "Agregar, Y o N ? or save to create .csv\n",
            "y\n"
          ]
        },
        {
          "output_type": "stream",
          "name": "stderr",
          "text": [
            "No handles with labels found to put in legend.\n"
          ]
        },
        {
          "output_type": "stream",
          "name": "stdout",
          "text": [
            "Contador: 42\n",
            "Count: 61/38446\n"
          ]
        },
        {
          "output_type": "display_data",
          "data": {
            "text/plain": [
              "<Figure size 576x576 with 1 Axes>"
            ],
            "image/png": "[encoded data removed]"
          },
          "metadata": {
            "needs_background": "light"
          }
        },
        {
          "name": "stdout",
          "output_type": "stream",
          "text": [
            "Agregar, Y o N ? or save to create .csv\n",
            "\n"
          ]
        },
        {
          "output_type": "stream",
          "name": "stderr",
          "text": [
            "No handles with labels found to put in legend.\n"
          ]
        },
        {
          "output_type": "stream",
          "name": "stdout",
          "text": [
            "Count: 62/38446\n"
          ]
        },
        {
          "output_type": "display_data",
          "data": {
            "text/plain": [
              "<Figure size 576x576 with 1 Axes>"
            ],
            "image/png": "[encoded data removed]"
          },
          "metadata": {
            "needs_background": "light"
          }
        },
        {
          "name": "stdout",
          "output_type": "stream",
          "text": [
            "Agregar, Y o N ? or save to create .csv\n",
            "y\n"
          ]
        },
        {
          "output_type": "stream",
          "name": "stderr",
          "text": [
            "No handles with labels found to put in legend.\n"
          ]
        },
        {
          "output_type": "stream",
          "name": "stdout",
          "text": [
            "Contador: 43\n",
            "Count: 63/38446\n"
          ]
        },
        {
          "output_type": "display_data",
          "data": {
            "text/plain": [
              "<Figure size 576x576 with 1 Axes>"
            ],
            "image/png": "[encoded data removed]"
          },
          "metadata": {
            "needs_background": "light"
          }
        },
        {
          "name": "stdout",
          "output_type": "stream",
          "text": [
            "Agregar, Y o N ? or save to create .csv\n",
            "y\n"
          ]
        },
        {
          "output_type": "stream",
          "name": "stderr",
          "text": [
            "No handles with labels found to put in legend.\n"
          ]
        },
        {
          "output_type": "stream",
          "name": "stdout",
          "text": [
            "Contador: 44\n",
            "Count: 64/38446\n"
          ]
        },
        {
          "output_type": "display_data",
          "data": {
            "text/plain": [
              "<Figure size 576x576 with 1 Axes>"
            ],
            "image/png": "[encoded data removed]"
          },
          "metadata": {
            "needs_background": "light"
          }
        },
        {
          "name": "stdout",
          "output_type": "stream",
          "text": [
            "Agregar, Y o N ? or save to create .csv\n",
            "y\n"
          ]
        },
        {
          "output_type": "stream",
          "name": "stderr",
          "text": [
            "No handles with labels found to put in legend.\n"
          ]
        },
        {
          "output_type": "stream",
          "name": "stdout",
          "text": [
            "Contador: 45\n",
            "Count: 65/38446\n"
          ]
        },
        {
          "output_type": "display_data",
          "data": {
            "text/plain": [
              "<Figure size 576x576 with 1 Axes>"
            ],
            "image/png": "[encoded data removed]"
          },
          "metadata": {
            "needs_background": "light"
          }
        },
        {
          "name": "stdout",
          "output_type": "stream",
          "text": [
            "Agregar, Y o N ? or save to create .csv\n",
            "y\n"
          ]
        },
        {
          "output_type": "stream",
          "name": "stderr",
          "text": [
            "No handles with labels found to put in legend.\n"
          ]
        },
        {
          "output_type": "stream",
          "name": "stdout",
          "text": [
            "Contador: 46\n",
            "Count: 66/38446\n"
          ]
        },
        {
          "output_type": "display_data",
          "data": {
            "text/plain": [
              "<Figure size 576x576 with 1 Axes>"
            ],
            "image/png": "[encoded data removed]"
          },
          "metadata": {
            "needs_background": "light"
          }
        },
        {
          "name": "stdout",
          "output_type": "stream",
          "text": [
            "Agregar, Y o N ? or save to create .csv\n",
            "y\n"
          ]
        },
        {
          "output_type": "stream",
          "name": "stderr",
          "text": [
            "No handles with labels found to put in legend.\n"
          ]
        },
        {
          "output_type": "stream",
          "name": "stdout",
          "text": [
            "Contador: 47\n",
            "Count: 67/38446\n"
          ]
        },
        {
          "output_type": "display_data",
          "data": {
            "text/plain": [
              "<Figure size 576x576 with 1 Axes>"
            ],
            "image/png": "[encoded data removed]"
          },
          "metadata": {
            "needs_background": "light"
          }
        },
        {
          "name": "stdout",
          "output_type": "stream",
          "text": [
            "Agregar, Y o N ? or save to create .csv\n",
            "y\n"
          ]
        },
        {
          "output_type": "stream",
          "name": "stderr",
          "text": [
            "No handles with labels found to put in legend.\n"
          ]
        },
        {
          "output_type": "stream",
          "name": "stdout",
          "text": [
            "Contador: 48\n",
            "Count: 68/38446\n"
          ]
        },
        {
          "output_type": "display_data",
          "data": {
            "text/plain": [
              "<Figure size 576x576 with 1 Axes>"
            ],
            "image/png": "[encoded data removed]"
          },
          "metadata": {
            "needs_background": "light"
          }
        },
        {
          "name": "stdout",
          "output_type": "stream",
          "text": [
            "Agregar, Y o N ? or save to create .csv\n",
            "y\n"
          ]
        },
        {
          "output_type": "stream",
          "name": "stderr",
          "text": [
            "No handles with labels found to put in legend.\n"
          ]
        },
        {
          "output_type": "stream",
          "name": "stdout",
          "text": [
            "Contador: 49\n",
            "Count: 69/38446\n"
          ]
        },
        {
          "output_type": "display_data",
          "data": {
            "text/plain": [
              "<Figure size 576x576 with 1 Axes>"
            ],
            "image/png": "[encoded data removed]"
          },
          "metadata": {
            "needs_background": "light"
          }
        },
        {
          "name": "stdout",
          "output_type": "stream",
          "text": [
            "Agregar, Y o N ? or save to create .csv\n",
            "y\n"
          ]
        },
        {
          "output_type": "stream",
          "name": "stderr",
          "text": [
            "No handles with labels found to put in legend.\n"
          ]
        },
        {
          "output_type": "stream",
          "name": "stdout",
          "text": [
            "Contador: 50\n",
            "Count: 70/38446\n"
          ]
        },
        {
          "output_type": "display_data",
          "data": {
            "text/plain": [
              "<Figure size 576x576 with 1 Axes>"
            ],
            "image/png": "[encoded data removed]"
          },
          "metadata": {
            "needs_background": "light"
          }
        },
        {
          "name": "stdout",
          "output_type": "stream",
          "text": [
            "Agregar, Y o N ? or save to create .csv\n",
            "y\n"
          ]
        },
        {
          "output_type": "stream",
          "name": "stderr",
          "text": [
            "No handles with labels found to put in legend.\n"
          ]
        },
        {
          "output_type": "stream",
          "name": "stdout",
          "text": [
            "Contador: 51\n",
            "Count: 71/38446\n"
          ]
        },
        {
          "output_type": "display_data",
          "data": {
            "text/plain": [
              "<Figure size 576x576 with 1 Axes>"
            ],
            "image/png": "[encoded data removed]"
          },
          "metadata": {
            "needs_background": "light"
          }
        },
        {
          "name": "stdout",
          "output_type": "stream",
          "text": [
            "Agregar, Y o N ? or save to create .csv\n",
            "y\n"
          ]
        },
        {
          "output_type": "stream",
          "name": "stderr",
          "text": [
            "No handles with labels found to put in legend.\n"
          ]
        },
        {
          "output_type": "stream",
          "name": "stdout",
          "text": [
            "Contador: 52\n",
            "Count: 72/38446\n"
          ]
        },
        {
          "output_type": "display_data",
          "data": {
            "text/plain": [
              "<Figure size 576x576 with 1 Axes>"
            ],
            "image/png": "[encoded data removed]"
          },
          "metadata": {
            "needs_background": "light"
          }
        },
        {
          "name": "stdout",
          "output_type": "stream",
          "text": [
            "Agregar, Y o N ? or save to create .csv\n",
            "y\n"
          ]
        },
        {
          "output_type": "stream",
          "name": "stderr",
          "text": [
            "No handles with labels found to put in legend.\n"
          ]
        },
        {
          "output_type": "stream",
          "name": "stdout",
          "text": [
            "Contador: 53\n",
            "Count: 73/38446\n"
          ]
        },
        {
          "output_type": "display_data",
          "data": {
            "text/plain": [
              "<Figure size 576x576 with 1 Axes>"
            ],
            "image/png": "[encoded data removed]"
          },
          "metadata": {
            "needs_background": "light"
          }
        },
        {
          "name": "stdout",
          "output_type": "stream",
          "text": [
            "Agregar, Y o N ? or save to create .csv\n",
            "y\n"
          ]
        },
        {
          "output_type": "stream",
          "name": "stderr",
          "text": [
            "No handles with labels found to put in legend.\n"
          ]
        },
        {
          "output_type": "stream",
          "name": "stdout",
          "text": [
            "Contador: 54\n",
            "Count: 74/38446\n"
          ]
        },
        {
          "output_type": "display_data",
          "data": {
            "text/plain": [
              "<Figure size 576x576 with 1 Axes>"
            ],
            "image/png": "[encoded data removed]"
          },
          "metadata": {
            "needs_background": "light"
          }
        },
        {
          "name": "stdout",
          "output_type": "stream",
          "text": [
            "Agregar, Y o N ? or save to create .csv\n",
            "y\n"
          ]
        },
        {
          "output_type": "stream",
          "name": "stderr",
          "text": [
            "No handles with labels found to put in legend.\n"
          ]
        },
        {
          "output_type": "stream",
          "name": "stdout",
          "text": [
            "Contador: 55\n",
            "Count: 75/38446\n"
          ]
        },
        {
          "output_type": "display_data",
          "data": {
            "text/plain": [
              "<Figure size 576x576 with 1 Axes>"
            ],
            "image/png": "[encoded data removed]"
          },
          "metadata": {
            "needs_background": "light"
          }
        },
        {
          "name": "stdout",
          "output_type": "stream",
          "text": [
            "Agregar, Y o N ? or save to create .csv\n",
            "y\n"
          ]
        },
        {
          "output_type": "stream",
          "name": "stderr",
          "text": [
            "No handles with labels found to put in legend.\n"
          ]
        },
        {
          "output_type": "stream",
          "name": "stdout",
          "text": [
            "Contador: 56\n",
            "Count: 76/38446\n"
          ]
        },
        {
          "output_type": "display_data",
          "data": {
            "text/plain": [
              "<Figure size 576x576 with 1 Axes>"
            ],
            "image/png": "[encoded data removed]"
          },
          "metadata": {
            "needs_background": "light"
          }
        },
        {
          "name": "stdout",
          "output_type": "stream",
          "text": [
            "Agregar, Y o N ? or save to create .csv\n",
            "y\n"
          ]
        },
        {
          "output_type": "stream",
          "name": "stderr",
          "text": [
            "No handles with labels found to put in legend.\n"
          ]
        },
        {
          "output_type": "stream",
          "name": "stdout",
          "text": [
            "Contador: 57\n",
            "Count: 77/38446\n"
          ]
        },
        {
          "output_type": "display_data",
          "data": {
            "text/plain": [
              "<Figure size 576x576 with 1 Axes>"
            ],
            "image/png": "[encoded data removed]"
          },
          "metadata": {
            "needs_background": "light"
          }
        },
        {
          "name": "stdout",
          "output_type": "stream",
          "text": [
            "Agregar, Y o N ? or save to create .csv\n",
            "y\n"
          ]
        },
        {
          "output_type": "stream",
          "name": "stderr",
          "text": [
            "No handles with labels found to put in legend.\n"
          ]
        },
        {
          "output_type": "stream",
          "name": "stdout",
          "text": [
            "Contador: 58\n",
            "Count: 78/38446\n"
          ]
        },
        {
          "output_type": "display_data",
          "data": {
            "text/plain": [
              "<Figure size 576x576 with 1 Axes>"
            ],
            "image/png": "[encoded data removed]"
          },
          "metadata": {
            "needs_background": "light"
          }
        },
        {
          "name": "stdout",
          "output_type": "stream",
          "text": [
            "Agregar, Y o N ? or save to create .csv\n",
            "y\n"
          ]
        },
        {
          "output_type": "stream",
          "name": "stderr",
          "text": [
            "No handles with labels found to put in legend.\n"
          ]
        },
        {
          "output_type": "stream",
          "name": "stdout",
          "text": [
            "Contador: 59\n",
            "Count: 79/38446\n"
          ]
        },
        {
          "output_type": "display_data",
          "data": {
            "text/plain": [
              "<Figure size 576x576 with 1 Axes>"
            ],
            "image/png": "[encoded data removed]"
          },
          "metadata": {
            "needs_background": "light"
          }
        },
        {
          "name": "stdout",
          "output_type": "stream",
          "text": [
            "Agregar, Y o N ? or save to create .csv\n",
            "\n"
          ]
        },
        {
          "output_type": "stream",
          "name": "stderr",
          "text": [
            "No handles with labels found to put in legend.\n"
          ]
        },
        {
          "output_type": "stream",
          "name": "stdout",
          "text": [
            "Count: 80/38446\n"
          ]
        },
        {
          "output_type": "display_data",
          "data": {
            "text/plain": [
              "<Figure size 576x576 with 1 Axes>"
            ],
            "image/png": "[encoded data removed]"
          },
          "metadata": {
            "needs_background": "light"
          }
        },
        {
          "name": "stdout",
          "output_type": "stream",
          "text": [
            "Agregar, Y o N ? or save to create .csv\n",
            "\n"
          ]
        },
        {
          "output_type": "stream",
          "name": "stderr",
          "text": [
            "No handles with labels found to put in legend.\n"
          ]
        },
        {
          "output_type": "stream",
          "name": "stdout",
          "text": [
            "Count: 81/38446\n"
          ]
        },
        {
          "output_type": "display_data",
          "data": {
            "text/plain": [
              "<Figure size 576x576 with 1 Axes>"
            ],
            "image/png": "[encoded data removed]"
          },
          "metadata": {
            "needs_background": "light"
          }
        },
        {
          "name": "stdout",
          "output_type": "stream",
          "text": [
            "Agregar, Y o N ? or save to create .csv\n",
            "\n"
          ]
        },
        {
          "output_type": "stream",
          "name": "stderr",
          "text": [
            "No handles with labels found to put in legend.\n"
          ]
        },
        {
          "output_type": "stream",
          "name": "stdout",
          "text": [
            "Count: 82/38446\n"
          ]
        },
        {
          "output_type": "display_data",
          "data": {
            "text/plain": [
              "<Figure size 576x576 with 1 Axes>"
            ],
            "image/png": "[encoded data removed]"
          },
          "metadata": {
            "needs_background": "light"
          }
        },
        {
          "name": "stdout",
          "output_type": "stream",
          "text": [
            "Agregar, Y o N ? or save to create .csv\n",
            "y\n"
          ]
        },
        {
          "output_type": "stream",
          "name": "stderr",
          "text": [
            "No handles with labels found to put in legend.\n"
          ]
        },
        {
          "output_type": "stream",
          "name": "stdout",
          "text": [
            "Contador: 60\n",
            "Count: 83/38446\n"
          ]
        },
        {
          "output_type": "display_data",
          "data": {
            "text/plain": [
              "<Figure size 576x576 with 1 Axes>"
            ],
            "image/png": "[encoded data removed]"
          },
          "metadata": {
            "needs_background": "light"
          }
        },
        {
          "name": "stdout",
          "output_type": "stream",
          "text": [
            "Agregar, Y o N ? or save to create .csv\n",
            "y\n"
          ]
        },
        {
          "output_type": "stream",
          "name": "stderr",
          "text": [
            "No handles with labels found to put in legend.\n"
          ]
        },
        {
          "output_type": "stream",
          "name": "stdout",
          "text": [
            "Contador: 61\n",
            "Count: 84/38446\n"
          ]
        },
        {
          "output_type": "display_data",
          "data": {
            "text/plain": [
              "<Figure size 576x576 with 1 Axes>"
            ],
            "image/png": "[encoded data removed]"
          },
          "metadata": {
            "needs_background": "light"
          }
        },
        {
          "name": "stdout",
          "output_type": "stream",
          "text": [
            "Agregar, Y o N ? or save to create .csv\n",
            "\n"
          ]
        },
        {
          "output_type": "stream",
          "name": "stderr",
          "text": [
            "No handles with labels found to put in legend.\n"
          ]
        },
        {
          "output_type": "stream",
          "name": "stdout",
          "text": [
            "Count: 85/38446\n"
          ]
        },
        {
          "output_type": "display_data",
          "data": {
            "text/plain": [
              "<Figure size 576x576 with 1 Axes>"
            ],
            "image/png": "[encoded data removed]"
          },
          "metadata": {
            "needs_background": "light"
          }
        },
        {
          "name": "stdout",
          "output_type": "stream",
          "text": [
            "Agregar, Y o N ? or save to create .csv\n",
            "\n"
          ]
        },
        {
          "output_type": "stream",
          "name": "stderr",
          "text": [
            "No handles with labels found to put in legend.\n"
          ]
        },
        {
          "output_type": "stream",
          "name": "stdout",
          "text": [
            "Count: 86/38446\n"
          ]
        },
        {
          "output_type": "display_data",
          "data": {
            "text/plain": [
              "<Figure size 576x576 with 1 Axes>"
            ],
            "image/png": "[encoded data removed]"
          },
          "metadata": {
            "needs_background": "light"
          }
        },
        {
          "name": "stdout",
          "output_type": "stream",
          "text": [
            "Agregar, Y o N ? or save to create .csv\n",
            "y\n"
          ]
        },
        {
          "output_type": "stream",
          "name": "stderr",
          "text": [
            "No handles with labels found to put in legend.\n"
          ]
        },
        {
          "output_type": "stream",
          "name": "stdout",
          "text": [
            "Contador: 62\n",
            "Count: 87/38446\n"
          ]
        },
        {
          "output_type": "display_data",
          "data": {
            "text/plain": [
              "<Figure size 576x576 with 1 Axes>"
            ],
            "image/png": "[encoded data removed]"
          },
          "metadata": {
            "needs_background": "light"
          }
        },
        {
          "name": "stdout",
          "output_type": "stream",
          "text": [
            "Agregar, Y o N ? or save to create .csv\n",
            "y\n"
          ]
        },
        {
          "output_type": "stream",
          "name": "stderr",
          "text": [
            "No handles with labels found to put in legend.\n"
          ]
        },
        {
          "output_type": "stream",
          "name": "stdout",
          "text": [
            "Contador: 63\n",
            "Count: 88/38446\n"
          ]
        },
        {
          "output_type": "display_data",
          "data": {
            "text/plain": [
              "<Figure size 576x576 with 1 Axes>"
            ],
            "image/png": "[encoded data removed]"
          },
          "metadata": {
            "needs_background": "light"
          }
        },
        {
          "name": "stdout",
          "output_type": "stream",
          "text": [
            "Agregar, Y o N ? or save to create .csv\n",
            "\n"
          ]
        },
        {
          "output_type": "stream",
          "name": "stderr",
          "text": [
            "No handles with labels found to put in legend.\n"
          ]
        },
        {
          "output_type": "stream",
          "name": "stdout",
          "text": [
            "Count: 89/38446\n"
          ]
        },
        {
          "output_type": "display_data",
          "data": {
            "text/plain": [
              "<Figure size 576x576 with 1 Axes>"
            ],
            "image/png": "[encoded data removed]"
          },
          "metadata": {
            "needs_background": "light"
          }
        },
        {
          "name": "stdout",
          "output_type": "stream",
          "text": [
            "Agregar, Y o N ? or save to create .csv\n",
            "y\n"
          ]
        },
        {
          "output_type": "stream",
          "name": "stderr",
          "text": [
            "No handles with labels found to put in legend.\n"
          ]
        },
        {
          "output_type": "stream",
          "name": "stdout",
          "text": [
            "Contador: 64\n",
            "Count: 90/38446\n"
          ]
        },
        {
          "output_type": "display_data",
          "data": {
            "text/plain": [
              "<Figure size 576x576 with 1 Axes>"
            ],
            "image/png": "[encoded data removed]"
          },
          "metadata": {
            "needs_background": "light"
          }
        },
        {
          "name": "stdout",
          "output_type": "stream",
          "text": [
            "Agregar, Y o N ? or save to create .csv\n",
            "y\n"
          ]
        },
        {
          "output_type": "stream",
          "name": "stderr",
          "text": [
            "No handles with labels found to put in legend.\n"
          ]
        },
        {
          "output_type": "stream",
          "name": "stdout",
          "text": [
            "Contador: 65\n",
            "Count: 91/38446\n"
          ]
        },
        {
          "output_type": "display_data",
          "data": {
            "text/plain": [
              "<Figure size 576x576 with 1 Axes>"
            ],
            "image/png": "[encoded data removed]"
          },
          "metadata": {
            "needs_background": "light"
          }
        },
        {
          "name": "stdout",
          "output_type": "stream",
          "text": [
            "Agregar, Y o N ? or save to create .csv\n",
            "y\n"
          ]
        },
        {
          "output_type": "stream",
          "name": "stderr",
          "text": [
            "No handles with labels found to put in legend.\n"
          ]
        },
        {
          "output_type": "stream",
          "name": "stdout",
          "text": [
            "Contador: 66\n",
            "Count: 92/38446\n"
          ]
        },
        {
          "output_type": "display_data",
          "data": {
            "text/plain": [
              "<Figure size 576x576 with 1 Axes>"
            ],
            "image/png": "[encoded data removed]"
          },
          "metadata": {
            "needs_background": "light"
          }
        },
        {
          "name": "stdout",
          "output_type": "stream",
          "text": [
            "Agregar, Y o N ? or save to create .csv\n",
            "y\n"
          ]
        },
        {
          "output_type": "stream",
          "name": "stderr",
          "text": [
            "No handles with labels found to put in legend.\n"
          ]
        },
        {
          "output_type": "stream",
          "name": "stdout",
          "text": [
            "Contador: 67\n",
            "Count: 93/38446\n"
          ]
        },
        {
          "output_type": "display_data",
          "data": {
            "text/plain": [
              "<Figure size 576x576 with 1 Axes>"
            ],
            "image/png": "[encoded data removed]"
          },
          "metadata": {
            "needs_background": "light"
          }
        },
        {
          "name": "stdout",
          "output_type": "stream",
          "text": [
            "Agregar, Y o N ? or save to create .csv\n",
            "y\n"
          ]
        },
        {
          "output_type": "stream",
          "name": "stderr",
          "text": [
            "No handles with labels found to put in legend.\n"
          ]
        },
        {
          "output_type": "stream",
          "name": "stdout",
          "text": [
            "Contador: 68\n",
            "Count: 94/38446\n"
          ]
        },
        {
          "output_type": "display_data",
          "data": {
            "text/plain": [
              "<Figure size 576x576 with 1 Axes>"
            ],
            "image/png": "[encoded data removed]"
          },
          "metadata": {
            "needs_background": "light"
          }
        },
        {
          "name": "stdout",
          "output_type": "stream",
          "text": [
            "Agregar, Y o N ? or save to create .csv\n",
            "y\n"
          ]
        },
        {
          "output_type": "stream",
          "name": "stderr",
          "text": [
            "No handles with labels found to put in legend.\n"
          ]
        },
        {
          "output_type": "stream",
          "name": "stdout",
          "text": [
            "Contador: 69\n",
            "Count: 95/38446\n"
          ]
        },
        {
          "output_type": "display_data",
          "data": {
            "text/plain": [
              "<Figure size 576x576 with 1 Axes>"
            ],
            "image/png": "[encoded data removed]"
          },
          "metadata": {
            "needs_background": "light"
          }
        },
        {
          "name": "stdout",
          "output_type": "stream",
          "text": [
            "Agregar, Y o N ? or save to create .csv\n",
            "y\n"
          ]
        },
        {
          "output_type": "stream",
          "name": "stderr",
          "text": [
            "No handles with labels found to put in legend.\n"
          ]
        },
        {
          "output_type": "stream",
          "name": "stdout",
          "text": [
            "Contador: 70\n",
            "Count: 96/38446\n"
          ]
        },
        {
          "output_type": "display_data",
          "data": {
            "text/plain": [
              "<Figure size 576x576 with 1 Axes>"
            ],
            "image/png": "[encoded data removed]"
          },
          "metadata": {
            "needs_background": "light"
          }
        },
        {
          "name": "stdout",
          "output_type": "stream",
          "text": [
            "Agregar, Y o N ? or save to create .csv\n",
            "y\n"
          ]
        },
        {
          "output_type": "stream",
          "name": "stderr",
          "text": [
            "No handles with labels found to put in legend.\n"
          ]
        },
        {
          "output_type": "stream",
          "name": "stdout",
          "text": [
            "Contador: 71\n",
            "Count: 97/38446\n"
          ]
        },
        {
          "output_type": "display_data",
          "data": {
            "text/plain": [
              "<Figure size 576x576 with 1 Axes>"
            ],
            "image/png": "[encoded data removed]"
          },
          "metadata": {
            "needs_background": "light"
          }
        },
        {
          "name": "stdout",
          "output_type": "stream",
          "text": [
            "Agregar, Y o N ? or save to create .csv\n",
            "y\n"
          ]
        },
        {
          "output_type": "stream",
          "name": "stderr",
          "text": [
            "No handles with labels found to put in legend.\n"
          ]
        },
        {
          "output_type": "stream",
          "name": "stdout",
          "text": [
            "Contador: 72\n",
            "Count: 98/38446\n"
          ]
        },
        {
          "output_type": "display_data",
          "data": {
            "text/plain": [
              "<Figure size 576x576 with 1 Axes>"
            ],
            "image/png": "[encoded data removed]"
          },
          "metadata": {
            "needs_background": "light"
          }
        },
        {
          "name": "stdout",
          "output_type": "stream",
          "text": [
            "Agregar, Y o N ? or save to create .csv\n",
            "\n"
          ]
        },
        {
          "output_type": "stream",
          "name": "stderr",
          "text": [
            "No handles with labels found to put in legend.\n"
          ]
        },
        {
          "output_type": "stream",
          "name": "stdout",
          "text": [
            "Count: 99/38446\n"
          ]
        },
        {
          "output_type": "display_data",
          "data": {
            "text/plain": [
              "<Figure size 576x576 with 1 Axes>"
            ],
            "image/png": "[encoded data removed]"
          },
          "metadata": {
            "needs_background": "light"
          }
        },
        {
          "name": "stdout",
          "output_type": "stream",
          "text": [
            "Agregar, Y o N ? or save to create .csv\n",
            "y\n"
          ]
        },
        {
          "output_type": "stream",
          "name": "stderr",
          "text": [
            "No handles with labels found to put in legend.\n"
          ]
        },
        {
          "output_type": "stream",
          "name": "stdout",
          "text": [
            "Contador: 73\n",
            "Count: 100/38446\n"
          ]
        },
        {
          "output_type": "display_data",
          "data": {
            "text/plain": [
              "<Figure size 576x576 with 1 Axes>"
            ],
            "image/png": "[encoded data removed]"
          },
          "metadata": {
            "needs_background": "light"
          }
        },
        {
          "name": "stdout",
          "output_type": "stream",
          "text": [
            "Agregar, Y o N ? or save to create .csv\n",
            "\n"
          ]
        },
        {
          "output_type": "stream",
          "name": "stderr",
          "text": [
            "No handles with labels found to put in legend.\n"
          ]
        },
        {
          "output_type": "stream",
          "name": "stdout",
          "text": [
            "Count: 101/38446\n"
          ]
        },
        {
          "output_type": "display_data",
          "data": {
            "text/plain": [
              "<Figure size 576x576 with 1 Axes>"
            ],
            "image/png": "[encoded data removed]"
          },
          "metadata": {
            "needs_background": "light"
          }
        },
        {
          "name": "stdout",
          "output_type": "stream",
          "text": [
            "Agregar, Y o N ? or save to create .csv\n",
            "y\n"
          ]
        },
        {
          "output_type": "stream",
          "name": "stderr",
          "text": [
            "No handles with labels found to put in legend.\n"
          ]
        },
        {
          "output_type": "stream",
          "name": "stdout",
          "text": [
            "Contador: 74\n",
            "Count: 102/38446\n"
          ]
        },
        {
          "output_type": "display_data",
          "data": {
            "text/plain": [
              "<Figure size 576x576 with 1 Axes>"
            ],
            "image/png": "[encoded data removed]"
          },
          "metadata": {
            "needs_background": "light"
          }
        },
        {
          "name": "stdout",
          "output_type": "stream",
          "text": [
            "Agregar, Y o N ? or save to create .csv\n",
            "y\n"
          ]
        },
        {
          "output_type": "stream",
          "name": "stderr",
          "text": [
            "No handles with labels found to put in legend.\n"
          ]
        },
        {
          "output_type": "stream",
          "name": "stdout",
          "text": [
            "Contador: 75\n",
            "Count: 103/38446\n"
          ]
        },
        {
          "output_type": "display_data",
          "data": {
            "text/plain": [
              "<Figure size 576x576 with 1 Axes>"
            ],
            "image/png": "[encoded data removed]"
          },
          "metadata": {
            "needs_background": "light"
          }
        },
        {
          "name": "stdout",
          "output_type": "stream",
          "text": [
            "Agregar, Y o N ? or save to create .csv\n",
            "y\n"
          ]
        },
        {
          "output_type": "stream",
          "name": "stderr",
          "text": [
            "No handles with labels found to put in legend.\n"
          ]
        },
        {
          "output_type": "stream",
          "name": "stdout",
          "text": [
            "Contador: 76\n",
            "Count: 104/38446\n"
          ]
        },
        {
          "output_type": "display_data",
          "data": {
            "text/plain": [
              "<Figure size 576x576 with 1 Axes>"
            ],
            "image/png": "[encoded data removed]"
          },
          "metadata": {
            "needs_background": "light"
          }
        },
        {
          "name": "stdout",
          "output_type": "stream",
          "text": [
            "Agregar, Y o N ? or save to create .csv\n",
            "y\n"
          ]
        },
        {
          "output_type": "stream",
          "name": "stderr",
          "text": [
            "No handles with labels found to put in legend.\n"
          ]
        },
        {
          "output_type": "stream",
          "name": "stdout",
          "text": [
            "Contador: 77\n",
            "Count: 105/38446\n"
          ]
        },
        {
          "output_type": "display_data",
          "data": {
            "text/plain": [
              "<Figure size 576x576 with 1 Axes>"
            ],
            "image/png": "[encoded data removed]"
          },
          "metadata": {
            "needs_background": "light"
          }
        },
        {
          "name": "stdout",
          "output_type": "stream",
          "text": [
            "Agregar, Y o N ? or save to create .csv\n",
            "y\n"
          ]
        },
        {
          "output_type": "stream",
          "name": "stderr",
          "text": [
            "No handles with labels found to put in legend.\n"
          ]
        },
        {
          "output_type": "stream",
          "name": "stdout",
          "text": [
            "Contador: 78\n",
            "Count: 106/38446\n"
          ]
        },
        {
          "output_type": "display_data",
          "data": {
            "text/plain": [
              "<Figure size 576x576 with 1 Axes>"
            ],
            "image/png": "[encoded data removed]"
          },
          "metadata": {
            "needs_background": "light"
          }
        },
        {
          "name": "stdout",
          "output_type": "stream",
          "text": [
            "Agregar, Y o N ? or save to create .csv\n",
            "\n"
          ]
        },
        {
          "output_type": "stream",
          "name": "stderr",
          "text": [
            "No handles with labels found to put in legend.\n"
          ]
        },
        {
          "output_type": "stream",
          "name": "stdout",
          "text": [
            "Count: 107/38446\n"
          ]
        },
        {
          "output_type": "display_data",
          "data": {
            "text/plain": [
              "<Figure size 576x576 with 1 Axes>"
            ],
            "image/png": "[encoded data removed]"
          },
          "metadata": {
            "needs_background": "light"
          }
        },
        {
          "name": "stdout",
          "output_type": "stream",
          "text": [
            "Agregar, Y o N ? or save to create .csv\n",
            "\n"
          ]
        },
        {
          "output_type": "stream",
          "name": "stderr",
          "text": [
            "No handles with labels found to put in legend.\n"
          ]
        },
        {
          "output_type": "stream",
          "name": "stdout",
          "text": [
            "Count: 108/38446\n"
          ]
        },
        {
          "output_type": "display_data",
          "data": {
            "text/plain": [
              "<Figure size 576x576 with 1 Axes>"
            ],
            "image/png": "[encoded data removed]"
          },
          "metadata": {
            "needs_background": "light"
          }
        },
        {
          "name": "stdout",
          "output_type": "stream",
          "text": [
            "Agregar, Y o N ? or save to create .csv\n",
            "\n"
          ]
        },
        {
          "output_type": "stream",
          "name": "stderr",
          "text": [
            "No handles with labels found to put in legend.\n"
          ]
        },
        {
          "output_type": "stream",
          "name": "stdout",
          "text": [
            "Count: 109/38446\n"
          ]
        },
        {
          "output_type": "display_data",
          "data": {
            "text/plain": [
              "<Figure size 576x576 with 1 Axes>"
            ],
            "image/png": "[encoded data removed]"
          },
          "metadata": {
            "needs_background": "light"
          }
        },
        {
          "name": "stdout",
          "output_type": "stream",
          "text": [
            "Agregar, Y o N ? or save to create .csv\n",
            "\n"
          ]
        },
        {
          "output_type": "stream",
          "name": "stderr",
          "text": [
            "No handles with labels found to put in legend.\n"
          ]
        },
        {
          "output_type": "stream",
          "name": "stdout",
          "text": [
            "Count: 110/38446\n"
          ]
        },
        {
          "output_type": "display_data",
          "data": {
            "text/plain": [
              "<Figure size 576x576 with 1 Axes>"
            ],
            "image/png": "[encoded data removed]"
          },
          "metadata": {
            "needs_background": "light"
          }
        },
        {
          "name": "stdout",
          "output_type": "stream",
          "text": [
            "Agregar, Y o N ? or save to create .csv\n",
            "\n"
          ]
        },
        {
          "output_type": "stream",
          "name": "stderr",
          "text": [
            "No handles with labels found to put in legend.\n"
          ]
        },
        {
          "output_type": "stream",
          "name": "stdout",
          "text": [
            "Count: 111/38446\n"
          ]
        },
        {
          "output_type": "display_data",
          "data": {
            "text/plain": [
              "<Figure size 576x576 with 1 Axes>"
            ],
            "image/png": "[encoded data removed]"
          },
          "metadata": {
            "needs_background": "light"
          }
        },
        {
          "name": "stdout",
          "output_type": "stream",
          "text": [
            "Agregar, Y o N ? or save to create .csv\n",
            "y\n"
          ]
        },
        {
          "output_type": "stream",
          "name": "stderr",
          "text": [
            "No handles with labels found to put in legend.\n"
          ]
        },
        {
          "output_type": "stream",
          "name": "stdout",
          "text": [
            "Contador: 79\n",
            "Count: 112/38446\n"
          ]
        },
        {
          "output_type": "display_data",
          "data": {
            "text/plain": [
              "<Figure size 576x576 with 1 Axes>"
            ],
            "image/png": "[encoded data removed]"
          },
          "metadata": {
            "needs_background": "light"
          }
        },
        {
          "name": "stdout",
          "output_type": "stream",
          "text": [
            "Agregar, Y o N ? or save to create .csv\n",
            "\n"
          ]
        },
        {
          "output_type": "stream",
          "name": "stderr",
          "text": [
            "No handles with labels found to put in legend.\n"
          ]
        },
        {
          "output_type": "stream",
          "name": "stdout",
          "text": [
            "Count: 113/38446\n"
          ]
        },
        {
          "output_type": "display_data",
          "data": {
            "text/plain": [
              "<Figure size 576x576 with 1 Axes>"
            ],
            "image/png": "[encoded data removed]"
          },
          "metadata": {
            "needs_background": "light"
          }
        },
        {
          "name": "stdout",
          "output_type": "stream",
          "text": [
            "Agregar, Y o N ? or save to create .csv\n",
            "y\n"
          ]
        },
        {
          "output_type": "stream",
          "name": "stderr",
          "text": [
            "No handles with labels found to put in legend.\n"
          ]
        },
        {
          "output_type": "stream",
          "name": "stdout",
          "text": [
            "Contador: 80\n",
            "Count: 114/38446\n"
          ]
        },
        {
          "output_type": "display_data",
          "data": {
            "text/plain": [
              "<Figure size 576x576 with 1 Axes>"
            ],
            "image/png": "[encoded data removed]"
          },
          "metadata": {
            "needs_background": "light"
          }
        },
        {
          "name": "stdout",
          "output_type": "stream",
          "text": [
            "Agregar, Y o N ? or save to create .csv\n",
            "save\n"
          ]
        },
        {
          "output_type": "stream",
          "name": "stderr",
          "text": [
            "No handles with labels found to put in legend.\n"
          ]
        },
        {
          "output_type": "stream",
          "name": "stdout",
          "text": [
            "patrones_random_80_EURUSD.csv\n",
            "Count: 115/38446\n"
          ]
        },
        {
          "output_type": "display_data",
          "data": {
            "text/plain": [
              "<Figure size 576x576 with 1 Axes>"
            ],
            "image/png": "[encoded data removed]"
          },
          "metadata": {
            "needs_background": "light"
          }
        },
        {
          "output_type": "stream",
          "name": "stdout",
          "text": [
            "Agregar, Y o N ? or save to create .csv\n"
          ]
        },
        {
          "output_type": "error",
          "ename": "KeyboardInterrupt",
          "evalue": "ignored",
          "traceback": [
            "\u001b[0;31m---------------------------------------------------------------------------\u001b[0m",
            "\u001b[0;31mKeyboardInterrupt\u001b[0m                         Traceback (most recent call last)",
            "\u001b[0;32m/usr/local/lib/python3.7/dist-packages/ipykernel/kernelbase.py\u001b[0m in \u001b[0;36m_input_request\u001b[0;34m(self, prompt, ident, parent, password)\u001b[0m\n\u001b[1;32m    728\u001b[0m             \u001b[0;32mtry\u001b[0m\u001b[0;34m:\u001b[0m\u001b[0;34m\u001b[0m\u001b[0;34m\u001b[0m\u001b[0m\n\u001b[0;32m--> 729\u001b[0;31m                 \u001b[0mident\u001b[0m\u001b[0;34m,\u001b[0m \u001b[0mreply\u001b[0m \u001b[0;34m=\u001b[0m \u001b[0mself\u001b[0m\u001b[0;34m.\u001b[0m\u001b[0msession\u001b[0m\u001b[0;34m.\u001b[0m\u001b[0mrecv\u001b[0m\u001b[0;34m(\u001b[0m\u001b[0mself\u001b[0m\u001b[0;34m.\u001b[0m\u001b[0mstdin_socket\u001b[0m\u001b[0;34m,\u001b[0m \u001b[0;36m0\u001b[0m\u001b[0;34m)\u001b[0m\u001b[0;34m\u001b[0m\u001b[0;34m\u001b[0m\u001b[0m\n\u001b[0m\u001b[1;32m    730\u001b[0m             \u001b[0;32mexcept\u001b[0m \u001b[0mException\u001b[0m\u001b[0;34m:\u001b[0m\u001b[0;34m\u001b[0m\u001b[0;34m\u001b[0m\u001b[0m\n",
            "\u001b[0;32m/usr/local/lib/python3.7/dist-packages/jupyter_client/session.py\u001b[0m in \u001b[0;36mrecv\u001b[0;34m(self, socket, mode, content, copy)\u001b[0m\n\u001b[1;32m    802\u001b[0m         \u001b[0;32mtry\u001b[0m\u001b[0;34m:\u001b[0m\u001b[0;34m\u001b[0m\u001b[0;34m\u001b[0m\u001b[0m\n\u001b[0;32m--> 803\u001b[0;31m             \u001b[0mmsg_list\u001b[0m \u001b[0;34m=\u001b[0m \u001b[0msocket\u001b[0m\u001b[0;34m.\u001b[0m\u001b[0mrecv_multipart\u001b[0m\u001b[0;34m(\u001b[0m\u001b[0mmode\u001b[0m\u001b[0;34m,\u001b[0m \u001b[0mcopy\u001b[0m\u001b[0;34m=\u001b[0m\u001b[0mcopy\u001b[0m\u001b[0;34m)\u001b[0m\u001b[0;34m\u001b[0m\u001b[0;34m\u001b[0m\u001b[0m\n\u001b[0m\u001b[1;32m    804\u001b[0m         \u001b[0;32mexcept\u001b[0m \u001b[0mzmq\u001b[0m\u001b[0;34m.\u001b[0m\u001b[0mZMQError\u001b[0m \u001b[0;32mas\u001b[0m \u001b[0me\u001b[0m\u001b[0;34m:\u001b[0m\u001b[0;34m\u001b[0m\u001b[0;34m\u001b[0m\u001b[0m\n",
            "\u001b[0;32m/usr/local/lib/python3.7/dist-packages/zmq/sugar/socket.py\u001b[0m in \u001b[0;36mrecv_multipart\u001b[0;34m(self, flags, copy, track)\u001b[0m\n\u001b[1;32m    723\u001b[0m         \"\"\"\n\u001b[0;32m--> 724\u001b[0;31m         \u001b[0mparts\u001b[0m \u001b[0;34m=\u001b[0m \u001b[0;34m[\u001b[0m\u001b[0mself\u001b[0m\u001b[0;34m.\u001b[0m\u001b[0mrecv\u001b[0m\u001b[0;34m(\u001b[0m\u001b[0mflags\u001b[0m\u001b[0;34m,\u001b[0m \u001b[0mcopy\u001b[0m\u001b[0;34m=\u001b[0m\u001b[0mcopy\u001b[0m\u001b[0;34m,\u001b[0m \u001b[0mtrack\u001b[0m\u001b[0;34m=\u001b[0m\u001b[0mtrack\u001b[0m\u001b[0;34m)\u001b[0m\u001b[0;34m]\u001b[0m\u001b[0;34m\u001b[0m\u001b[0;34m\u001b[0m\u001b[0m\n\u001b[0m\u001b[1;32m    725\u001b[0m         \u001b[0;31m# have first part already, only loop while more to receive\u001b[0m\u001b[0;34m\u001b[0m\u001b[0;34m\u001b[0m\u001b[0;34m\u001b[0m\u001b[0m\n",
            "\u001b[0;32mzmq/backend/cython/socket.pyx\u001b[0m in \u001b[0;36mzmq.backend.cython.socket.Socket.recv\u001b[0;34m()\u001b[0m\n",
            "\u001b[0;32mzmq/backend/cython/socket.pyx\u001b[0m in \u001b[0;36mzmq.backend.cython.socket.Socket.recv\u001b[0;34m()\u001b[0m\n",
            "\u001b[0;32mzmq/backend/cython/socket.pyx\u001b[0m in \u001b[0;36mzmq.backend.cython.socket._recv_copy\u001b[0;34m()\u001b[0m\n",
            "\u001b[0;32m/usr/local/lib/python3.7/dist-packages/zmq/backend/cython/checkrc.pxd\u001b[0m in \u001b[0;36mzmq.backend.cython.checkrc._check_rc\u001b[0;34m()\u001b[0m\n",
            "\u001b[0;31mKeyboardInterrupt\u001b[0m: ",
            "\nDuring handling of the above exception, another exception occurred:\n",
            "\u001b[0;31mKeyboardInterrupt\u001b[0m                         Traceback (most recent call last)",
            "\u001b[0;32m<ipython-input-13-8c3ed49107f1>\u001b[0m in \u001b[0;36m<module>\u001b[0;34m()\u001b[0m\n\u001b[1;32m     50\u001b[0m   \u001b[0;31m#pedir confirmacion para agregarlo a un conjunto de datos etiquetados\u001b[0m\u001b[0;34m\u001b[0m\u001b[0;34m\u001b[0m\u001b[0;34m\u001b[0m\u001b[0m\n\u001b[1;32m     51\u001b[0m   \u001b[0mprint\u001b[0m\u001b[0;34m(\u001b[0m\u001b[0;34m\"Agregar, Y o N ? or save to create .csv\"\u001b[0m\u001b[0;34m)\u001b[0m\u001b[0;34m\u001b[0m\u001b[0;34m\u001b[0m\u001b[0m\n\u001b[0;32m---> 52\u001b[0;31m   \u001b[0mresp\u001b[0m \u001b[0;34m=\u001b[0m \u001b[0minput\u001b[0m\u001b[0;34m(\u001b[0m\u001b[0;34m)\u001b[0m\u001b[0;34m\u001b[0m\u001b[0;34m\u001b[0m\u001b[0m\n\u001b[0m\u001b[1;32m     53\u001b[0m   \u001b[0;32mif\u001b[0m \u001b[0mresp\u001b[0m \u001b[0;34m==\u001b[0m \u001b[0;34m'y'\u001b[0m \u001b[0;32mor\u001b[0m \u001b[0mresp\u001b[0m \u001b[0;34m==\u001b[0m \u001b[0;34m'Y'\u001b[0m\u001b[0;34m:\u001b[0m\u001b[0;34m\u001b[0m\u001b[0;34m\u001b[0m\u001b[0m\n\u001b[1;32m     54\u001b[0m     \u001b[0mdf_marks\u001b[0m \u001b[0;34m=\u001b[0m \u001b[0mdf_marks\u001b[0m\u001b[0;34m.\u001b[0m\u001b[0mappend\u001b[0m\u001b[0;34m(\u001b[0m\u001b[0mdf_copy\u001b[0m\u001b[0;34m.\u001b[0m\u001b[0mloc\u001b[0m\u001b[0;34m[\u001b[0m\u001b[0mindex\u001b[0m\u001b[0;34m-\u001b[0m\u001b[0;34m(\u001b[0m\u001b[0mvalorVentana\u001b[0m\u001b[0;34m-\u001b[0m\u001b[0;36m1\u001b[0m\u001b[0;34m)\u001b[0m\u001b[0;34m:\u001b[0m\u001b[0mindex\u001b[0m\u001b[0;34m,\u001b[0m\u001b[0;34m'open'\u001b[0m\u001b[0;34m:\u001b[0m\u001b[0;34m'close'\u001b[0m\u001b[0;34m]\u001b[0m\u001b[0;34m,\u001b[0m \u001b[0mignore_index\u001b[0m\u001b[0;34m=\u001b[0m\u001b[0;32mTrue\u001b[0m\u001b[0;34m)\u001b[0m\u001b[0;34m\u001b[0m\u001b[0;34m\u001b[0m\u001b[0m\n",
            "\u001b[0;32m/usr/local/lib/python3.7/dist-packages/ipykernel/kernelbase.py\u001b[0m in \u001b[0;36mraw_input\u001b[0;34m(self, prompt)\u001b[0m\n\u001b[1;32m    702\u001b[0m             \u001b[0mself\u001b[0m\u001b[0;34m.\u001b[0m\u001b[0m_parent_ident\u001b[0m\u001b[0;34m,\u001b[0m\u001b[0;34m\u001b[0m\u001b[0;34m\u001b[0m\u001b[0m\n\u001b[1;32m    703\u001b[0m             \u001b[0mself\u001b[0m\u001b[0;34m.\u001b[0m\u001b[0m_parent_header\u001b[0m\u001b[0;34m,\u001b[0m\u001b[0;34m\u001b[0m\u001b[0;34m\u001b[0m\u001b[0m\n\u001b[0;32m--> 704\u001b[0;31m             \u001b[0mpassword\u001b[0m\u001b[0;34m=\u001b[0m\u001b[0;32mFalse\u001b[0m\u001b[0;34m,\u001b[0m\u001b[0;34m\u001b[0m\u001b[0;34m\u001b[0m\u001b[0m\n\u001b[0m\u001b[1;32m    705\u001b[0m         )\n\u001b[1;32m    706\u001b[0m \u001b[0;34m\u001b[0m\u001b[0m\n",
            "\u001b[0;32m/usr/local/lib/python3.7/dist-packages/ipykernel/kernelbase.py\u001b[0m in \u001b[0;36m_input_request\u001b[0;34m(self, prompt, ident, parent, password)\u001b[0m\n\u001b[1;32m    732\u001b[0m             \u001b[0;32mexcept\u001b[0m \u001b[0mKeyboardInterrupt\u001b[0m\u001b[0;34m:\u001b[0m\u001b[0;34m\u001b[0m\u001b[0;34m\u001b[0m\u001b[0m\n\u001b[1;32m    733\u001b[0m                 \u001b[0;31m# re-raise KeyboardInterrupt, to truncate traceback\u001b[0m\u001b[0;34m\u001b[0m\u001b[0;34m\u001b[0m\u001b[0;34m\u001b[0m\u001b[0m\n\u001b[0;32m--> 734\u001b[0;31m                 \u001b[0;32mraise\u001b[0m \u001b[0mKeyboardInterrupt\u001b[0m\u001b[0;34m\u001b[0m\u001b[0;34m\u001b[0m\u001b[0m\n\u001b[0m\u001b[1;32m    735\u001b[0m             \u001b[0;32melse\u001b[0m\u001b[0;34m:\u001b[0m\u001b[0;34m\u001b[0m\u001b[0;34m\u001b[0m\u001b[0m\n\u001b[1;32m    736\u001b[0m                 \u001b[0;32mbreak\u001b[0m\u001b[0;34m\u001b[0m\u001b[0;34m\u001b[0m\u001b[0m\n",
            "\u001b[0;31mKeyboardInterrupt\u001b[0m: "
          ]
        }
      ],
      "source": [
        "# Open file of one of the markets to be analyzed\n",
        "df = pd.read_csv('/content/drive/MyDrive/Tesis de grado/datos/Datos sin procesar/QuantDataManager/EURUSD_M1_UTCMinus03-M1.csv', \n",
        "                 header=0, names=[\"date\",\"time\",\"open\",\"max\",\"min\",\"close\",\"volumen\"])\n",
        "\n",
        "# Name of the market\n",
        "currency = 'EURUSD'\n",
        "\n",
        "# Add \"body\" field, being the difference between the closing and opening of the Japanese candlesticks.\n",
        "df['body'] = np.where(df['close'] >= df['open'],\n",
        "                               abs(df.close - df.open)/2 + df.open,\n",
        "                               abs(df.close - df.open)/2 + df.close)\n",
        "\n",
        "# Take the set of candles that appear in the imported dataset\n",
        "df_copy = df.iloc[0:3900000].copy() \n",
        "\n",
        "# Size of the window in which the pattern is observed \n",
        "window_size = 28 \n",
        "set_values_dt(window_size)  \n",
        "set_values_sh(window_size) \n",
        "\n",
        "# Name of pattern to be labeled\n",
        "patternTag = 'double_top'\n",
        "\n",
        "# Look for the possible occurrence of the previously defined pattern based on market movements\n",
        "df_copy[patternTag] = df_copy['body'].rolling(window_size).apply(double_top)\n",
        "\n",
        "# Print the number of possible patterns detected\n",
        "allPatternCount = df_copy[patropatternTagnTag].value_counts()\n",
        "print(str(allPatternCount))\n",
        "print(\"Continue...\")\n",
        "resp = input()\n",
        "\n",
        "\n",
        "# Run through the detected patterns, one by one, to visually check if they add up to the labeled dataset\n",
        "new_df = df_copy.loc[df_copy[patternTag] == True]\n",
        "df_marks = pd.DataFrame()\n",
        "counter = 0\n",
        "aux = 1\n",
        "for index in new_df.index:\n",
        "\n",
        "  print('Count: '+str(aux)+'/'+str(allPatternCount[1]))\n",
        "\n",
        "  # Visualize the image of the found pattern\n",
        "  pattern_show_image(patternTag, df_copy.loc[index-(window_size-1):index,'open':'close'])\n",
        "  aux += 1\n",
        "\n",
        "  # Ask for confirmation to add it to a tagged data set\n",
        "  print(\"Add, Y o N ? or save to create .csv\")\n",
        "  resp = input()\n",
        "  if resp == 'y' or resp == 'Y':\n",
        "    df_marks = df_marks.append(df_copy.loc[index-(window_size-1):index,'open':'close'], ignore_index=True)\n",
        "    counter += 1\n",
        "    print('Counter: ' + str(counter) )\n",
        "  if resp == 'save':\n",
        "    # Save file .csv\n",
        "    df_marks.to_csv('patterns_'+str(patternTag)+'_'+str(counter)+'_'+str(counter)+ '_' + str(currency)+'.csv', index=False)   \n",
        "    print('pattens_'+str(patternTag)+'_'+str(counter)+ '_' + str(currency)+'.csv')\n",
        "  \n"
      ]
    }
  ],
  "metadata": {
    "colab": {
      "collapsed_sections": [],
      "provenance": []
    },
    "kernelspec": {
      "display_name": "Python 3",
      "name": "python3"
    },
    "language_info": {
      "name": "python"
    }
  },
  "nbformat": 4,
  "nbformat_minor": 0
}