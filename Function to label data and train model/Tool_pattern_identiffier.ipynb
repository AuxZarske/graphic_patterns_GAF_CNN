{
  "nbformat": 4,
  "nbformat_minor": 0,
  "metadata": {
    "colab": {
      "provenance": [],
      "collapsed_sections": []
    },
    "kernelspec": {
      "name": "python3",
      "display_name": "Python 3"
    },
    "language_info": {
      "name": "python"
    }
  },
  "cells": [
    {
      "cell_type": "markdown",
      "source": [
        "#Pattern identification tool\n",
        "\n",
        "Below are two modules that are useful together as a tool for the identification of graphical patterns, given from a module trained in the recognition of the main patterns of the financial market. On the one hand, there is a module that counts the number of patterns of a market in a specific period of time, in order to know the presence of a certain type of graphical pattern in a market. On the other hand, there is a module capable of recognizing in real time the presence of the requested pattern, for the latter makes use of an API."
      ],
      "metadata": {
        "id": "rBWHZVEzU_oN"
      }
    },
    {
      "cell_type": "markdown",
      "source": [
        "---"
      ],
      "metadata": {
        "id": "0I-BqVoIU9dv"
      }
    },
    {
      "cell_type": "code",
      "source": [
        "#Dependencies\n",
        "import pandas as pd\n",
        "from tensorflow import keras\n",
        "import numpy as np\n",
        "import matplotlib.pyplot as plt\n",
        "from pprint import PrettyPrinter\n",
        "\n",
        "#Library for visualization of data on candlestick charts\n",
        "!pip install mpl_finance\n",
        "import mpl_finance as mpf"
      ],
      "metadata": {
        "id": "c7rs4SjBU6dt",
        "colab": {
          "base_uri": "https://localhost:8080/"
        },
        "outputId": "358638ad-25c3-4eb8-e660-b405ca357f7e"
      },
      "execution_count": 7,
      "outputs": [
        {
          "output_type": "stream",
          "name": "stdout",
          "text": [
            "Looking in indexes: https://pypi.org/simple, https://us-python.pkg.dev/colab-wheels/public/simple/\n",
            "Requirement already satisfied: mpl_finance in /usr/local/lib/python3.7/dist-packages (0.10.1)\n",
            "Requirement already satisfied: matplotlib in /usr/local/lib/python3.7/dist-packages (from mpl_finance) (3.2.2)\n",
            "Requirement already satisfied: python-dateutil>=2.1 in /usr/local/lib/python3.7/dist-packages (from matplotlib->mpl_finance) (2.8.2)\n",
            "Requirement already satisfied: numpy>=1.11 in /usr/local/lib/python3.7/dist-packages (from matplotlib->mpl_finance) (1.21.6)\n",
            "Requirement already satisfied: cycler>=0.10 in /usr/local/lib/python3.7/dist-packages (from matplotlib->mpl_finance) (0.11.0)\n",
            "Requirement already satisfied: kiwisolver>=1.0.1 in /usr/local/lib/python3.7/dist-packages (from matplotlib->mpl_finance) (1.4.4)\n",
            "Requirement already satisfied: pyparsing!=2.0.4,!=2.1.2,!=2.1.6,>=2.0.1 in /usr/local/lib/python3.7/dist-packages (from matplotlib->mpl_finance) (3.0.9)\n",
            "Requirement already satisfied: typing-extensions in /usr/local/lib/python3.7/dist-packages (from kiwisolver>=1.0.1->matplotlib->mpl_finance) (4.1.1)\n",
            "Requirement already satisfied: six>=1.5 in /usr/local/lib/python3.7/dist-packages (from python-dateutil>=2.1->matplotlib->mpl_finance) (1.15.0)\n"
          ]
        }
      ]
    },
    {
      "cell_type": "code",
      "source": [
        "#Connection where the data and the trained model are located.\n",
        "\n",
        "from google.colab import drive\n",
        "drive.mount('/content/drive')\n",
        "model_path = '/content/drive/MyDrive/Tesis de grado/CNN_model_pattern.h5'\n",
        "model = keras.models.load_model(model_path)"
      ],
      "metadata": {
        "colab": {
          "base_uri": "https://localhost:8080/"
        },
        "id": "T5eZQ60TqNpM",
        "outputId": "d79975fe-d91d-4962-dfa9-50919cf1ece7"
      },
      "execution_count": 2,
      "outputs": [
        {
          "output_type": "stream",
          "name": "stdout",
          "text": [
            "Mounted at /content/drive\n"
          ]
        }
      ]
    },
    {
      "cell_type": "code",
      "source": [
        "# Extra functions\n",
        "\n",
        "window = 28\n",
        "# GAF function, converts a time series to a Gramian matrix.\n",
        "def serie_tiempo_gaf(serie,valueMax,valueMin):\n",
        "  if valueMax == valueMin:\n",
        "      mGaf = np.zeros((len(serie), len(serie)))\n",
        "  else:\n",
        "      serieNorm = np.array((serie-valueMin) / (valueMax-valueMin))\n",
        "      serieNormArc = np.arccos(serieNorm)\n",
        "      mGaf = np.zeros((len(serieNorm), len(serieNorm)))\n",
        "      for f in range(len(serieNorm)):\n",
        "          for c in range(len(serieNorm)):\n",
        "              mGaf[f, c] = np.cos(serieNormArc[f] + serieNormArc[c])\n",
        "  return mGaf\n",
        "\n",
        "\n",
        "# Function that receives a set of patterns with a predefined structure and that are converted through the GAF method.\n",
        "def create_gaf(serie_pattern):\n",
        "  data = serie_pattern.copy()\n",
        "  gaf = np.zeros((data.shape[0], data.shape[1], data.shape[1], data.shape[2]))\n",
        "  for i in range(data.shape[0]):\n",
        "      for c in range(data.shape[2]):\n",
        "          oneCat = data[i, :, c]\n",
        "          maxV = np.amax(oneCat)\n",
        "          minV = np.amin(oneCat)\n",
        "          result = serie_tiempo_gaf(oneCat, maxV, minV)\n",
        "          gaf[i, :, :, c] = result\n",
        "  return gaf\n",
        "\n",
        "\n",
        "# Function that returns a structured data series with the candlestick data for each pattern.\n",
        "def create_serie(df_pattern, max='max', min='min', open='open', close='close'):\n",
        "  total = int(df_pattern.shape[0] - window )\n",
        "  if total == 0 and df_pattern.shape[0] == window:\n",
        "    total = 1\n",
        "  serie = np.zeros((total, window, 4))\n",
        "  for N in range(total):\n",
        "    df = df_pattern.loc[(df_pattern.index >= (N)) & (df_pattern.index < (N + window))]\n",
        "    serie[N, :, 0] = df[open]\n",
        "    serie[N, :, 1] = df[max]\n",
        "    serie[N, :, 2] = df[min]\n",
        "    serie[N, :, 3] = df[close]\n",
        "  return serie\n",
        "\n",
        "# function to view candlestick chart of labeled pattern\n",
        "def pattern_show_image(signal, target, max='max', min='min', open='open', close='close'):           \n",
        "  fontsize=12\n",
        "  plt.rcParams['xtick.labelsize'] = fontsize  \n",
        "  plt.rcParams['ytick.labelsize'] = fontsize \n",
        "  plt.rcParams['axes.titlesize'] = fontsize           \n",
        "  fig = plt.figure(figsize=(8, 8))\n",
        "  ax = plt.subplot2grid((1, 1), (0, 0))           \n",
        "  ax.set_xticks(range(10))\n",
        "  ax.set_xticklabels(target.index)                     \n",
        "  arr = np.c_[range(target.shape[0]), target[[open, max, min, close]].values]\n",
        "  mpf.candlestick_ohlc(ax, arr, width=0.5, alpha=1, colordown='#ff1717', colorup='#53c156')          \n",
        "  locs, labels = plt.xticks() \n",
        "  plt.setp(labels , rotation = 45)\n",
        "  plt.grid()\n",
        "  ax.legend(loc = 'best', prop = {'size': fontsize})\n",
        "  title_name = signal\n",
        "  ax.set_title(title_name)\n",
        "  fig.subplots_adjust(bottom = 0.25)       \n",
        "  name = signal\n",
        "  plt.axis('off')\n",
        "  plt.show()\n",
        "\n"
      ],
      "metadata": {
        "id": "lis9197ZjmJA"
      },
      "execution_count": 3,
      "outputs": []
    },
    {
      "cell_type": "markdown",
      "source": [
        "---"
      ],
      "metadata": {
        "id": "_aFWCDJvUxrN"
      }
    },
    {
      "cell_type": "markdown",
      "source": [
        "# Search by market\n",
        "Module to run the model trained on a data set of a specific market, in order to count the number of certain patterns that have more presence in a specific market."
      ],
      "metadata": {
        "id": "rPjKLFFqUrJn"
      }
    },
    {
      "cell_type": "code",
      "execution_count": 17,
      "metadata": {
        "id": "m8MAiUzzTu3E",
        "colab": {
          "base_uri": "https://localhost:8080/"
        },
        "outputId": "d1d369bc-bd9e-435c-f6d6-4789431f1b84"
      },
      "outputs": [
        {
          "output_type": "stream",
          "name": "stdout",
          "text": [
            "Patterns detect:  35\n"
          ]
        }
      ],
      "source": [
        "# Test data\n",
        "r = create_gaf(create_serie(pd.read_csv('/content/drive/MyDrive/Tesis de grado/datos/Procesados/Obtenidos/S&H/patron_cabezaHombros_23_23_EURUSD.csv')))\n",
        "\n",
        "# Use of the trained model to evaluate the data\n",
        "prediction = model.predict(r)\n",
        "\n",
        "# Detection accuracy \n",
        "accuracy_data = 0.95\n",
        "\n",
        "# Configuration of the pattern to be identified\n",
        "pattern_to_detect = 's&h'\n",
        "types_pattern = {\n",
        "    's&h': 0,\n",
        "    'dt': 1\n",
        "}\n",
        "position_serie = types_pattern[pattern_to_detect]\n",
        "\n",
        "aux = 0\n",
        "for item in prediction:\n",
        "  if item[position_serie] > accuracy_data:\n",
        "    aux = aux + 1\n",
        "\n",
        "# Number of patterns found in the data set\n",
        "print('Patterns detect: ', aux)\n"
      ]
    },
    {
      "cell_type": "markdown",
      "source": [
        "---"
      ],
      "metadata": {
        "id": "7c5s3U31UiJL"
      }
    },
    {
      "cell_type": "markdown",
      "source": [
        "#Real-time pattern identification\n",
        "Module to identify a certain pattern chosen within a market. For this it communicates through an API with the data of a particular market and every minute with the new information about the formation of a new Japanese candlestick is analyzed for the possible presence of a pattern."
      ],
      "metadata": {
        "id": "VrWGw0GgUkzy"
      }
    },
    {
      "cell_type": "code",
      "source": [
        "import time\n",
        "from datetime import datetime\n",
        "from datetime import timedelta\n",
        "import requests\n",
        "\n",
        "# Configuration variables on the API \n",
        "currency = \"EURUSD\"\n",
        "api_key = \"*************\"\n",
        "time_str = '01-09-2021 11:12'\n",
        "date_format_str = '%d-%m-%Y %H:%M'\n",
        "\n",
        "given_time = datetime.strptime(time_str, date_format_str)\n",
        "accuracy_pattern = 0.95\n",
        "pattern_size = 28\n",
        "aux_windows_pattern = []\n",
        "\n",
        "# Type of pattern to be identified\n",
        "pattern_to_detect = 's&h'\n",
        "types_pattern = {\n",
        "    's&h': 0,\n",
        "    'dt': 1\n",
        "}\n",
        "position_serie = types_pattern[pattern_to_detect]\n",
        "\n",
        "# Market data are processed in this function, provided that there is a previous buffer of data to contain a pattern.\n",
        "# When the information is processed, the market data is transformed by GAF, then it goes through the trained model.\n",
        "# If a pattern is identified above the agreed upon presicion, it is reported and displayed on the screen.\n",
        "def build_data_predict(data):\n",
        "  if len(aux_windows_pattern) == pattern_size:\n",
        "    df = pd.DataFrame(aux_windows_pattern)\n",
        "    prediction = model.predict(create_gaf(create_serie(df,'high','low','open','close')))\n",
        "    if prediction[0][position_serie] > accuracy_pattern:\n",
        "      print('Prediction of ',prediction[0][position_serie])\n",
        "      pattern_show_image('signal', df, 'high','low','open','close')\n",
        "    else:\n",
        "      print('Pattern not detect. Prediction of ',prediction[0][position_serie])\n",
        "    aux_windows_pattern.append(data)\n",
        "    aux_windows_pattern.pop(0)\n",
        "  else:\n",
        "    aux_windows_pattern.append(data)\n",
        "\n",
        "\n",
        "# Time loop, advancing one minute at a time and calling the API and entering the obtained data to a function.\n",
        "while True:\n",
        "    given_time = given_time + timedelta(minutes=1)\n",
        "    aux_date = str(given_time).replace(\" \", \"-\")\n",
        "    url = \"https://marketdata.tradermade.com/api/v1/minute_historical?currency=\"+str(currency)+\"&date_time=\"+str(aux_date[0:16])+\"&api_key=\"+str(api_key)\n",
        "    response = requests.get(url)\n",
        "    build_data_predict(response.json())\n",
        "    time.sleep(60)\n",
        "\n",
        "\n",
        "\n",
        "\n"
      ],
      "metadata": {
        "colab": {
          "base_uri": "https://localhost:8080/",
          "height": 391
        },
        "id": "8YMNF2KV_uml",
        "outputId": "6430b0e0-b557-4cb3-e49e-6f80930bcfc3"
      },
      "execution_count": 7,
      "outputs": [
        {
          "output_type": "stream",
          "name": "stdout",
          "text": [
            "Prediction of  0.07244052\n",
            "Prediction of  0.07244052\n",
            "Prediction of  0.07244052\n",
            "Prediction of  0.07244052\n",
            "Prediction of  0.07244052\n",
            "Prediction of  0.07244052\n",
            "Prediction of  0.07244052\n",
            "Prediction of  0.07244052\n",
            "Prediction of  0.07244052\n"
          ]
        },
        {
          "output_type": "error",
          "ename": "KeyboardInterrupt",
          "evalue": "ignored",
          "traceback": [
            "\u001b[0;31m---------------------------------------------------------------------------\u001b[0m",
            "\u001b[0;31mKeyboardInterrupt\u001b[0m                         Traceback (most recent call last)",
            "\u001b[0;32m<ipython-input-7-c760129795dd>\u001b[0m in \u001b[0;36m<module>\u001b[0;34m\u001b[0m\n\u001b[1;32m     46\u001b[0m             'request_time': 'Sat, 01 Oct 2022 21:51:24 GMT'}\n\u001b[1;32m     47\u001b[0m     \u001b[0mbuild_data_predict\u001b[0m\u001b[0;34m(\u001b[0m\u001b[0mdata\u001b[0m\u001b[0;34m)\u001b[0m\u001b[0;34m\u001b[0m\u001b[0;34m\u001b[0m\u001b[0m\n\u001b[0;32m---> 48\u001b[0;31m     \u001b[0mtime\u001b[0m\u001b[0;34m.\u001b[0m\u001b[0msleep\u001b[0m\u001b[0;34m(\u001b[0m\u001b[0;36m1\u001b[0m\u001b[0;34m)\u001b[0m\u001b[0;34m\u001b[0m\u001b[0;34m\u001b[0m\u001b[0m\n\u001b[0m\u001b[1;32m     49\u001b[0m \u001b[0;34m\u001b[0m\u001b[0m\n\u001b[1;32m     50\u001b[0m \u001b[0;34m\u001b[0m\u001b[0m\n",
            "\u001b[0;31mKeyboardInterrupt\u001b[0m: "
          ]
        }
      ]
    }
  ]
}